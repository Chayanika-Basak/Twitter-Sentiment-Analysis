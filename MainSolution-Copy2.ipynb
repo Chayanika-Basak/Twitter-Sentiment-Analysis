{
 "cells": [
  {
   "cell_type": "markdown",
   "id": "3ba90bc2-d9cf-4ead-ab7a-8f3bc185eb7f",
   "metadata": {},
   "source": [
    "# Sentiment Analysis\n",
    "\n",
    "What is sentiment analysis, it is primarily the way through which the emotion within a text can be interpreted and hence classified. Thus, in the machine learning terms we can say that it is a classification problem which the the output is going to be discrete values.\n",
    "Here, in the case of Twitter Sentiment Analysis, we are going to analysis the text and interpret whether the emotion underlysis is Positive, Negative or Neutral."
   ]
  },
  {
   "cell_type": "markdown",
   "id": "364d6afb-9938-4514-a791-9f8f745e8faa",
   "metadata": {},
   "source": [
    "# Importing predefined libraries"
   ]
  },
  {
   "cell_type": "code",
   "execution_count": 1,
   "id": "12595460-b566-4847-9b05-a1b40dfede35",
   "metadata": {},
   "outputs": [],
   "source": [
    "import numpy as np\n",
    "import pandas as pd\n",
    "import matplotlib.pyplot as plt\n",
    "import seaborn as sns\n",
    "import re\n",
    "import importlib\n",
    "from sklearn.model_selection import train_test_split\n",
    "from sklearn.naive_bayes import BernoulliNB\n",
    "from sklearn.naive_bayes import MultinomialNB\n",
    "from sklearn.svm import LinearSVC\n",
    "from sklearn.linear_model import LogisticRegression\n",
    "import time\n",
    "from sklearn.model_selection import KFold, cross_val_score\n",
    "from sklearn import metrics\n",
    "import warnings\n",
    "warnings.filterwarnings(\"ignore\")\n",
    "from sklearn.metrics import accuracy_score, precision_score, recall_score, f1_score, log_loss, fbeta_score\n",
    "from sklearn.metrics import auc, roc_curve, roc_auc_score, precision_recall_curve\n",
    "from sklearn.metrics import confusion_matrix, classification_report\n",
    "from sklearn.model_selection import train_test_split\n",
    "from sklearn.metrics import roc_auc_score, roc_curve\n",
    "from sklearn.model_selection import GridSearchCV"
   ]
  },
  {
   "cell_type": "markdown",
   "id": "20fa0bf2-e9f5-4709-8654-19c2a4e988ad",
   "metadata": {},
   "source": [
    "# Importing self-made modules"
   ]
  },
  {
   "cell_type": "code",
   "execution_count": 2,
   "id": "64b51f52-23d4-402c-9af1-07e5c442f171",
   "metadata": {},
   "outputs": [
    {
     "name": "stderr",
     "output_type": "stream",
     "text": [
      "[nltk_data] Downloading package stopwords to\n",
      "[nltk_data]     C:\\Users\\asus\\AppData\\Roaming\\nltk_data...\n",
      "[nltk_data]   Package stopwords is already up-to-date!\n",
      "[nltk_data] Downloading package wordnet to\n",
      "[nltk_data]     C:\\Users\\asus\\AppData\\Roaming\\nltk_data...\n",
      "[nltk_data]   Package wordnet is already up-to-date!\n",
      "[nltk_data] Downloading package stopwords to\n",
      "[nltk_data]     C:\\Users\\asus\\AppData\\Roaming\\nltk_data...\n",
      "[nltk_data]   Package stopwords is already up-to-date!\n",
      "[nltk_data] Downloading package wordnet to\n",
      "[nltk_data]     C:\\Users\\asus\\AppData\\Roaming\\nltk_data...\n",
      "[nltk_data]   Package wordnet is already up-to-date!\n"
     ]
    },
    {
     "data": {
      "text/plain": [
       "<module 'evaluating' from 'C:\\\\Users\\\\asus\\\\Desktop\\\\AI-ML_Month_Major_Project\\\\evaluating.py'>"
      ]
     },
     "execution_count": 2,
     "metadata": {},
     "output_type": "execute_result"
    }
   ],
   "source": [
    "import dictionaries\n",
    "importlib.reload(dictionaries)\n",
    "import evaluating\n",
    "importlib.reload(evaluating)"
   ]
  },
  {
   "cell_type": "markdown",
   "id": "7b561792-052d-4201-a2c2-6d702546209c",
   "metadata": {},
   "source": [
    "**dictionaries.py** : Contains \n",
    "1. A list of stopwords that need to be removed in order to make sure that they do not appear as the most important words in our algo due to their large frequency.\n",
    "2. A dictionary to replace emojis with words corresponding to their meaning.\n",
    "3. A function called **preprocess(textdata)** which performs preprocessing of data\n",
    "4. A function **vectorizes(X_train, y_train)** to create the TF-IDF matrix for the tweets\n",
    "5. A function **predict(vectorizer,model, text)** to make predictions based on a particular model"
   ]
  },
  {
   "cell_type": "markdown",
   "id": "2d8cefd7-8ae3-4530-aa0b-d042c7bf4cb8",
   "metadata": {},
   "source": [
    "**evaluating.py** : Contains function **EvaluatingModel(model-name,x_test,y_test,font)** that evaluates the model passed to it based on the testing data provided and generates a table containing precision, recall and f1-score. It also generates a confusion matrix."
   ]
  },
  {
   "cell_type": "code",
   "execution_count": 3,
   "id": "ac60e8bc-37b4-4f73-a58a-ae29b73f465a",
   "metadata": {},
   "outputs": [],
   "source": [
    "font = {'family': 'serif',\n",
    "        'color':  'white',\n",
    "        'weight': 'bold',\n",
    "        'size': 16,\n",
    "        }"
   ]
  },
  {
   "cell_type": "markdown",
   "id": "a2dd3599-86e6-4439-acbd-3d5ea9879648",
   "metadata": {},
   "source": [
    "# Reading Data"
   ]
  },
  {
   "cell_type": "code",
   "execution_count": 4,
   "id": "ff5445c3-7de5-429e-8c13-d74f6b0aacdf",
   "metadata": {},
   "outputs": [],
   "source": [
    "df = pd.read_csv('TwitterSentimentAnalysisDataset.csv',encoding='windows-1252',names=['Target','ID','Date','Flag','User','Text'])"
   ]
  },
  {
   "cell_type": "markdown",
   "id": "95308d33-848b-4b3e-86d8-3f24d3ec7e07",
   "metadata": {},
   "source": [
    "# Exploratory Data Analysis"
   ]
  },
  {
   "cell_type": "code",
   "execution_count": 5,
   "id": "b37d9b7e-7e4e-433b-853f-5b260c4ca468",
   "metadata": {},
   "outputs": [
    {
     "data": {
      "text/plain": [
       "(1600000, 6)"
      ]
     },
     "execution_count": 5,
     "metadata": {},
     "output_type": "execute_result"
    }
   ],
   "source": [
    "df.shape"
   ]
  },
  {
   "cell_type": "code",
   "execution_count": 6,
   "id": "d1592e20-e830-43f0-9d2f-ff0c5dc6d028",
   "metadata": {},
   "outputs": [
    {
     "data": {
      "text/html": [
       "<div>\n",
       "<style scoped>\n",
       "    .dataframe tbody tr th:only-of-type {\n",
       "        vertical-align: middle;\n",
       "    }\n",
       "\n",
       "    .dataframe tbody tr th {\n",
       "        vertical-align: top;\n",
       "    }\n",
       "\n",
       "    .dataframe thead th {\n",
       "        text-align: right;\n",
       "    }\n",
       "</style>\n",
       "<table border=\"1\" class=\"dataframe\">\n",
       "  <thead>\n",
       "    <tr style=\"text-align: right;\">\n",
       "      <th></th>\n",
       "      <th>Target</th>\n",
       "      <th>ID</th>\n",
       "      <th>Date</th>\n",
       "      <th>Flag</th>\n",
       "      <th>User</th>\n",
       "      <th>Text</th>\n",
       "    </tr>\n",
       "  </thead>\n",
       "  <tbody>\n",
       "    <tr>\n",
       "      <th>0</th>\n",
       "      <td>0</td>\n",
       "      <td>1467810369</td>\n",
       "      <td>Mon Apr 06 22:19:45 PDT 2009</td>\n",
       "      <td>NO_QUERY</td>\n",
       "      <td>_TheSpecialOne_</td>\n",
       "      <td>@switchfoot http://twitpic.com/2y1zl - Awww, t...</td>\n",
       "    </tr>\n",
       "    <tr>\n",
       "      <th>1</th>\n",
       "      <td>0</td>\n",
       "      <td>1467810672</td>\n",
       "      <td>Mon Apr 06 22:19:49 PDT 2009</td>\n",
       "      <td>NO_QUERY</td>\n",
       "      <td>scotthamilton</td>\n",
       "      <td>is upset that he can't update his Facebook by ...</td>\n",
       "    </tr>\n",
       "    <tr>\n",
       "      <th>2</th>\n",
       "      <td>0</td>\n",
       "      <td>1467810917</td>\n",
       "      <td>Mon Apr 06 22:19:53 PDT 2009</td>\n",
       "      <td>NO_QUERY</td>\n",
       "      <td>mattycus</td>\n",
       "      <td>@Kenichan I dived many times for the ball. Man...</td>\n",
       "    </tr>\n",
       "    <tr>\n",
       "      <th>3</th>\n",
       "      <td>0</td>\n",
       "      <td>1467811184</td>\n",
       "      <td>Mon Apr 06 22:19:57 PDT 2009</td>\n",
       "      <td>NO_QUERY</td>\n",
       "      <td>ElleCTF</td>\n",
       "      <td>my whole body feels itchy and like its on fire</td>\n",
       "    </tr>\n",
       "    <tr>\n",
       "      <th>4</th>\n",
       "      <td>0</td>\n",
       "      <td>1467811193</td>\n",
       "      <td>Mon Apr 06 22:19:57 PDT 2009</td>\n",
       "      <td>NO_QUERY</td>\n",
       "      <td>Karoli</td>\n",
       "      <td>@nationwideclass no, it's not behaving at all....</td>\n",
       "    </tr>\n",
       "  </tbody>\n",
       "</table>\n",
       "</div>"
      ],
      "text/plain": [
       "   Target          ID                          Date      Flag  \\\n",
       "0       0  1467810369  Mon Apr 06 22:19:45 PDT 2009  NO_QUERY   \n",
       "1       0  1467810672  Mon Apr 06 22:19:49 PDT 2009  NO_QUERY   \n",
       "2       0  1467810917  Mon Apr 06 22:19:53 PDT 2009  NO_QUERY   \n",
       "3       0  1467811184  Mon Apr 06 22:19:57 PDT 2009  NO_QUERY   \n",
       "4       0  1467811193  Mon Apr 06 22:19:57 PDT 2009  NO_QUERY   \n",
       "\n",
       "              User                                               Text  \n",
       "0  _TheSpecialOne_  @switchfoot http://twitpic.com/2y1zl - Awww, t...  \n",
       "1    scotthamilton  is upset that he can't update his Facebook by ...  \n",
       "2         mattycus  @Kenichan I dived many times for the ball. Man...  \n",
       "3          ElleCTF    my whole body feels itchy and like its on fire   \n",
       "4           Karoli  @nationwideclass no, it's not behaving at all....  "
      ]
     },
     "execution_count": 6,
     "metadata": {},
     "output_type": "execute_result"
    }
   ],
   "source": [
    "df.head()"
   ]
  },
  {
   "cell_type": "code",
   "execution_count": 7,
   "id": "552f80cd-ac3e-4fb1-83b2-cdcf1a71db50",
   "metadata": {},
   "outputs": [
    {
     "data": {
      "text/html": [
       "<div>\n",
       "<style scoped>\n",
       "    .dataframe tbody tr th:only-of-type {\n",
       "        vertical-align: middle;\n",
       "    }\n",
       "\n",
       "    .dataframe tbody tr th {\n",
       "        vertical-align: top;\n",
       "    }\n",
       "\n",
       "    .dataframe thead th {\n",
       "        text-align: right;\n",
       "    }\n",
       "</style>\n",
       "<table border=\"1\" class=\"dataframe\">\n",
       "  <thead>\n",
       "    <tr style=\"text-align: right;\">\n",
       "      <th></th>\n",
       "      <th>Target</th>\n",
       "      <th>ID</th>\n",
       "      <th>Date</th>\n",
       "      <th>Flag</th>\n",
       "      <th>User</th>\n",
       "      <th>Text</th>\n",
       "    </tr>\n",
       "  </thead>\n",
       "  <tbody>\n",
       "    <tr>\n",
       "      <th>561460</th>\n",
       "      <td>0</td>\n",
       "      <td>2205426244</td>\n",
       "      <td>Wed Jun 17 04:42:48 PDT 2009</td>\n",
       "      <td>NO_QUERY</td>\n",
       "      <td>BurntCaramel</td>\n",
       "      <td>@mjsluijs  Nah.. Most of the antivirus program...</td>\n",
       "    </tr>\n",
       "    <tr>\n",
       "      <th>1570185</th>\n",
       "      <td>4</td>\n",
       "      <td>2188543728</td>\n",
       "      <td>Mon Jun 15 22:05:33 PDT 2009</td>\n",
       "      <td>NO_QUERY</td>\n",
       "      <td>gab_iii</td>\n",
       "      <td>@zacseif fly to arizona and we'll have video g...</td>\n",
       "    </tr>\n",
       "    <tr>\n",
       "      <th>58096</th>\n",
       "      <td>0</td>\n",
       "      <td>1685820960</td>\n",
       "      <td>Sun May 03 02:15:21 PDT 2009</td>\n",
       "      <td>NO_QUERY</td>\n",
       "      <td>NoSheds</td>\n",
       "      <td>@stephenfry I think you killed mobypic - Site ...</td>\n",
       "    </tr>\n",
       "    <tr>\n",
       "      <th>283874</th>\n",
       "      <td>0</td>\n",
       "      <td>1993027493</td>\n",
       "      <td>Mon Jun 01 09:42:50 PDT 2009</td>\n",
       "      <td>NO_QUERY</td>\n",
       "      <td>carebearrr</td>\n",
       "      <td>@mileycyrus and we're gonna miss  you guys so ...</td>\n",
       "    </tr>\n",
       "    <tr>\n",
       "      <th>34009</th>\n",
       "      <td>0</td>\n",
       "      <td>1564669484</td>\n",
       "      <td>Mon Apr 20 04:29:22 PDT 2009</td>\n",
       "      <td>NO_QUERY</td>\n",
       "      <td>timaree</td>\n",
       "      <td>so tired this morning</td>\n",
       "    </tr>\n",
       "    <tr>\n",
       "      <th>801000</th>\n",
       "      <td>4</td>\n",
       "      <td>1468005634</td>\n",
       "      <td>Mon Apr 06 23:13:16 PDT 2009</td>\n",
       "      <td>NO_QUERY</td>\n",
       "      <td>MerCleve</td>\n",
       "      <td>@matt_the_great forget the rest...You need to ...</td>\n",
       "    </tr>\n",
       "    <tr>\n",
       "      <th>1066153</th>\n",
       "      <td>4</td>\n",
       "      <td>1965220208</td>\n",
       "      <td>Fri May 29 15:32:16 PDT 2009</td>\n",
       "      <td>NO_QUERY</td>\n",
       "      <td>jemcsh</td>\n",
       "      <td>@tommcfly ur prince harry came to the usa, so ...</td>\n",
       "    </tr>\n",
       "    <tr>\n",
       "      <th>796932</th>\n",
       "      <td>0</td>\n",
       "      <td>2327967353</td>\n",
       "      <td>Thu Jun 25 09:00:32 PDT 2009</td>\n",
       "      <td>NO_QUERY</td>\n",
       "      <td>evestirling</td>\n",
       "      <td>@DrJoolz thanks, I went there before...it does...</td>\n",
       "    </tr>\n",
       "    <tr>\n",
       "      <th>1345228</th>\n",
       "      <td>4</td>\n",
       "      <td>2043955672</td>\n",
       "      <td>Fri Jun 05 08:39:37 PDT 2009</td>\n",
       "      <td>NO_QUERY</td>\n",
       "      <td>jclanger</td>\n",
       "      <td>change of plans  sims party tonight and then t...</td>\n",
       "    </tr>\n",
       "    <tr>\n",
       "      <th>415064</th>\n",
       "      <td>0</td>\n",
       "      <td>2060975737</td>\n",
       "      <td>Sat Jun 06 19:56:30 PDT 2009</td>\n",
       "      <td>NO_QUERY</td>\n",
       "      <td>Valv30</td>\n",
       "      <td>@Twisted4Jordan I am sad bout that.  But this ...</td>\n",
       "    </tr>\n",
       "  </tbody>\n",
       "</table>\n",
       "</div>"
      ],
      "text/plain": [
       "         Target          ID                          Date      Flag  \\\n",
       "561460        0  2205426244  Wed Jun 17 04:42:48 PDT 2009  NO_QUERY   \n",
       "1570185       4  2188543728  Mon Jun 15 22:05:33 PDT 2009  NO_QUERY   \n",
       "58096         0  1685820960  Sun May 03 02:15:21 PDT 2009  NO_QUERY   \n",
       "283874        0  1993027493  Mon Jun 01 09:42:50 PDT 2009  NO_QUERY   \n",
       "34009         0  1564669484  Mon Apr 20 04:29:22 PDT 2009  NO_QUERY   \n",
       "801000        4  1468005634  Mon Apr 06 23:13:16 PDT 2009  NO_QUERY   \n",
       "1066153       4  1965220208  Fri May 29 15:32:16 PDT 2009  NO_QUERY   \n",
       "796932        0  2327967353  Thu Jun 25 09:00:32 PDT 2009  NO_QUERY   \n",
       "1345228       4  2043955672  Fri Jun 05 08:39:37 PDT 2009  NO_QUERY   \n",
       "415064        0  2060975737  Sat Jun 06 19:56:30 PDT 2009  NO_QUERY   \n",
       "\n",
       "                 User                                               Text  \n",
       "561460   BurntCaramel  @mjsluijs  Nah.. Most of the antivirus program...  \n",
       "1570185       gab_iii  @zacseif fly to arizona and we'll have video g...  \n",
       "58096         NoSheds  @stephenfry I think you killed mobypic - Site ...  \n",
       "283874     carebearrr  @mileycyrus and we're gonna miss  you guys so ...  \n",
       "34009         timaree                             so tired this morning   \n",
       "801000       MerCleve  @matt_the_great forget the rest...You need to ...  \n",
       "1066153        jemcsh  @tommcfly ur prince harry came to the usa, so ...  \n",
       "796932    evestirling  @DrJoolz thanks, I went there before...it does...  \n",
       "1345228      jclanger  change of plans  sims party tonight and then t...  \n",
       "415064         Valv30  @Twisted4Jordan I am sad bout that.  But this ...  "
      ]
     },
     "execution_count": 7,
     "metadata": {},
     "output_type": "execute_result"
    }
   ],
   "source": [
    "df.sample(n=10,random_state=15)"
   ]
  },
  {
   "cell_type": "code",
   "execution_count": 8,
   "id": "e4b616bf-ea88-48ff-83ba-83d99499bba5",
   "metadata": {},
   "outputs": [
    {
     "data": {
      "text/plain": [
       "Index(['Target', 'ID', 'Date', 'Flag', 'User', 'Text'], dtype='object')"
      ]
     },
     "execution_count": 8,
     "metadata": {},
     "output_type": "execute_result"
    }
   ],
   "source": [
    "df.columns"
   ]
  },
  {
   "cell_type": "code",
   "execution_count": 9,
   "id": "613268d6-62b6-4e92-9810-6b5f04cddbc1",
   "metadata": {},
   "outputs": [
    {
     "name": "stdout",
     "output_type": "stream",
     "text": [
      "<class 'pandas.core.frame.DataFrame'>\n",
      "RangeIndex: 1600000 entries, 0 to 1599999\n",
      "Data columns (total 6 columns):\n",
      " #   Column  Non-Null Count    Dtype \n",
      "---  ------  --------------    ----- \n",
      " 0   Target  1600000 non-null  int64 \n",
      " 1   ID      1600000 non-null  int64 \n",
      " 2   Date    1600000 non-null  object\n",
      " 3   Flag    1600000 non-null  object\n",
      " 4   User    1600000 non-null  object\n",
      " 5   Text    1600000 non-null  object\n",
      "dtypes: int64(2), object(4)\n",
      "memory usage: 73.2+ MB\n"
     ]
    }
   ],
   "source": [
    "df.info()"
   ]
  },
  {
   "cell_type": "code",
   "execution_count": 10,
   "id": "8b6b6811-402d-4bbf-baa8-8213db82ab77",
   "metadata": {},
   "outputs": [
    {
     "data": {
      "text/plain": [
       "1"
      ]
     },
     "execution_count": 10,
     "metadata": {},
     "output_type": "execute_result"
    }
   ],
   "source": [
    "df['Flag'].nunique()"
   ]
  },
  {
   "cell_type": "markdown",
   "id": "2cde737b-6705-4681-aae6-ecb5cedc0a7d",
   "metadata": {},
   "source": [
    "Dropping 'Flag' column as it has the same value for all records"
   ]
  },
  {
   "cell_type": "code",
   "execution_count": 11,
   "id": "846b7e8b-2d13-4cba-9149-1d2c0be02b3e",
   "metadata": {},
   "outputs": [],
   "source": [
    "df = df.drop('Flag',axis=1)"
   ]
  },
  {
   "cell_type": "code",
   "execution_count": 12,
   "id": "57ca4470-1522-4dca-99ac-2be31b08b0e5",
   "metadata": {},
   "outputs": [
    {
     "data": {
      "text/html": [
       "<div>\n",
       "<style scoped>\n",
       "    .dataframe tbody tr th:only-of-type {\n",
       "        vertical-align: middle;\n",
       "    }\n",
       "\n",
       "    .dataframe tbody tr th {\n",
       "        vertical-align: top;\n",
       "    }\n",
       "\n",
       "    .dataframe thead th {\n",
       "        text-align: right;\n",
       "    }\n",
       "</style>\n",
       "<table border=\"1\" class=\"dataframe\">\n",
       "  <thead>\n",
       "    <tr style=\"text-align: right;\">\n",
       "      <th></th>\n",
       "      <th>Target</th>\n",
       "      <th>ID</th>\n",
       "      <th>Date</th>\n",
       "      <th>User</th>\n",
       "      <th>Text</th>\n",
       "    </tr>\n",
       "  </thead>\n",
       "  <tbody>\n",
       "    <tr>\n",
       "      <th>0</th>\n",
       "      <td>0</td>\n",
       "      <td>1467810369</td>\n",
       "      <td>Mon Apr 06 22:19:45 PDT 2009</td>\n",
       "      <td>_TheSpecialOne_</td>\n",
       "      <td>@switchfoot http://twitpic.com/2y1zl - Awww, t...</td>\n",
       "    </tr>\n",
       "    <tr>\n",
       "      <th>1</th>\n",
       "      <td>0</td>\n",
       "      <td>1467810672</td>\n",
       "      <td>Mon Apr 06 22:19:49 PDT 2009</td>\n",
       "      <td>scotthamilton</td>\n",
       "      <td>is upset that he can't update his Facebook by ...</td>\n",
       "    </tr>\n",
       "    <tr>\n",
       "      <th>2</th>\n",
       "      <td>0</td>\n",
       "      <td>1467810917</td>\n",
       "      <td>Mon Apr 06 22:19:53 PDT 2009</td>\n",
       "      <td>mattycus</td>\n",
       "      <td>@Kenichan I dived many times for the ball. Man...</td>\n",
       "    </tr>\n",
       "    <tr>\n",
       "      <th>3</th>\n",
       "      <td>0</td>\n",
       "      <td>1467811184</td>\n",
       "      <td>Mon Apr 06 22:19:57 PDT 2009</td>\n",
       "      <td>ElleCTF</td>\n",
       "      <td>my whole body feels itchy and like its on fire</td>\n",
       "    </tr>\n",
       "    <tr>\n",
       "      <th>4</th>\n",
       "      <td>0</td>\n",
       "      <td>1467811193</td>\n",
       "      <td>Mon Apr 06 22:19:57 PDT 2009</td>\n",
       "      <td>Karoli</td>\n",
       "      <td>@nationwideclass no, it's not behaving at all....</td>\n",
       "    </tr>\n",
       "    <tr>\n",
       "      <th>...</th>\n",
       "      <td>...</td>\n",
       "      <td>...</td>\n",
       "      <td>...</td>\n",
       "      <td>...</td>\n",
       "      <td>...</td>\n",
       "    </tr>\n",
       "    <tr>\n",
       "      <th>1599995</th>\n",
       "      <td>4</td>\n",
       "      <td>2193601966</td>\n",
       "      <td>Tue Jun 16 08:40:49 PDT 2009</td>\n",
       "      <td>AmandaMarie1028</td>\n",
       "      <td>Just woke up. Having no school is the best fee...</td>\n",
       "    </tr>\n",
       "    <tr>\n",
       "      <th>1599996</th>\n",
       "      <td>4</td>\n",
       "      <td>2193601969</td>\n",
       "      <td>Tue Jun 16 08:40:49 PDT 2009</td>\n",
       "      <td>TheWDBoards</td>\n",
       "      <td>TheWDB.com - Very cool to hear old Walt interv...</td>\n",
       "    </tr>\n",
       "    <tr>\n",
       "      <th>1599997</th>\n",
       "      <td>4</td>\n",
       "      <td>2193601991</td>\n",
       "      <td>Tue Jun 16 08:40:49 PDT 2009</td>\n",
       "      <td>bpbabe</td>\n",
       "      <td>Are you ready for your MoJo Makeover? Ask me f...</td>\n",
       "    </tr>\n",
       "    <tr>\n",
       "      <th>1599998</th>\n",
       "      <td>4</td>\n",
       "      <td>2193602064</td>\n",
       "      <td>Tue Jun 16 08:40:49 PDT 2009</td>\n",
       "      <td>tinydiamondz</td>\n",
       "      <td>Happy 38th Birthday to my boo of alll time!!! ...</td>\n",
       "    </tr>\n",
       "    <tr>\n",
       "      <th>1599999</th>\n",
       "      <td>4</td>\n",
       "      <td>2193602129</td>\n",
       "      <td>Tue Jun 16 08:40:50 PDT 2009</td>\n",
       "      <td>RyanTrevMorris</td>\n",
       "      <td>happy #charitytuesday @theNSPCC @SparksCharity...</td>\n",
       "    </tr>\n",
       "  </tbody>\n",
       "</table>\n",
       "<p>1600000 rows × 5 columns</p>\n",
       "</div>"
      ],
      "text/plain": [
       "         Target          ID                          Date             User  \\\n",
       "0             0  1467810369  Mon Apr 06 22:19:45 PDT 2009  _TheSpecialOne_   \n",
       "1             0  1467810672  Mon Apr 06 22:19:49 PDT 2009    scotthamilton   \n",
       "2             0  1467810917  Mon Apr 06 22:19:53 PDT 2009         mattycus   \n",
       "3             0  1467811184  Mon Apr 06 22:19:57 PDT 2009          ElleCTF   \n",
       "4             0  1467811193  Mon Apr 06 22:19:57 PDT 2009           Karoli   \n",
       "...         ...         ...                           ...              ...   \n",
       "1599995       4  2193601966  Tue Jun 16 08:40:49 PDT 2009  AmandaMarie1028   \n",
       "1599996       4  2193601969  Tue Jun 16 08:40:49 PDT 2009      TheWDBoards   \n",
       "1599997       4  2193601991  Tue Jun 16 08:40:49 PDT 2009           bpbabe   \n",
       "1599998       4  2193602064  Tue Jun 16 08:40:49 PDT 2009     tinydiamondz   \n",
       "1599999       4  2193602129  Tue Jun 16 08:40:50 PDT 2009   RyanTrevMorris   \n",
       "\n",
       "                                                      Text  \n",
       "0        @switchfoot http://twitpic.com/2y1zl - Awww, t...  \n",
       "1        is upset that he can't update his Facebook by ...  \n",
       "2        @Kenichan I dived many times for the ball. Man...  \n",
       "3          my whole body feels itchy and like its on fire   \n",
       "4        @nationwideclass no, it's not behaving at all....  \n",
       "...                                                    ...  \n",
       "1599995  Just woke up. Having no school is the best fee...  \n",
       "1599996  TheWDB.com - Very cool to hear old Walt interv...  \n",
       "1599997  Are you ready for your MoJo Makeover? Ask me f...  \n",
       "1599998  Happy 38th Birthday to my boo of alll time!!! ...  \n",
       "1599999  happy #charitytuesday @theNSPCC @SparksCharity...  \n",
       "\n",
       "[1600000 rows x 5 columns]"
      ]
     },
     "execution_count": 12,
     "metadata": {},
     "output_type": "execute_result"
    }
   ],
   "source": [
    "df"
   ]
  },
  {
   "cell_type": "code",
   "execution_count": 13,
   "id": "86cca847-8fc5-47f6-9aa6-260f6b47fdb4",
   "metadata": {},
   "outputs": [
    {
     "data": {
      "text/plain": [
       "Target     int64\n",
       "ID         int64\n",
       "Date      object\n",
       "User      object\n",
       "Text      object\n",
       "dtype: object"
      ]
     },
     "execution_count": 13,
     "metadata": {},
     "output_type": "execute_result"
    }
   ],
   "source": [
    "df.dtypes"
   ]
  },
  {
   "cell_type": "code",
   "execution_count": 14,
   "id": "825f25d7-07b0-4a63-91ee-4fc0dac7a825",
   "metadata": {},
   "outputs": [
    {
     "data": {
      "text/plain": [
       "0    Mon Apr 06 22:19:45 PDT 2009\n",
       "1    Mon Apr 06 22:19:49 PDT 2009\n",
       "2    Mon Apr 06 22:19:53 PDT 2009\n",
       "3    Mon Apr 06 22:19:57 PDT 2009\n",
       "4    Mon Apr 06 22:19:57 PDT 2009\n",
       "Name: Date, dtype: object"
      ]
     },
     "execution_count": 14,
     "metadata": {},
     "output_type": "execute_result"
    }
   ],
   "source": [
    "df['Date'].head()"
   ]
  },
  {
   "cell_type": "code",
   "execution_count": 15,
   "id": "8c1bb66c-0f18-491f-9104-f43871da1fee",
   "metadata": {},
   "outputs": [
    {
     "data": {
      "text/plain": [
       "0          Mon Apr 06 22:19:45 PDT 2009\n",
       "1          Mon Apr 06 22:19:49 PDT 2009\n",
       "2          Mon Apr 06 22:19:53 PDT 2009\n",
       "3          Mon Apr 06 22:19:57 PDT 2009\n",
       "4          Mon Apr 06 22:19:57 PDT 2009\n",
       "                       ...             \n",
       "1599995    Tue Jun 16 08:40:49 PDT 2009\n",
       "1599996    Tue Jun 16 08:40:49 PDT 2009\n",
       "1599997    Tue Jun 16 08:40:49 PDT 2009\n",
       "1599998    Tue Jun 16 08:40:49 PDT 2009\n",
       "1599999    Tue Jun 16 08:40:50 PDT 2009\n",
       "Name: Date, Length: 1600000, dtype: object"
      ]
     },
     "execution_count": 15,
     "metadata": {},
     "output_type": "execute_result"
    }
   ],
   "source": [
    "df['Date']"
   ]
  },
  {
   "cell_type": "code",
   "execution_count": null,
   "id": "ac3ddc52-4c38-4203-ab68-e19dbbb2d0a0",
   "metadata": {},
   "outputs": [],
   "source": []
  },
  {
   "cell_type": "markdown",
   "id": "5a8f9325-c8cb-4db5-af5c-fde0a07eb64b",
   "metadata": {},
   "source": [
    "Removing time zone as it is same for all records"
   ]
  },
  {
   "cell_type": "code",
   "execution_count": 16,
   "id": "ae571cb0-005b-49e8-bd1f-a683bb370a7f",
   "metadata": {},
   "outputs": [],
   "source": [
    "df['Date'] = df['Date'].str.replace(' PDT 2009','')"
   ]
  },
  {
   "cell_type": "code",
   "execution_count": 17,
   "id": "3690840c-9685-48a6-956c-83bcb610db55",
   "metadata": {},
   "outputs": [
    {
     "data": {
      "text/html": [
       "<div>\n",
       "<style scoped>\n",
       "    .dataframe tbody tr th:only-of-type {\n",
       "        vertical-align: middle;\n",
       "    }\n",
       "\n",
       "    .dataframe tbody tr th {\n",
       "        vertical-align: top;\n",
       "    }\n",
       "\n",
       "    .dataframe thead th {\n",
       "        text-align: right;\n",
       "    }\n",
       "</style>\n",
       "<table border=\"1\" class=\"dataframe\">\n",
       "  <thead>\n",
       "    <tr style=\"text-align: right;\">\n",
       "      <th></th>\n",
       "      <th>Target</th>\n",
       "      <th>ID</th>\n",
       "      <th>Date</th>\n",
       "      <th>User</th>\n",
       "      <th>Text</th>\n",
       "    </tr>\n",
       "  </thead>\n",
       "  <tbody>\n",
       "    <tr>\n",
       "      <th>0</th>\n",
       "      <td>0</td>\n",
       "      <td>1467810369</td>\n",
       "      <td>Mon Apr 06 22:19:45</td>\n",
       "      <td>_TheSpecialOne_</td>\n",
       "      <td>@switchfoot http://twitpic.com/2y1zl - Awww, t...</td>\n",
       "    </tr>\n",
       "    <tr>\n",
       "      <th>1</th>\n",
       "      <td>0</td>\n",
       "      <td>1467810672</td>\n",
       "      <td>Mon Apr 06 22:19:49</td>\n",
       "      <td>scotthamilton</td>\n",
       "      <td>is upset that he can't update his Facebook by ...</td>\n",
       "    </tr>\n",
       "    <tr>\n",
       "      <th>2</th>\n",
       "      <td>0</td>\n",
       "      <td>1467810917</td>\n",
       "      <td>Mon Apr 06 22:19:53</td>\n",
       "      <td>mattycus</td>\n",
       "      <td>@Kenichan I dived many times for the ball. Man...</td>\n",
       "    </tr>\n",
       "    <tr>\n",
       "      <th>3</th>\n",
       "      <td>0</td>\n",
       "      <td>1467811184</td>\n",
       "      <td>Mon Apr 06 22:19:57</td>\n",
       "      <td>ElleCTF</td>\n",
       "      <td>my whole body feels itchy and like its on fire</td>\n",
       "    </tr>\n",
       "    <tr>\n",
       "      <th>4</th>\n",
       "      <td>0</td>\n",
       "      <td>1467811193</td>\n",
       "      <td>Mon Apr 06 22:19:57</td>\n",
       "      <td>Karoli</td>\n",
       "      <td>@nationwideclass no, it's not behaving at all....</td>\n",
       "    </tr>\n",
       "  </tbody>\n",
       "</table>\n",
       "</div>"
      ],
      "text/plain": [
       "   Target          ID                 Date             User  \\\n",
       "0       0  1467810369  Mon Apr 06 22:19:45  _TheSpecialOne_   \n",
       "1       0  1467810672  Mon Apr 06 22:19:49    scotthamilton   \n",
       "2       0  1467810917  Mon Apr 06 22:19:53         mattycus   \n",
       "3       0  1467811184  Mon Apr 06 22:19:57          ElleCTF   \n",
       "4       0  1467811193  Mon Apr 06 22:19:57           Karoli   \n",
       "\n",
       "                                                Text  \n",
       "0  @switchfoot http://twitpic.com/2y1zl - Awww, t...  \n",
       "1  is upset that he can't update his Facebook by ...  \n",
       "2  @Kenichan I dived many times for the ball. Man...  \n",
       "3    my whole body feels itchy and like its on fire   \n",
       "4  @nationwideclass no, it's not behaving at all....  "
      ]
     },
     "execution_count": 17,
     "metadata": {},
     "output_type": "execute_result"
    }
   ],
   "source": [
    "df.head()"
   ]
  },
  {
   "cell_type": "code",
   "execution_count": 18,
   "id": "46d27de3-09f2-4d72-8b13-ff7da492d951",
   "metadata": {},
   "outputs": [],
   "source": [
    "df[['Day','Month','Date','Time']]=df['Date'].str.split(pat=\" \",expand=True)"
   ]
  },
  {
   "cell_type": "code",
   "execution_count": 19,
   "id": "fc0bd90d-62e8-4328-a509-80ade2334c69",
   "metadata": {},
   "outputs": [
    {
     "data": {
      "text/html": [
       "<div>\n",
       "<style scoped>\n",
       "    .dataframe tbody tr th:only-of-type {\n",
       "        vertical-align: middle;\n",
       "    }\n",
       "\n",
       "    .dataframe tbody tr th {\n",
       "        vertical-align: top;\n",
       "    }\n",
       "\n",
       "    .dataframe thead th {\n",
       "        text-align: right;\n",
       "    }\n",
       "</style>\n",
       "<table border=\"1\" class=\"dataframe\">\n",
       "  <thead>\n",
       "    <tr style=\"text-align: right;\">\n",
       "      <th></th>\n",
       "      <th>Target</th>\n",
       "      <th>ID</th>\n",
       "      <th>Date</th>\n",
       "      <th>User</th>\n",
       "      <th>Text</th>\n",
       "      <th>Day</th>\n",
       "      <th>Month</th>\n",
       "      <th>Time</th>\n",
       "    </tr>\n",
       "  </thead>\n",
       "  <tbody>\n",
       "    <tr>\n",
       "      <th>0</th>\n",
       "      <td>0</td>\n",
       "      <td>1467810369</td>\n",
       "      <td>06</td>\n",
       "      <td>_TheSpecialOne_</td>\n",
       "      <td>@switchfoot http://twitpic.com/2y1zl - Awww, t...</td>\n",
       "      <td>Mon</td>\n",
       "      <td>Apr</td>\n",
       "      <td>22:19:45</td>\n",
       "    </tr>\n",
       "    <tr>\n",
       "      <th>1</th>\n",
       "      <td>0</td>\n",
       "      <td>1467810672</td>\n",
       "      <td>06</td>\n",
       "      <td>scotthamilton</td>\n",
       "      <td>is upset that he can't update his Facebook by ...</td>\n",
       "      <td>Mon</td>\n",
       "      <td>Apr</td>\n",
       "      <td>22:19:49</td>\n",
       "    </tr>\n",
       "    <tr>\n",
       "      <th>2</th>\n",
       "      <td>0</td>\n",
       "      <td>1467810917</td>\n",
       "      <td>06</td>\n",
       "      <td>mattycus</td>\n",
       "      <td>@Kenichan I dived many times for the ball. Man...</td>\n",
       "      <td>Mon</td>\n",
       "      <td>Apr</td>\n",
       "      <td>22:19:53</td>\n",
       "    </tr>\n",
       "    <tr>\n",
       "      <th>3</th>\n",
       "      <td>0</td>\n",
       "      <td>1467811184</td>\n",
       "      <td>06</td>\n",
       "      <td>ElleCTF</td>\n",
       "      <td>my whole body feels itchy and like its on fire</td>\n",
       "      <td>Mon</td>\n",
       "      <td>Apr</td>\n",
       "      <td>22:19:57</td>\n",
       "    </tr>\n",
       "    <tr>\n",
       "      <th>4</th>\n",
       "      <td>0</td>\n",
       "      <td>1467811193</td>\n",
       "      <td>06</td>\n",
       "      <td>Karoli</td>\n",
       "      <td>@nationwideclass no, it's not behaving at all....</td>\n",
       "      <td>Mon</td>\n",
       "      <td>Apr</td>\n",
       "      <td>22:19:57</td>\n",
       "    </tr>\n",
       "    <tr>\n",
       "      <th>...</th>\n",
       "      <td>...</td>\n",
       "      <td>...</td>\n",
       "      <td>...</td>\n",
       "      <td>...</td>\n",
       "      <td>...</td>\n",
       "      <td>...</td>\n",
       "      <td>...</td>\n",
       "      <td>...</td>\n",
       "    </tr>\n",
       "    <tr>\n",
       "      <th>1599995</th>\n",
       "      <td>4</td>\n",
       "      <td>2193601966</td>\n",
       "      <td>16</td>\n",
       "      <td>AmandaMarie1028</td>\n",
       "      <td>Just woke up. Having no school is the best fee...</td>\n",
       "      <td>Tue</td>\n",
       "      <td>Jun</td>\n",
       "      <td>08:40:49</td>\n",
       "    </tr>\n",
       "    <tr>\n",
       "      <th>1599996</th>\n",
       "      <td>4</td>\n",
       "      <td>2193601969</td>\n",
       "      <td>16</td>\n",
       "      <td>TheWDBoards</td>\n",
       "      <td>TheWDB.com - Very cool to hear old Walt interv...</td>\n",
       "      <td>Tue</td>\n",
       "      <td>Jun</td>\n",
       "      <td>08:40:49</td>\n",
       "    </tr>\n",
       "    <tr>\n",
       "      <th>1599997</th>\n",
       "      <td>4</td>\n",
       "      <td>2193601991</td>\n",
       "      <td>16</td>\n",
       "      <td>bpbabe</td>\n",
       "      <td>Are you ready for your MoJo Makeover? Ask me f...</td>\n",
       "      <td>Tue</td>\n",
       "      <td>Jun</td>\n",
       "      <td>08:40:49</td>\n",
       "    </tr>\n",
       "    <tr>\n",
       "      <th>1599998</th>\n",
       "      <td>4</td>\n",
       "      <td>2193602064</td>\n",
       "      <td>16</td>\n",
       "      <td>tinydiamondz</td>\n",
       "      <td>Happy 38th Birthday to my boo of alll time!!! ...</td>\n",
       "      <td>Tue</td>\n",
       "      <td>Jun</td>\n",
       "      <td>08:40:49</td>\n",
       "    </tr>\n",
       "    <tr>\n",
       "      <th>1599999</th>\n",
       "      <td>4</td>\n",
       "      <td>2193602129</td>\n",
       "      <td>16</td>\n",
       "      <td>RyanTrevMorris</td>\n",
       "      <td>happy #charitytuesday @theNSPCC @SparksCharity...</td>\n",
       "      <td>Tue</td>\n",
       "      <td>Jun</td>\n",
       "      <td>08:40:50</td>\n",
       "    </tr>\n",
       "  </tbody>\n",
       "</table>\n",
       "<p>1600000 rows × 8 columns</p>\n",
       "</div>"
      ],
      "text/plain": [
       "         Target          ID Date             User  \\\n",
       "0             0  1467810369   06  _TheSpecialOne_   \n",
       "1             0  1467810672   06    scotthamilton   \n",
       "2             0  1467810917   06         mattycus   \n",
       "3             0  1467811184   06          ElleCTF   \n",
       "4             0  1467811193   06           Karoli   \n",
       "...         ...         ...  ...              ...   \n",
       "1599995       4  2193601966   16  AmandaMarie1028   \n",
       "1599996       4  2193601969   16      TheWDBoards   \n",
       "1599997       4  2193601991   16           bpbabe   \n",
       "1599998       4  2193602064   16     tinydiamondz   \n",
       "1599999       4  2193602129   16   RyanTrevMorris   \n",
       "\n",
       "                                                      Text  Day Month  \\\n",
       "0        @switchfoot http://twitpic.com/2y1zl - Awww, t...  Mon   Apr   \n",
       "1        is upset that he can't update his Facebook by ...  Mon   Apr   \n",
       "2        @Kenichan I dived many times for the ball. Man...  Mon   Apr   \n",
       "3          my whole body feels itchy and like its on fire   Mon   Apr   \n",
       "4        @nationwideclass no, it's not behaving at all....  Mon   Apr   \n",
       "...                                                    ...  ...   ...   \n",
       "1599995  Just woke up. Having no school is the best fee...  Tue   Jun   \n",
       "1599996  TheWDB.com - Very cool to hear old Walt interv...  Tue   Jun   \n",
       "1599997  Are you ready for your MoJo Makeover? Ask me f...  Tue   Jun   \n",
       "1599998  Happy 38th Birthday to my boo of alll time!!! ...  Tue   Jun   \n",
       "1599999  happy #charitytuesday @theNSPCC @SparksCharity...  Tue   Jun   \n",
       "\n",
       "             Time  \n",
       "0        22:19:45  \n",
       "1        22:19:49  \n",
       "2        22:19:53  \n",
       "3        22:19:57  \n",
       "4        22:19:57  \n",
       "...           ...  \n",
       "1599995  08:40:49  \n",
       "1599996  08:40:49  \n",
       "1599997  08:40:49  \n",
       "1599998  08:40:49  \n",
       "1599999  08:40:50  \n",
       "\n",
       "[1600000 rows x 8 columns]"
      ]
     },
     "execution_count": 19,
     "metadata": {},
     "output_type": "execute_result"
    }
   ],
   "source": [
    "df"
   ]
  },
  {
   "cell_type": "code",
   "execution_count": 20,
   "id": "bb42cff0-2608-4b2b-ace0-7c8f1ea3fe5e",
   "metadata": {},
   "outputs": [],
   "source": [
    "df = df.drop('Date',axis=1)"
   ]
  },
  {
   "cell_type": "code",
   "execution_count": 21,
   "id": "21c12337-682a-4c7e-92b0-e0206df33242",
   "metadata": {},
   "outputs": [
    {
     "data": {
      "text/html": [
       "<div>\n",
       "<style scoped>\n",
       "    .dataframe tbody tr th:only-of-type {\n",
       "        vertical-align: middle;\n",
       "    }\n",
       "\n",
       "    .dataframe tbody tr th {\n",
       "        vertical-align: top;\n",
       "    }\n",
       "\n",
       "    .dataframe thead th {\n",
       "        text-align: right;\n",
       "    }\n",
       "</style>\n",
       "<table border=\"1\" class=\"dataframe\">\n",
       "  <thead>\n",
       "    <tr style=\"text-align: right;\">\n",
       "      <th></th>\n",
       "      <th>Target</th>\n",
       "      <th>ID</th>\n",
       "      <th>User</th>\n",
       "      <th>Text</th>\n",
       "      <th>Day</th>\n",
       "      <th>Month</th>\n",
       "      <th>Time</th>\n",
       "    </tr>\n",
       "  </thead>\n",
       "  <tbody>\n",
       "    <tr>\n",
       "      <th>0</th>\n",
       "      <td>0</td>\n",
       "      <td>1467810369</td>\n",
       "      <td>_TheSpecialOne_</td>\n",
       "      <td>@switchfoot http://twitpic.com/2y1zl - Awww, t...</td>\n",
       "      <td>Mon</td>\n",
       "      <td>Apr</td>\n",
       "      <td>22:19:45</td>\n",
       "    </tr>\n",
       "    <tr>\n",
       "      <th>1</th>\n",
       "      <td>0</td>\n",
       "      <td>1467810672</td>\n",
       "      <td>scotthamilton</td>\n",
       "      <td>is upset that he can't update his Facebook by ...</td>\n",
       "      <td>Mon</td>\n",
       "      <td>Apr</td>\n",
       "      <td>22:19:49</td>\n",
       "    </tr>\n",
       "    <tr>\n",
       "      <th>2</th>\n",
       "      <td>0</td>\n",
       "      <td>1467810917</td>\n",
       "      <td>mattycus</td>\n",
       "      <td>@Kenichan I dived many times for the ball. Man...</td>\n",
       "      <td>Mon</td>\n",
       "      <td>Apr</td>\n",
       "      <td>22:19:53</td>\n",
       "    </tr>\n",
       "    <tr>\n",
       "      <th>3</th>\n",
       "      <td>0</td>\n",
       "      <td>1467811184</td>\n",
       "      <td>ElleCTF</td>\n",
       "      <td>my whole body feels itchy and like its on fire</td>\n",
       "      <td>Mon</td>\n",
       "      <td>Apr</td>\n",
       "      <td>22:19:57</td>\n",
       "    </tr>\n",
       "    <tr>\n",
       "      <th>4</th>\n",
       "      <td>0</td>\n",
       "      <td>1467811193</td>\n",
       "      <td>Karoli</td>\n",
       "      <td>@nationwideclass no, it's not behaving at all....</td>\n",
       "      <td>Mon</td>\n",
       "      <td>Apr</td>\n",
       "      <td>22:19:57</td>\n",
       "    </tr>\n",
       "    <tr>\n",
       "      <th>...</th>\n",
       "      <td>...</td>\n",
       "      <td>...</td>\n",
       "      <td>...</td>\n",
       "      <td>...</td>\n",
       "      <td>...</td>\n",
       "      <td>...</td>\n",
       "      <td>...</td>\n",
       "    </tr>\n",
       "    <tr>\n",
       "      <th>1599995</th>\n",
       "      <td>4</td>\n",
       "      <td>2193601966</td>\n",
       "      <td>AmandaMarie1028</td>\n",
       "      <td>Just woke up. Having no school is the best fee...</td>\n",
       "      <td>Tue</td>\n",
       "      <td>Jun</td>\n",
       "      <td>08:40:49</td>\n",
       "    </tr>\n",
       "    <tr>\n",
       "      <th>1599996</th>\n",
       "      <td>4</td>\n",
       "      <td>2193601969</td>\n",
       "      <td>TheWDBoards</td>\n",
       "      <td>TheWDB.com - Very cool to hear old Walt interv...</td>\n",
       "      <td>Tue</td>\n",
       "      <td>Jun</td>\n",
       "      <td>08:40:49</td>\n",
       "    </tr>\n",
       "    <tr>\n",
       "      <th>1599997</th>\n",
       "      <td>4</td>\n",
       "      <td>2193601991</td>\n",
       "      <td>bpbabe</td>\n",
       "      <td>Are you ready for your MoJo Makeover? Ask me f...</td>\n",
       "      <td>Tue</td>\n",
       "      <td>Jun</td>\n",
       "      <td>08:40:49</td>\n",
       "    </tr>\n",
       "    <tr>\n",
       "      <th>1599998</th>\n",
       "      <td>4</td>\n",
       "      <td>2193602064</td>\n",
       "      <td>tinydiamondz</td>\n",
       "      <td>Happy 38th Birthday to my boo of alll time!!! ...</td>\n",
       "      <td>Tue</td>\n",
       "      <td>Jun</td>\n",
       "      <td>08:40:49</td>\n",
       "    </tr>\n",
       "    <tr>\n",
       "      <th>1599999</th>\n",
       "      <td>4</td>\n",
       "      <td>2193602129</td>\n",
       "      <td>RyanTrevMorris</td>\n",
       "      <td>happy #charitytuesday @theNSPCC @SparksCharity...</td>\n",
       "      <td>Tue</td>\n",
       "      <td>Jun</td>\n",
       "      <td>08:40:50</td>\n",
       "    </tr>\n",
       "  </tbody>\n",
       "</table>\n",
       "<p>1600000 rows × 7 columns</p>\n",
       "</div>"
      ],
      "text/plain": [
       "         Target          ID             User  \\\n",
       "0             0  1467810369  _TheSpecialOne_   \n",
       "1             0  1467810672    scotthamilton   \n",
       "2             0  1467810917         mattycus   \n",
       "3             0  1467811184          ElleCTF   \n",
       "4             0  1467811193           Karoli   \n",
       "...         ...         ...              ...   \n",
       "1599995       4  2193601966  AmandaMarie1028   \n",
       "1599996       4  2193601969      TheWDBoards   \n",
       "1599997       4  2193601991           bpbabe   \n",
       "1599998       4  2193602064     tinydiamondz   \n",
       "1599999       4  2193602129   RyanTrevMorris   \n",
       "\n",
       "                                                      Text  Day Month  \\\n",
       "0        @switchfoot http://twitpic.com/2y1zl - Awww, t...  Mon   Apr   \n",
       "1        is upset that he can't update his Facebook by ...  Mon   Apr   \n",
       "2        @Kenichan I dived many times for the ball. Man...  Mon   Apr   \n",
       "3          my whole body feels itchy and like its on fire   Mon   Apr   \n",
       "4        @nationwideclass no, it's not behaving at all....  Mon   Apr   \n",
       "...                                                    ...  ...   ...   \n",
       "1599995  Just woke up. Having no school is the best fee...  Tue   Jun   \n",
       "1599996  TheWDB.com - Very cool to hear old Walt interv...  Tue   Jun   \n",
       "1599997  Are you ready for your MoJo Makeover? Ask me f...  Tue   Jun   \n",
       "1599998  Happy 38th Birthday to my boo of alll time!!! ...  Tue   Jun   \n",
       "1599999  happy #charitytuesday @theNSPCC @SparksCharity...  Tue   Jun   \n",
       "\n",
       "             Time  \n",
       "0        22:19:45  \n",
       "1        22:19:49  \n",
       "2        22:19:53  \n",
       "3        22:19:57  \n",
       "4        22:19:57  \n",
       "...           ...  \n",
       "1599995  08:40:49  \n",
       "1599996  08:40:49  \n",
       "1599997  08:40:49  \n",
       "1599998  08:40:49  \n",
       "1599999  08:40:50  \n",
       "\n",
       "[1600000 rows x 7 columns]"
      ]
     },
     "execution_count": 21,
     "metadata": {},
     "output_type": "execute_result"
    }
   ],
   "source": [
    "df"
   ]
  },
  {
   "cell_type": "code",
   "execution_count": null,
   "id": "ed9790e0-6772-4d39-8b2f-208989e830d2",
   "metadata": {},
   "outputs": [],
   "source": []
  },
  {
   "cell_type": "markdown",
   "id": "f8d1e0b9-c34e-4a25-a06b-0121bdfe15e7",
   "metadata": {},
   "source": [
    "It can be seen that there are only two distinct labels 0 and 4"
   ]
  },
  {
   "cell_type": "code",
   "execution_count": 22,
   "id": "7690ff23-2b4d-48ac-bd26-eade6d72b747",
   "metadata": {},
   "outputs": [
    {
     "data": {
      "text/plain": [
       "array([0, 4], dtype=int64)"
      ]
     },
     "execution_count": 22,
     "metadata": {},
     "output_type": "execute_result"
    }
   ],
   "source": [
    "df['Target'].unique()"
   ]
  },
  {
   "cell_type": "markdown",
   "id": "e3c66dd5-fd88-4ea5-a896-36036a1d1bce",
   "metadata": {},
   "source": [
    "It can be seen that Target=0 represents negative(sad,upset,angry etc.) tweets"
   ]
  },
  {
   "cell_type": "code",
   "execution_count": 23,
   "id": "ed24e81d-7acd-4557-8fca-71cc64d7585c",
   "metadata": {},
   "outputs": [
    {
     "data": {
      "text/html": [
       "<div>\n",
       "<style scoped>\n",
       "    .dataframe tbody tr th:only-of-type {\n",
       "        vertical-align: middle;\n",
       "    }\n",
       "\n",
       "    .dataframe tbody tr th {\n",
       "        vertical-align: top;\n",
       "    }\n",
       "\n",
       "    .dataframe thead th {\n",
       "        text-align: right;\n",
       "    }\n",
       "</style>\n",
       "<table border=\"1\" class=\"dataframe\">\n",
       "  <thead>\n",
       "    <tr style=\"text-align: right;\">\n",
       "      <th></th>\n",
       "      <th>Target</th>\n",
       "      <th>ID</th>\n",
       "      <th>User</th>\n",
       "      <th>Text</th>\n",
       "      <th>Day</th>\n",
       "      <th>Month</th>\n",
       "      <th>Time</th>\n",
       "    </tr>\n",
       "  </thead>\n",
       "  <tbody>\n",
       "    <tr>\n",
       "      <th>0</th>\n",
       "      <td>0</td>\n",
       "      <td>1467810369</td>\n",
       "      <td>_TheSpecialOne_</td>\n",
       "      <td>@switchfoot http://twitpic.com/2y1zl - Awww, t...</td>\n",
       "      <td>Mon</td>\n",
       "      <td>Apr</td>\n",
       "      <td>22:19:45</td>\n",
       "    </tr>\n",
       "    <tr>\n",
       "      <th>1</th>\n",
       "      <td>0</td>\n",
       "      <td>1467810672</td>\n",
       "      <td>scotthamilton</td>\n",
       "      <td>is upset that he can't update his Facebook by ...</td>\n",
       "      <td>Mon</td>\n",
       "      <td>Apr</td>\n",
       "      <td>22:19:49</td>\n",
       "    </tr>\n",
       "    <tr>\n",
       "      <th>2</th>\n",
       "      <td>0</td>\n",
       "      <td>1467810917</td>\n",
       "      <td>mattycus</td>\n",
       "      <td>@Kenichan I dived many times for the ball. Man...</td>\n",
       "      <td>Mon</td>\n",
       "      <td>Apr</td>\n",
       "      <td>22:19:53</td>\n",
       "    </tr>\n",
       "    <tr>\n",
       "      <th>3</th>\n",
       "      <td>0</td>\n",
       "      <td>1467811184</td>\n",
       "      <td>ElleCTF</td>\n",
       "      <td>my whole body feels itchy and like its on fire</td>\n",
       "      <td>Mon</td>\n",
       "      <td>Apr</td>\n",
       "      <td>22:19:57</td>\n",
       "    </tr>\n",
       "    <tr>\n",
       "      <th>4</th>\n",
       "      <td>0</td>\n",
       "      <td>1467811193</td>\n",
       "      <td>Karoli</td>\n",
       "      <td>@nationwideclass no, it's not behaving at all....</td>\n",
       "      <td>Mon</td>\n",
       "      <td>Apr</td>\n",
       "      <td>22:19:57</td>\n",
       "    </tr>\n",
       "    <tr>\n",
       "      <th>5</th>\n",
       "      <td>0</td>\n",
       "      <td>1467811372</td>\n",
       "      <td>joy_wolf</td>\n",
       "      <td>@Kwesidei not the whole crew</td>\n",
       "      <td>Mon</td>\n",
       "      <td>Apr</td>\n",
       "      <td>22:20:00</td>\n",
       "    </tr>\n",
       "    <tr>\n",
       "      <th>6</th>\n",
       "      <td>0</td>\n",
       "      <td>1467811592</td>\n",
       "      <td>mybirch</td>\n",
       "      <td>Need a hug</td>\n",
       "      <td>Mon</td>\n",
       "      <td>Apr</td>\n",
       "      <td>22:20:03</td>\n",
       "    </tr>\n",
       "    <tr>\n",
       "      <th>7</th>\n",
       "      <td>0</td>\n",
       "      <td>1467811594</td>\n",
       "      <td>coZZ</td>\n",
       "      <td>@LOLTrish hey  long time no see! Yes.. Rains a...</td>\n",
       "      <td>Mon</td>\n",
       "      <td>Apr</td>\n",
       "      <td>22:20:03</td>\n",
       "    </tr>\n",
       "    <tr>\n",
       "      <th>8</th>\n",
       "      <td>0</td>\n",
       "      <td>1467811795</td>\n",
       "      <td>2Hood4Hollywood</td>\n",
       "      <td>@Tatiana_K nope they didn't have it</td>\n",
       "      <td>Mon</td>\n",
       "      <td>Apr</td>\n",
       "      <td>22:20:05</td>\n",
       "    </tr>\n",
       "    <tr>\n",
       "      <th>9</th>\n",
       "      <td>0</td>\n",
       "      <td>1467812025</td>\n",
       "      <td>mimismo</td>\n",
       "      <td>@twittera que me muera ?</td>\n",
       "      <td>Mon</td>\n",
       "      <td>Apr</td>\n",
       "      <td>22:20:09</td>\n",
       "    </tr>\n",
       "  </tbody>\n",
       "</table>\n",
       "</div>"
      ],
      "text/plain": [
       "   Target          ID             User  \\\n",
       "0       0  1467810369  _TheSpecialOne_   \n",
       "1       0  1467810672    scotthamilton   \n",
       "2       0  1467810917         mattycus   \n",
       "3       0  1467811184          ElleCTF   \n",
       "4       0  1467811193           Karoli   \n",
       "5       0  1467811372         joy_wolf   \n",
       "6       0  1467811592          mybirch   \n",
       "7       0  1467811594             coZZ   \n",
       "8       0  1467811795  2Hood4Hollywood   \n",
       "9       0  1467812025          mimismo   \n",
       "\n",
       "                                                Text  Day Month      Time  \n",
       "0  @switchfoot http://twitpic.com/2y1zl - Awww, t...  Mon   Apr  22:19:45  \n",
       "1  is upset that he can't update his Facebook by ...  Mon   Apr  22:19:49  \n",
       "2  @Kenichan I dived many times for the ball. Man...  Mon   Apr  22:19:53  \n",
       "3    my whole body feels itchy and like its on fire   Mon   Apr  22:19:57  \n",
       "4  @nationwideclass no, it's not behaving at all....  Mon   Apr  22:19:57  \n",
       "5                      @Kwesidei not the whole crew   Mon   Apr  22:20:00  \n",
       "6                                        Need a hug   Mon   Apr  22:20:03  \n",
       "7  @LOLTrish hey  long time no see! Yes.. Rains a...  Mon   Apr  22:20:03  \n",
       "8               @Tatiana_K nope they didn't have it   Mon   Apr  22:20:05  \n",
       "9                          @twittera que me muera ?   Mon   Apr  22:20:09  "
      ]
     },
     "execution_count": 23,
     "metadata": {},
     "output_type": "execute_result"
    }
   ],
   "source": [
    "df[df['Target']==0].head(10)"
   ]
  },
  {
   "cell_type": "markdown",
   "id": "d769876f-f3b3-47a5-ad03-acb67187d5dc",
   "metadata": {},
   "source": [
    "While Target=4 represents positive tweets"
   ]
  },
  {
   "cell_type": "code",
   "execution_count": 24,
   "id": "2912eead-39f2-4e6b-9712-7fe9d37da648",
   "metadata": {},
   "outputs": [
    {
     "data": {
      "text/html": [
       "<div>\n",
       "<style scoped>\n",
       "    .dataframe tbody tr th:only-of-type {\n",
       "        vertical-align: middle;\n",
       "    }\n",
       "\n",
       "    .dataframe tbody tr th {\n",
       "        vertical-align: top;\n",
       "    }\n",
       "\n",
       "    .dataframe thead th {\n",
       "        text-align: right;\n",
       "    }\n",
       "</style>\n",
       "<table border=\"1\" class=\"dataframe\">\n",
       "  <thead>\n",
       "    <tr style=\"text-align: right;\">\n",
       "      <th></th>\n",
       "      <th>Target</th>\n",
       "      <th>ID</th>\n",
       "      <th>User</th>\n",
       "      <th>Text</th>\n",
       "      <th>Day</th>\n",
       "      <th>Month</th>\n",
       "      <th>Time</th>\n",
       "    </tr>\n",
       "  </thead>\n",
       "  <tbody>\n",
       "    <tr>\n",
       "      <th>800000</th>\n",
       "      <td>4</td>\n",
       "      <td>1467822272</td>\n",
       "      <td>ersle</td>\n",
       "      <td>I LOVE @Health4UandPets u guys r the best!!</td>\n",
       "      <td>Mon</td>\n",
       "      <td>Apr</td>\n",
       "      <td>22:22:45</td>\n",
       "    </tr>\n",
       "    <tr>\n",
       "      <th>800001</th>\n",
       "      <td>4</td>\n",
       "      <td>1467822273</td>\n",
       "      <td>becca210</td>\n",
       "      <td>im meeting up with one of my besties tonight! ...</td>\n",
       "      <td>Mon</td>\n",
       "      <td>Apr</td>\n",
       "      <td>22:22:45</td>\n",
       "    </tr>\n",
       "    <tr>\n",
       "      <th>800002</th>\n",
       "      <td>4</td>\n",
       "      <td>1467822283</td>\n",
       "      <td>Wingman29</td>\n",
       "      <td>@DaRealSunisaKim Thanks for the Twitter add, S...</td>\n",
       "      <td>Mon</td>\n",
       "      <td>Apr</td>\n",
       "      <td>22:22:46</td>\n",
       "    </tr>\n",
       "    <tr>\n",
       "      <th>800003</th>\n",
       "      <td>4</td>\n",
       "      <td>1467822287</td>\n",
       "      <td>katarinka</td>\n",
       "      <td>Being sick can be really cheap when it hurts t...</td>\n",
       "      <td>Mon</td>\n",
       "      <td>Apr</td>\n",
       "      <td>22:22:46</td>\n",
       "    </tr>\n",
       "    <tr>\n",
       "      <th>800004</th>\n",
       "      <td>4</td>\n",
       "      <td>1467822293</td>\n",
       "      <td>_EmilyYoung</td>\n",
       "      <td>@LovesBrooklyn2 he has that effect on everyone</td>\n",
       "      <td>Mon</td>\n",
       "      <td>Apr</td>\n",
       "      <td>22:22:46</td>\n",
       "    </tr>\n",
       "    <tr>\n",
       "      <th>800005</th>\n",
       "      <td>4</td>\n",
       "      <td>1467822391</td>\n",
       "      <td>ajarofalmonds</td>\n",
       "      <td>@ProductOfFear You can tell him that I just bu...</td>\n",
       "      <td>Mon</td>\n",
       "      <td>Apr</td>\n",
       "      <td>22:22:47</td>\n",
       "    </tr>\n",
       "    <tr>\n",
       "      <th>800006</th>\n",
       "      <td>4</td>\n",
       "      <td>1467822447</td>\n",
       "      <td>vmdavinci</td>\n",
       "      <td>@r_keith_hill Thans for your response. Ihad al...</td>\n",
       "      <td>Mon</td>\n",
       "      <td>Apr</td>\n",
       "      <td>22:22:51</td>\n",
       "    </tr>\n",
       "    <tr>\n",
       "      <th>800007</th>\n",
       "      <td>4</td>\n",
       "      <td>1467822465</td>\n",
       "      <td>jessicavaliyi</td>\n",
       "      <td>@KeepinUpWKris I am so jealous, hope you had a...</td>\n",
       "      <td>Mon</td>\n",
       "      <td>Apr</td>\n",
       "      <td>22:22:48</td>\n",
       "    </tr>\n",
       "    <tr>\n",
       "      <th>800008</th>\n",
       "      <td>4</td>\n",
       "      <td>1467822489</td>\n",
       "      <td>emmasaur28</td>\n",
       "      <td>@tommcfly ah, congrats mr fletcher for finally...</td>\n",
       "      <td>Mon</td>\n",
       "      <td>Apr</td>\n",
       "      <td>22:22:49</td>\n",
       "    </tr>\n",
       "    <tr>\n",
       "      <th>800009</th>\n",
       "      <td>4</td>\n",
       "      <td>1467822496</td>\n",
       "      <td>SherylBreuker</td>\n",
       "      <td>@e4VoIP I RESPONDED  Stupid cat is helping me ...</td>\n",
       "      <td>Mon</td>\n",
       "      <td>Apr</td>\n",
       "      <td>22:22:49</td>\n",
       "    </tr>\n",
       "  </tbody>\n",
       "</table>\n",
       "</div>"
      ],
      "text/plain": [
       "        Target          ID           User  \\\n",
       "800000       4  1467822272          ersle   \n",
       "800001       4  1467822273       becca210   \n",
       "800002       4  1467822283      Wingman29   \n",
       "800003       4  1467822287      katarinka   \n",
       "800004       4  1467822293    _EmilyYoung   \n",
       "800005       4  1467822391  ajarofalmonds   \n",
       "800006       4  1467822447      vmdavinci   \n",
       "800007       4  1467822465  jessicavaliyi   \n",
       "800008       4  1467822489     emmasaur28   \n",
       "800009       4  1467822496  SherylBreuker   \n",
       "\n",
       "                                                     Text  Day Month      Time  \n",
       "800000       I LOVE @Health4UandPets u guys r the best!!   Mon   Apr  22:22:45  \n",
       "800001  im meeting up with one of my besties tonight! ...  Mon   Apr  22:22:45  \n",
       "800002  @DaRealSunisaKim Thanks for the Twitter add, S...  Mon   Apr  22:22:46  \n",
       "800003  Being sick can be really cheap when it hurts t...  Mon   Apr  22:22:46  \n",
       "800004    @LovesBrooklyn2 he has that effect on everyone   Mon   Apr  22:22:46  \n",
       "800005  @ProductOfFear You can tell him that I just bu...  Mon   Apr  22:22:47  \n",
       "800006  @r_keith_hill Thans for your response. Ihad al...  Mon   Apr  22:22:51  \n",
       "800007  @KeepinUpWKris I am so jealous, hope you had a...  Mon   Apr  22:22:48  \n",
       "800008  @tommcfly ah, congrats mr fletcher for finally...  Mon   Apr  22:22:49  \n",
       "800009  @e4VoIP I RESPONDED  Stupid cat is helping me ...  Mon   Apr  22:22:49  "
      ]
     },
     "execution_count": 24,
     "metadata": {},
     "output_type": "execute_result"
    }
   ],
   "source": [
    "df[df['Target']!=0].head(10)"
   ]
  },
  {
   "cell_type": "markdown",
   "id": "9eb310ba-1b9d-46eb-9cff-b58281652036",
   "metadata": {},
   "source": [
    "Keeping only necessary data and discarding the rest"
   ]
  },
  {
   "cell_type": "code",
   "execution_count": 25,
   "id": "493a5d59-c106-45be-a443-a6e6b45eb392",
   "metadata": {},
   "outputs": [],
   "source": [
    "df = df[['Target','User','Text','Day']]"
   ]
  },
  {
   "cell_type": "code",
   "execution_count": 26,
   "id": "f0bf19ac-7219-423e-a689-65a05d4893a4",
   "metadata": {},
   "outputs": [
    {
     "data": {
      "text/html": [
       "<div>\n",
       "<style scoped>\n",
       "    .dataframe tbody tr th:only-of-type {\n",
       "        vertical-align: middle;\n",
       "    }\n",
       "\n",
       "    .dataframe tbody tr th {\n",
       "        vertical-align: top;\n",
       "    }\n",
       "\n",
       "    .dataframe thead th {\n",
       "        text-align: right;\n",
       "    }\n",
       "</style>\n",
       "<table border=\"1\" class=\"dataframe\">\n",
       "  <thead>\n",
       "    <tr style=\"text-align: right;\">\n",
       "      <th></th>\n",
       "      <th>Target</th>\n",
       "      <th>User</th>\n",
       "      <th>Text</th>\n",
       "      <th>Day</th>\n",
       "    </tr>\n",
       "  </thead>\n",
       "  <tbody>\n",
       "    <tr>\n",
       "      <th>0</th>\n",
       "      <td>0</td>\n",
       "      <td>_TheSpecialOne_</td>\n",
       "      <td>@switchfoot http://twitpic.com/2y1zl - Awww, t...</td>\n",
       "      <td>Mon</td>\n",
       "    </tr>\n",
       "    <tr>\n",
       "      <th>1</th>\n",
       "      <td>0</td>\n",
       "      <td>scotthamilton</td>\n",
       "      <td>is upset that he can't update his Facebook by ...</td>\n",
       "      <td>Mon</td>\n",
       "    </tr>\n",
       "    <tr>\n",
       "      <th>2</th>\n",
       "      <td>0</td>\n",
       "      <td>mattycus</td>\n",
       "      <td>@Kenichan I dived many times for the ball. Man...</td>\n",
       "      <td>Mon</td>\n",
       "    </tr>\n",
       "    <tr>\n",
       "      <th>3</th>\n",
       "      <td>0</td>\n",
       "      <td>ElleCTF</td>\n",
       "      <td>my whole body feels itchy and like its on fire</td>\n",
       "      <td>Mon</td>\n",
       "    </tr>\n",
       "    <tr>\n",
       "      <th>4</th>\n",
       "      <td>0</td>\n",
       "      <td>Karoli</td>\n",
       "      <td>@nationwideclass no, it's not behaving at all....</td>\n",
       "      <td>Mon</td>\n",
       "    </tr>\n",
       "    <tr>\n",
       "      <th>...</th>\n",
       "      <td>...</td>\n",
       "      <td>...</td>\n",
       "      <td>...</td>\n",
       "      <td>...</td>\n",
       "    </tr>\n",
       "    <tr>\n",
       "      <th>1599995</th>\n",
       "      <td>4</td>\n",
       "      <td>AmandaMarie1028</td>\n",
       "      <td>Just woke up. Having no school is the best fee...</td>\n",
       "      <td>Tue</td>\n",
       "    </tr>\n",
       "    <tr>\n",
       "      <th>1599996</th>\n",
       "      <td>4</td>\n",
       "      <td>TheWDBoards</td>\n",
       "      <td>TheWDB.com - Very cool to hear old Walt interv...</td>\n",
       "      <td>Tue</td>\n",
       "    </tr>\n",
       "    <tr>\n",
       "      <th>1599997</th>\n",
       "      <td>4</td>\n",
       "      <td>bpbabe</td>\n",
       "      <td>Are you ready for your MoJo Makeover? Ask me f...</td>\n",
       "      <td>Tue</td>\n",
       "    </tr>\n",
       "    <tr>\n",
       "      <th>1599998</th>\n",
       "      <td>4</td>\n",
       "      <td>tinydiamondz</td>\n",
       "      <td>Happy 38th Birthday to my boo of alll time!!! ...</td>\n",
       "      <td>Tue</td>\n",
       "    </tr>\n",
       "    <tr>\n",
       "      <th>1599999</th>\n",
       "      <td>4</td>\n",
       "      <td>RyanTrevMorris</td>\n",
       "      <td>happy #charitytuesday @theNSPCC @SparksCharity...</td>\n",
       "      <td>Tue</td>\n",
       "    </tr>\n",
       "  </tbody>\n",
       "</table>\n",
       "<p>1600000 rows × 4 columns</p>\n",
       "</div>"
      ],
      "text/plain": [
       "         Target             User  \\\n",
       "0             0  _TheSpecialOne_   \n",
       "1             0    scotthamilton   \n",
       "2             0         mattycus   \n",
       "3             0          ElleCTF   \n",
       "4             0           Karoli   \n",
       "...         ...              ...   \n",
       "1599995       4  AmandaMarie1028   \n",
       "1599996       4      TheWDBoards   \n",
       "1599997       4           bpbabe   \n",
       "1599998       4     tinydiamondz   \n",
       "1599999       4   RyanTrevMorris   \n",
       "\n",
       "                                                      Text  Day  \n",
       "0        @switchfoot http://twitpic.com/2y1zl - Awww, t...  Mon  \n",
       "1        is upset that he can't update his Facebook by ...  Mon  \n",
       "2        @Kenichan I dived many times for the ball. Man...  Mon  \n",
       "3          my whole body feels itchy and like its on fire   Mon  \n",
       "4        @nationwideclass no, it's not behaving at all....  Mon  \n",
       "...                                                    ...  ...  \n",
       "1599995  Just woke up. Having no school is the best fee...  Tue  \n",
       "1599996  TheWDB.com - Very cool to hear old Walt interv...  Tue  \n",
       "1599997  Are you ready for your MoJo Makeover? Ask me f...  Tue  \n",
       "1599998  Happy 38th Birthday to my boo of alll time!!! ...  Tue  \n",
       "1599999  happy #charitytuesday @theNSPCC @SparksCharity...  Tue  \n",
       "\n",
       "[1600000 rows x 4 columns]"
      ]
     },
     "execution_count": 26,
     "metadata": {},
     "output_type": "execute_result"
    }
   ],
   "source": [
    "df"
   ]
  },
  {
   "cell_type": "markdown",
   "id": "ea33c697-c4b6-461a-8ad5-67da25b4e1b3",
   "metadata": {},
   "source": [
    "Replacing label '4' with one as there is no need of keeping it as such since their are no neutral tweets with label = 2"
   ]
  },
  {
   "cell_type": "code",
   "execution_count": 27,
   "id": "27252067-8a5a-4f2f-86d6-c5a23ad7eb3c",
   "metadata": {},
   "outputs": [],
   "source": [
    "df['Target']=df['Target'].replace(4,1)"
   ]
  },
  {
   "cell_type": "code",
   "execution_count": 28,
   "id": "8f1e1047-6803-4dab-a896-f518ea060777",
   "metadata": {},
   "outputs": [
    {
     "data": {
      "text/html": [
       "<div>\n",
       "<style scoped>\n",
       "    .dataframe tbody tr th:only-of-type {\n",
       "        vertical-align: middle;\n",
       "    }\n",
       "\n",
       "    .dataframe tbody tr th {\n",
       "        vertical-align: top;\n",
       "    }\n",
       "\n",
       "    .dataframe thead th {\n",
       "        text-align: right;\n",
       "    }\n",
       "</style>\n",
       "<table border=\"1\" class=\"dataframe\">\n",
       "  <thead>\n",
       "    <tr style=\"text-align: right;\">\n",
       "      <th></th>\n",
       "      <th>Target</th>\n",
       "      <th>User</th>\n",
       "      <th>Text</th>\n",
       "      <th>Day</th>\n",
       "    </tr>\n",
       "  </thead>\n",
       "  <tbody>\n",
       "    <tr>\n",
       "      <th>800000</th>\n",
       "      <td>1</td>\n",
       "      <td>ersle</td>\n",
       "      <td>I LOVE @Health4UandPets u guys r the best!!</td>\n",
       "      <td>Mon</td>\n",
       "    </tr>\n",
       "    <tr>\n",
       "      <th>800001</th>\n",
       "      <td>1</td>\n",
       "      <td>becca210</td>\n",
       "      <td>im meeting up with one of my besties tonight! ...</td>\n",
       "      <td>Mon</td>\n",
       "    </tr>\n",
       "    <tr>\n",
       "      <th>800002</th>\n",
       "      <td>1</td>\n",
       "      <td>Wingman29</td>\n",
       "      <td>@DaRealSunisaKim Thanks for the Twitter add, S...</td>\n",
       "      <td>Mon</td>\n",
       "    </tr>\n",
       "    <tr>\n",
       "      <th>800003</th>\n",
       "      <td>1</td>\n",
       "      <td>katarinka</td>\n",
       "      <td>Being sick can be really cheap when it hurts t...</td>\n",
       "      <td>Mon</td>\n",
       "    </tr>\n",
       "    <tr>\n",
       "      <th>800004</th>\n",
       "      <td>1</td>\n",
       "      <td>_EmilyYoung</td>\n",
       "      <td>@LovesBrooklyn2 he has that effect on everyone</td>\n",
       "      <td>Mon</td>\n",
       "    </tr>\n",
       "    <tr>\n",
       "      <th>800005</th>\n",
       "      <td>1</td>\n",
       "      <td>ajarofalmonds</td>\n",
       "      <td>@ProductOfFear You can tell him that I just bu...</td>\n",
       "      <td>Mon</td>\n",
       "    </tr>\n",
       "    <tr>\n",
       "      <th>800006</th>\n",
       "      <td>1</td>\n",
       "      <td>vmdavinci</td>\n",
       "      <td>@r_keith_hill Thans for your response. Ihad al...</td>\n",
       "      <td>Mon</td>\n",
       "    </tr>\n",
       "    <tr>\n",
       "      <th>800007</th>\n",
       "      <td>1</td>\n",
       "      <td>jessicavaliyi</td>\n",
       "      <td>@KeepinUpWKris I am so jealous, hope you had a...</td>\n",
       "      <td>Mon</td>\n",
       "    </tr>\n",
       "    <tr>\n",
       "      <th>800008</th>\n",
       "      <td>1</td>\n",
       "      <td>emmasaur28</td>\n",
       "      <td>@tommcfly ah, congrats mr fletcher for finally...</td>\n",
       "      <td>Mon</td>\n",
       "    </tr>\n",
       "    <tr>\n",
       "      <th>800009</th>\n",
       "      <td>1</td>\n",
       "      <td>SherylBreuker</td>\n",
       "      <td>@e4VoIP I RESPONDED  Stupid cat is helping me ...</td>\n",
       "      <td>Mon</td>\n",
       "    </tr>\n",
       "  </tbody>\n",
       "</table>\n",
       "</div>"
      ],
      "text/plain": [
       "        Target           User  \\\n",
       "800000       1          ersle   \n",
       "800001       1       becca210   \n",
       "800002       1      Wingman29   \n",
       "800003       1      katarinka   \n",
       "800004       1    _EmilyYoung   \n",
       "800005       1  ajarofalmonds   \n",
       "800006       1      vmdavinci   \n",
       "800007       1  jessicavaliyi   \n",
       "800008       1     emmasaur28   \n",
       "800009       1  SherylBreuker   \n",
       "\n",
       "                                                     Text  Day  \n",
       "800000       I LOVE @Health4UandPets u guys r the best!!   Mon  \n",
       "800001  im meeting up with one of my besties tonight! ...  Mon  \n",
       "800002  @DaRealSunisaKim Thanks for the Twitter add, S...  Mon  \n",
       "800003  Being sick can be really cheap when it hurts t...  Mon  \n",
       "800004    @LovesBrooklyn2 he has that effect on everyone   Mon  \n",
       "800005  @ProductOfFear You can tell him that I just bu...  Mon  \n",
       "800006  @r_keith_hill Thans for your response. Ihad al...  Mon  \n",
       "800007  @KeepinUpWKris I am so jealous, hope you had a...  Mon  \n",
       "800008  @tommcfly ah, congrats mr fletcher for finally...  Mon  \n",
       "800009  @e4VoIP I RESPONDED  Stupid cat is helping me ...  Mon  "
      ]
     },
     "execution_count": 28,
     "metadata": {},
     "output_type": "execute_result"
    }
   ],
   "source": [
    "df[df['Target']!=0].head(10)"
   ]
  },
  {
   "cell_type": "code",
   "execution_count": 29,
   "id": "e0008fd4-1b6d-44bd-85fa-65af893a24d0",
   "metadata": {},
   "outputs": [
    {
     "data": {
      "text/html": [
       "<div>\n",
       "<style scoped>\n",
       "    .dataframe tbody tr th:only-of-type {\n",
       "        vertical-align: middle;\n",
       "    }\n",
       "\n",
       "    .dataframe tbody tr th {\n",
       "        vertical-align: top;\n",
       "    }\n",
       "\n",
       "    .dataframe thead th {\n",
       "        text-align: right;\n",
       "    }\n",
       "</style>\n",
       "<table border=\"1\" class=\"dataframe\">\n",
       "  <thead>\n",
       "    <tr style=\"text-align: right;\">\n",
       "      <th></th>\n",
       "      <th>Target</th>\n",
       "      <th>User</th>\n",
       "      <th>Text</th>\n",
       "      <th>Day</th>\n",
       "    </tr>\n",
       "  </thead>\n",
       "  <tbody>\n",
       "    <tr>\n",
       "      <th>0</th>\n",
       "      <td>0</td>\n",
       "      <td>_TheSpecialOne_</td>\n",
       "      <td>@switchfoot http://twitpic.com/2y1zl - Awww, t...</td>\n",
       "      <td>Mon</td>\n",
       "    </tr>\n",
       "    <tr>\n",
       "      <th>1</th>\n",
       "      <td>0</td>\n",
       "      <td>scotthamilton</td>\n",
       "      <td>is upset that he can't update his Facebook by ...</td>\n",
       "      <td>Mon</td>\n",
       "    </tr>\n",
       "    <tr>\n",
       "      <th>2</th>\n",
       "      <td>0</td>\n",
       "      <td>mattycus</td>\n",
       "      <td>@Kenichan I dived many times for the ball. Man...</td>\n",
       "      <td>Mon</td>\n",
       "    </tr>\n",
       "    <tr>\n",
       "      <th>3</th>\n",
       "      <td>0</td>\n",
       "      <td>ElleCTF</td>\n",
       "      <td>my whole body feels itchy and like its on fire</td>\n",
       "      <td>Mon</td>\n",
       "    </tr>\n",
       "    <tr>\n",
       "      <th>4</th>\n",
       "      <td>0</td>\n",
       "      <td>Karoli</td>\n",
       "      <td>@nationwideclass no, it's not behaving at all....</td>\n",
       "      <td>Mon</td>\n",
       "    </tr>\n",
       "    <tr>\n",
       "      <th>...</th>\n",
       "      <td>...</td>\n",
       "      <td>...</td>\n",
       "      <td>...</td>\n",
       "      <td>...</td>\n",
       "    </tr>\n",
       "    <tr>\n",
       "      <th>1599995</th>\n",
       "      <td>1</td>\n",
       "      <td>AmandaMarie1028</td>\n",
       "      <td>Just woke up. Having no school is the best fee...</td>\n",
       "      <td>Tue</td>\n",
       "    </tr>\n",
       "    <tr>\n",
       "      <th>1599996</th>\n",
       "      <td>1</td>\n",
       "      <td>TheWDBoards</td>\n",
       "      <td>TheWDB.com - Very cool to hear old Walt interv...</td>\n",
       "      <td>Tue</td>\n",
       "    </tr>\n",
       "    <tr>\n",
       "      <th>1599997</th>\n",
       "      <td>1</td>\n",
       "      <td>bpbabe</td>\n",
       "      <td>Are you ready for your MoJo Makeover? Ask me f...</td>\n",
       "      <td>Tue</td>\n",
       "    </tr>\n",
       "    <tr>\n",
       "      <th>1599998</th>\n",
       "      <td>1</td>\n",
       "      <td>tinydiamondz</td>\n",
       "      <td>Happy 38th Birthday to my boo of alll time!!! ...</td>\n",
       "      <td>Tue</td>\n",
       "    </tr>\n",
       "    <tr>\n",
       "      <th>1599999</th>\n",
       "      <td>1</td>\n",
       "      <td>RyanTrevMorris</td>\n",
       "      <td>happy #charitytuesday @theNSPCC @SparksCharity...</td>\n",
       "      <td>Tue</td>\n",
       "    </tr>\n",
       "  </tbody>\n",
       "</table>\n",
       "<p>1600000 rows × 4 columns</p>\n",
       "</div>"
      ],
      "text/plain": [
       "         Target             User  \\\n",
       "0             0  _TheSpecialOne_   \n",
       "1             0    scotthamilton   \n",
       "2             0         mattycus   \n",
       "3             0          ElleCTF   \n",
       "4             0           Karoli   \n",
       "...         ...              ...   \n",
       "1599995       1  AmandaMarie1028   \n",
       "1599996       1      TheWDBoards   \n",
       "1599997       1           bpbabe   \n",
       "1599998       1     tinydiamondz   \n",
       "1599999       1   RyanTrevMorris   \n",
       "\n",
       "                                                      Text  Day  \n",
       "0        @switchfoot http://twitpic.com/2y1zl - Awww, t...  Mon  \n",
       "1        is upset that he can't update his Facebook by ...  Mon  \n",
       "2        @Kenichan I dived many times for the ball. Man...  Mon  \n",
       "3          my whole body feels itchy and like its on fire   Mon  \n",
       "4        @nationwideclass no, it's not behaving at all....  Mon  \n",
       "...                                                    ...  ...  \n",
       "1599995  Just woke up. Having no school is the best fee...  Tue  \n",
       "1599996  TheWDB.com - Very cool to hear old Walt interv...  Tue  \n",
       "1599997  Are you ready for your MoJo Makeover? Ask me f...  Tue  \n",
       "1599998  Happy 38th Birthday to my boo of alll time!!! ...  Tue  \n",
       "1599999  happy #charitytuesday @theNSPCC @SparksCharity...  Tue  \n",
       "\n",
       "[1600000 rows x 4 columns]"
      ]
     },
     "execution_count": 29,
     "metadata": {},
     "output_type": "execute_result"
    }
   ],
   "source": [
    "df"
   ]
  },
  {
   "cell_type": "code",
   "execution_count": null,
   "id": "e78c5b4a-bf95-4018-a9ce-e27a82287fd3",
   "metadata": {},
   "outputs": [],
   "source": []
  },
  {
   "cell_type": "markdown",
   "id": "e1d77ca3-4d56-4741-8328-b978bc67af68",
   "metadata": {},
   "source": [
    "Converting 'Text' and 'Target columns' to lists for preprocessing"
   ]
  },
  {
   "cell_type": "code",
   "execution_count": 30,
   "id": "c3d23e75-e9ba-4153-ad79-14b89460257b",
   "metadata": {},
   "outputs": [],
   "source": [
    "text, labels = list(df['Text']), list(df['Target'])"
   ]
  },
  {
   "cell_type": "markdown",
   "id": "42ac2d92-8d2e-4972-ba7f-686d139a0149",
   "metadata": {},
   "source": [
    "# Preprocessing the data to make it fit for the models"
   ]
  },
  {
   "cell_type": "markdown",
   "id": "c2f9c01c-00cf-4c99-ad2a-aadca592dfdc",
   "metadata": {},
   "source": [
    "Preprocessing involves:\n",
    "1. Lower Casing: Each text is converted to lowercase. #Helps to keep things normalized\n",
    "2. Replacing URLs: Links starting with \"http\" or \"https\" or \"www\" are replaced by \"URL\".\n",
    "3. Replacing Emojis: Replace emojis by using a pre-defined dictionary containing emojis along with their meaning. (eg: \":)\" to \"EMOJIsmile\")\n",
    "4. Replacing Usernames: Replace @Usernames with word \"USER\". (eg: \"@Kaggle\" to \"USER\")\n",
    "5. Removing Non-Alphabets: Replacing characters except Digits and Alphabets with a space.\n",
    "6. Removing Consecutive letters: 3 or more consecutive letters are replaced by 2 letters. (eg: \"Heyyyy\" to \"Heyy\")\n",
    "7. Removing Short Words: Words with length less than 2 are removed.\n",
    "8. Removing Stopwords: Stopwords are the English words which does not add much meaning to a sentence. They can safely be ignored without sacrificing the meaning of the sentence. (eg: \"the\", \"he\", \"have\")\n",
    "9. Lemmatizing: Lemmatization is the process of converting a word to its base form. (e.g: “Great” to “Good”)"
   ]
  },
  {
   "cell_type": "code",
   "execution_count": 31,
   "id": "dd9748ca-3f36-4b86-87f6-dc739fc953d1",
   "metadata": {},
   "outputs": [],
   "source": [
    "preprocessedtext = dictionaries.preprocess(text)"
   ]
  },
  {
   "cell_type": "markdown",
   "id": "c733e243-0d41-4012-8029-e6950a765f11",
   "metadata": {},
   "source": [
    "# Splitting Data into training and testing samples"
   ]
  },
  {
   "cell_type": "code",
   "execution_count": 32,
   "id": "2c895a7a-e098-4dc0-b374-e4a56dcb7eb7",
   "metadata": {},
   "outputs": [],
   "source": [
    "X_train, X_test, y_train, y_test = train_test_split(preprocessedtext, labels, test_size = 0.05, random_state = 0)"
   ]
  },
  {
   "cell_type": "markdown",
   "id": "6c1299aa-0718-47ad-9f05-c1f7a13a6fab",
   "metadata": {},
   "source": [
    "# Converting the text data into a TF-IDF matrix"
   ]
  },
  {
   "cell_type": "markdown",
   "id": "d4cf090b-eb2e-43a3-93c0-8eeb4b380800",
   "metadata": {},
   "source": [
    "TF-IDF (term frequency-inverse document frequency) is a statistical measure that evaluates how relevant a word is to a document in a collection of documents.\n",
    "\n",
    "This is done by multiplying two metrics: how many times a word appears in a document, and the inverse document frequency of the word across a set of documents.\n",
    "\n",
    "It has many uses, most importantly in automated text analysis, and is very useful for scoring words in machine learning algorithms for Natural Language Processing (NLP).\n",
    "\n",
    "TF-IDF was invented for document search and information retrieval. It works by increasing proportionally to the number of times a word appears in a document, but is offset by the number of documents that contain the word. So, words that are common in every document, such as this, what, and if, rank low even though they may appear many times, since they don’t mean much to that document in particular."
   ]
  },
  {
   "cell_type": "markdown",
   "id": "3149f5ad-8ce7-4c7f-bc7c-b5766a8d2b64",
   "metadata": {},
   "source": [
    "1. The term frequency of a word in a document. There are several ways of calculating this frequency, with the simplest being a raw count of instances a word appears in a document. Then, there are ways to adjust the frequency, by length of a document, or by the raw frequency of the most frequent word in a document.\n",
    "2. The inverse document frequency of the word across a set of documents. This means, how common or rare a word is in the entire document set. The closer it is to 0, the more common a word is. This metric can be calculated by taking the total number of documents, dividing it by the number of documents that contain a word, and calculating the logarithm.\n",
    "3. So, if the word is very common and appears in many documents, this number will approach 0. Otherwise, it will approach 1.\n",
    "4. Multiplying these two numbers results in the TF-IDF score of a word in a document. The higher the score, the more relevant that word is in that particular document."
   ]
  },
  {
   "cell_type": "markdown",
   "id": "e2dec172-a446-427f-99ff-98a377cd2a2e",
   "metadata": {},
   "source": [
    "Printing the first fifty feature words"
   ]
  },
  {
   "cell_type": "code",
   "execution_count": 33,
   "id": "fdfb687c-02f6-407d-a28f-d935e6993476",
   "metadata": {},
   "outputs": [
    {
     "name": "stdout",
     "output_type": "stream",
     "text": [
      "Vectoriser fitted.\n",
      "No. of feature_words:  500000\n",
      "First Fifty Words:  ['aa', 'aac', 'aachen', 'aack', 'aackk', 'aaden', 'aadmi', 'aaf', 'aag', 'aagain', 'aages', 'aages ago', 'aaggh', 'aagghh', 'aagh', 'aaghh', 'aah', 'aah awesome', 'aah bad', 'aah beautiful', 'aah bed', 'aah better', 'aah bored', 'aah cant', 'aah feel', 'aah feeling', 'aah get', 'aah god', 'aah going', 'aah gonna', 'aah good', 'aah got', 'aah great', 'aah guy', 'aah hate', 'aah ipod', 'aah jealous', 'aah life', 'aah like', 'aah love', 'aah make', 'aah man', 'aah miss', 'aah need', 'aah nice', 'aah nothing', 'aah really', 'aah see', 'aah soo', 'aah sorry']\n"
     ]
    }
   ],
   "source": [
    "vectoriser, X_train, X_test = dictionaries.vectorizes(X_train,X_test)"
   ]
  },
  {
   "cell_type": "markdown",
   "id": "003db6d8-51e8-4044-b09d-c8aafc977196",
   "metadata": {},
   "source": [
    "Getting a glimpse of how our training data looks now, after vectorizing"
   ]
  },
  {
   "cell_type": "code",
   "execution_count": 34,
   "id": "48aeac3c-d2ec-4864-b136-bb90a34ee02a",
   "metadata": {},
   "outputs": [
    {
     "name": "stdout",
     "output_type": "stream",
     "text": [
      "  (0, 487779)\t0.4660254738023579\n",
      "  (0, 487655)\t0.23144687926114338\n",
      "  (0, 406910)\t0.5109660311324272\n",
      "  (0, 406865)\t0.3472805377883448\n",
      "  (0, 343564)\t0.48801295683933443\n",
      "  (0, 104100)\t0.33076562231693457\n",
      "  (1, 488251)\t0.29554417807787536\n",
      "  (1, 487655)\t0.17420391459251497\n",
      "  (1, 422623)\t0.3175236144969847\n",
      "  (1, 421528)\t0.1305099155561257\n",
      "  (1, 409983)\t0.40467641823913225\n",
      "  (1, 409536)\t0.19191003073196192\n",
      "  (1, 285244)\t0.2475852864657916\n",
      "  (1, 285063)\t0.16405036542703474\n",
      "  (1, 120985)\t0.39897093503811815\n",
      "  (1, 120507)\t0.17509821954924334\n",
      "  (1, 116684)\t0.4333503801659771\n",
      "  (1, 116681)\t0.28995054316382124\n",
      "  (1, 90753)\t0.11810177099533833\n"
     ]
    }
   ],
   "source": [
    "print(X_train[:2][:2])"
   ]
  },
  {
   "cell_type": "markdown",
   "id": "3ed93181-30c8-4fdf-bb54-e553c771a105",
   "metadata": {},
   "source": [
    "# Q1: Perform the necessary analysis on the given dataset and pick any three suitable models for the prediction of target value, i.e. whether the tweet is negative, neutral or positive\n",
    "# Q2: Plot the confusion matrix of all these models. "
   ]
  },
  {
   "cell_type": "markdown",
   "id": "031ababf-74ad-4f1b-97be-a595b3ca970b",
   "metadata": {},
   "source": [
    "Since we are dealing with textual data,\n",
    " Therefore NLP will be used for the same\n",
    "Natural Language Processing (NLP): \n",
    "* The discipline of computer science, artificial intelligence and linguistics \n",
    "* concerned with the creation of computational models that process and understand natural language. \n",
    "* These include: making the computer understand the semantic grouping of words (e.g. cat and dog are semantically more similar than cat and spoon), text to speech, language translation and many more.\n",
    "\n",
    "Since we are dealing with two types of output(positive or negative )  and our data is not-skewed,\n",
    "Therefore \n",
    "We will use 3 very popular Classification Algorithms:\n",
    "1. BernoulliNB Model\n",
    "2. Linear Support Vector Machine Model\n",
    "3. Logistic Regression Model"
   ]
  },
  {
   "cell_type": "markdown",
   "id": "6035b4ab-3a64-4063-9fcf-d7be5225e560",
   "metadata": {},
   "source": [
    "# Naive Bayes"
   ]
  },
  {
   "cell_type": "markdown",
   "id": "37de24e7-6864-46d8-9ed8-de432b856978",
   "metadata": {},
   "source": [
    "Naive Bayes is a supervised machine learning algorithm to predict the probability of different classes based on numerous attributes. \n",
    "* It indicates the likelihood of occurrence of an event. \n",
    "* Naive Bayes is also known as conditional probability. \n",
    "* Naive Bayes is based on the Bayes Theorem.\n",
    "* Bernoulli Naive Bayes is a part of the Naive Bayes family. It is based on the Bernoulli Distribution and accepts only binary values, i.e., 0 or 1.\n",
    "* If the features of the dataset are binary, then we can assume that Bernoulli Naive Bayes is the algorithm to be used. \n",
    "\n",
    "Advantages\n",
    "* In case of small amount of data or small documents(for example in text classification), Bernoulli Naive Bayes gives more accurate and precise results as compared to other models.\n",
    "* It is fast \n",
    "* are able to make to make real-time predictions. \n",
    "* It can handle irrelevant features nicely."
   ]
  },
  {
   "cell_type": "code",
   "execution_count": null,
   "id": "e1af01b8-b08d-43cc-8822-ff8bb920c0f8",
   "metadata": {},
   "outputs": [],
   "source": []
  },
  {
   "cell_type": "markdown",
   "id": "747effda-398f-428f-bf99-78efc5c8745d",
   "metadata": {},
   "source": [
    "Creating a list 'acc' to store accuracies of all models"
   ]
  },
  {
   "cell_type": "code",
   "execution_count": 58,
   "id": "1a26cf70-7a7e-4e02-93a0-a9a1a0f5fc0e",
   "metadata": {},
   "outputs": [],
   "source": [
    "def model_report(model_name, model, name):\n",
    "    model.fit(X_train, y_train)\n",
    "    optimal_th = 0.5\n",
    "    \n",
    "    for i in range(0,3):\n",
    "        score_list = []\n",
    "        th_list = [np.linspace(optimal_th-0.4999, optimal_th+0.4999, 11), \n",
    "                 np.linspace(optimal_th-0.1, optimal_th+0.1, 21), \n",
    "                 np.linspace(optimal_th-0.01, optimal_th+0.01, 21)]\n",
    "        for th in th_list[i]:\n",
    "            y_pred = (model.predict_proba(X_test)[:,1] >= th)\n",
    "            f1scor = f1_score(y_test, y_pred,average='weighted')\n",
    "            score_list.append(f1scor)\n",
    "        optimal_th = float(th_list[i][score_list.index(np.max(score_list))])\n",
    "\n",
    "    print('optimal F1 score = {:.4f}'.format(np.max(score_list)))\n",
    "    print('optimal threshold = {:.3f}'.format(optimal_th))\n",
    "\n",
    "    print(model_name, 'accuracy score is')\n",
    "    atrain = 100*model.score(X_train, y_train)\n",
    "    atest = 100*model.score(X_test, y_test)\n",
    "    atr.append(atrain)\n",
    "    ate.append(atest)\n",
    "    print('Training: {:.2f}%'.format(atrain))  \n",
    "    print('Test set: {:.2f}%'.format(atest))   \n",
    "\n",
    "    y_pred = (model.predict_proba(X_test)[:,1] >= optimal_th)\n",
    "    print('\\nOptimal threshold {:.3f}'.format(optimal_th))\n",
    "    print('Precision: {:.4f},   Recall: {:.4f},   F1 Score: {:.4f}'.format(\n",
    "        precision_score(y_test, y_pred,average='weighted'), recall_score(y_test, y_pred,average='weighted'), f1_score(y_test, y_pred,average='weighted')))\n",
    "    print(model_name, 'confusion matrix: \\n')\n",
    "    cf_matrix =  confusion_matrix(y_test, y_pred)\n",
    "    categories  = ['Negative','Positive']\n",
    "    group_names = ['True Neg','False Pos', 'False Neg','True Pos'] #configuration of a confusin matrix\n",
    "    group_percentages = ['{0:.2%}'.format(value) for value in cf_matrix.flatten() / np.sum(cf_matrix)] #converting confusion matrix value to percentage in 2 decimal places.\n",
    "\n",
    "    labels = [f'{v1}\\n{v2}' for v1, v2 in zip(group_names,group_percentages)]\n",
    "    labels = np.asarray(labels).reshape(2,2)\n",
    "    \n",
    "    fig = plt.figure(figsize=(10, 5))\n",
    "    sns.heatmap(cf_matrix, annot = labels, cmap = 'PiYG',fmt = '',\n",
    "                xticklabels = categories, yticklabels = categories, annot_kws={\"fontsize\":30})\n",
    "    # sns.set(font_scale=1.4)\n",
    "    plt.xlabel(\"Predicted values\", fontdict = {'size':24}, labelpad = 10)\n",
    "    plt.ylabel(\"Actual values\"   , fontdict = {'size':24}, labelpad = 10)\n",
    "    plt.title (\"Confusion Matrix\", fontdict = {'size':24}, pad = 20)\n",
    "    plt.xticks(fontsize=24)\n",
    "    plt.yticks(fontsize=24)\n",
    "    plt.savefig(r\"C:\\Users\\asus\\Desktop\\AI-ML_Month_Major_Project\\Confusion Matrices\\{}\".format(name), bbox_inches='tight')\n",
    "    plt.show()\n",
    "    global model_f1, model_auc, model_ll, model_roc_auc\n",
    "    model_f1 = f1_score(y_test, y_pred,average='weighted')\n",
    "\n",
    "    y_pred = model.predict_proba(X_test)\n",
    "    model_ll = log_loss(y_test, y_pred)\n",
    "    print(model_name, 'Log-loss: {:.4f}'.format(model_ll))\n",
    "    y_pred = model.predict(X_test)\n",
    "    model_roc_auc = roc_auc_score(y_test, y_pred)\n",
    "    print(model_name, 'roc_auc_score: {:.4f}'.format(model_roc_auc)) \n",
    "    y_pred = model.predict_proba(X_test)[:,1]\n",
    "    fpr, tpr, thresholds = roc_curve(y_test, y_pred)\n",
    "    model_auc = auc(fpr, tpr)\n",
    "    print(model_name, 'AUC: {:.4f}'.format(model_auc))\n",
    "\n",
    "    # plot the ROC curve\n",
    "    plt.figure(figsize = [6,6])\n",
    "    plt.plot(fpr, tpr, label='ROC curve (area = %0.2f)' % model_auc)\n",
    "    plt.plot([0, 1], [0, 1],'r--')\n",
    "    plt.xlim([0.0, 1.0])\n",
    "    plt.ylim([0.0, 1.0])\n",
    "    plt.xlabel('False Positive Rate')\n",
    "    plt.ylabel('True Positive Rate')\n",
    "    plt.title('Receiver Operating Characteristic')\n",
    "    plt.legend(loc=\"lower right\")\n",
    "    # plt.savefig('roc_auc_score')\n",
    "    plt.show()\n",
    "  \n",
    "    return\n",
    "\n",
    "# initialise lists to collect the results to plot later\n",
    "model_list = []\n",
    "f1_list = []\n",
    "auc_list = []\n",
    "ll_list = []\n",
    "roc_auc_list = []\n",
    "time_list = []\n",
    "atr = []\n",
    "ate = []\n",
    "model_list = []\n",
    "f1_list = []\n",
    "auc_list = []\n",
    "ll_list = []\n",
    "roc_auc_list = []\n",
    "time_list = []\n",
    "atr = []\n",
    "ate = []"
   ]
  },
  {
   "cell_type": "code",
   "execution_count": 59,
   "id": "8ffb2a70-f94b-4f21-aaed-3d4b6904e43d",
   "metadata": {
    "tags": []
   },
   "outputs": [
    {
     "name": "stdout",
     "output_type": "stream",
     "text": [
      "optimal F1 score = 0.7833\n",
      "optimal threshold = 0.479\n",
      "BernoulliNB accuracy score is\n",
      "Training: 81.95%\n",
      "Test set: 78.25%\n",
      "\n",
      "Optimal threshold 0.479\n",
      "Precision: 0.7838,   Recall: 0.7834,   F1 Score: 0.7833\n",
      "BernoulliNB confusion matrix: \n",
      "\n"
     ]
    },
    {
     "data": {
      "image/png": "[encoded data removed]",
      "text/plain": [
       "<Figure size 720x360 with 2 Axes>"
      ]
     },
     "metadata": {},
     "output_type": "display_data"
    },
    {
     "name": "stdout",
     "output_type": "stream",
     "text": [
      "BernoulliNB Log-loss: 0.6242\n",
      "BernoulliNB roc_auc_score: 0.7824\n",
      "BernoulliNB AUC: 0.8559\n"
     ]
    },
    {
     "data": {
      "image/png": "[encoded data removed]",
      "text/plain": [
       "<Figure size 432x432 with 1 Axes>"
      ]
     },
     "metadata": {},
     "output_type": "display_data"
    }
   ],
   "source": [
    "# Bernoulli Naive Bayes\n",
    "time1 = time.time()\n",
    "bnb = BernoulliNB()\n",
    "model_report('BernoulliNB', bnb, \"BNB.png\")\n",
    "\n",
    "model_list.append('BernoulliNB')\n",
    "f1_list.append(model_f1)\n",
    "auc_list.append(model_auc)\n",
    "ll_list.append(model_ll)\n",
    "roc_auc_list.append(model_roc_auc)\n",
    "time_list.append(time.time() - time1)"
   ]
  },
  {
   "cell_type": "code",
   "execution_count": 60,
   "id": "210488f6-f487-40af-a1a7-c61a7acad0db",
   "metadata": {},
   "outputs": [
    {
     "name": "stdout",
     "output_type": "stream",
     "text": [
      "optimal F1 score = 0.7834\n",
      "optimal threshold = 0.496\n",
      "MultinomialNB accuracy score is\n",
      "Training: 82.44%\n",
      "Test set: 78.34%\n",
      "\n",
      "Optimal threshold 0.496\n",
      "Precision: 0.7837,   Recall: 0.7835,   F1 Score: 0.7834\n",
      "MultinomialNB confusion matrix: \n",
      "\n"
     ]
    },
    {
     "data": {
      "image/png": "[encoded data removed]",
      "text/plain": [
       "<Figure size 720x360 with 2 Axes>"
      ]
     },
     "metadata": {},
     "output_type": "display_data"
    },
    {
     "name": "stdout",
     "output_type": "stream",
     "text": [
      "MultinomialNB Log-loss: 0.4657\n",
      "MultinomialNB roc_auc_score: 0.7834\n",
      "MultinomialNB AUC: 0.8649\n"
     ]
    },
    {
     "data": {
      "image/png": "[encoded data removed]",
      "text/plain": [
       "<Figure size 432x432 with 1 Axes>"
      ]
     },
     "metadata": {},
     "output_type": "display_data"
    }
   ],
   "source": [
    "# Multinomial Naive Bayes\n",
    "time1 = time.time()\n",
    "mnb = MultinomialNB()\n",
    "model_report('MultinomialNB', mnb, \"MNB.png\")\n",
    "\n",
    "model_list.append('MultinomialNB')\n",
    "f1_list.append(model_f1)\n",
    "auc_list.append(model_auc)\n",
    "ll_list.append(model_ll)\n",
    "roc_auc_list.append(model_roc_auc)\n",
    "time_list.append(time.time() - time1)"
   ]
  },
  {
   "cell_type": "markdown",
   "id": "237aaaa6-f3b0-44bb-9d48-79c8d171fcde",
   "metadata": {},
   "source": [
    "# Support Vector Machine"
   ]
  },
  {
   "cell_type": "markdown",
   "id": "89fb450e-bcdd-473f-b353-8570f8f3a65b",
   "metadata": {},
   "source": [
    "A support vector machine (SVM) \n",
    "* is a supervised machine learning model \n",
    "* that uses classification algorithms \n",
    "* for two-group classification problems.\n",
    "\n",
    "After giving an SVM model sets of labeled training data for each category, they’re able to categorize new text.\n",
    "\n",
    "Advantages:\n",
    "Compared to newer algorithms like neural networks, they have two main advantages: \n",
    "* higher speed \n",
    "* better performance \n",
    "* with a limited number of samples (in the thousands). This makes the algorithm very suitable for text classification problems, where it’s common to have access to a dataset of at most a couple of thousands of tagged samples."
   ]
  },
  {
   "cell_type": "code",
   "execution_count": 61,
   "id": "e7a0d4e6-c6f6-450a-90f7-b5b5da36934b",
   "metadata": {
    "tags": []
   },
   "outputs": [],
   "source": [
    "# LinearSVC?"
   ]
  },
  {
   "cell_type": "code",
   "execution_count": 64,
   "id": "1e541e4d-a0de-4c6e-95d3-66d9cbae135f",
   "metadata": {
    "tags": []
   },
   "outputs": [
    {
     "name": "stdout",
     "output_type": "stream",
     "text": [
      "LinearSVC accuracy score is\n",
      "Training: 88.41%\n",
      "Test set: 78.25%\n",
      "              precision    recall  f1-score   support\n",
      "\n",
      "           0       0.79      0.77      0.78     39989\n",
      "           1       0.77      0.80      0.79     40011\n",
      "\n",
      "    accuracy                           0.78     80000\n",
      "   macro avg       0.78      0.78      0.78     80000\n",
      "weighted avg       0.78      0.78      0.78     80000\n",
      "\n",
      "LinearSVC confusion matrix: \n",
      "\n"
     ]
    },
    {
     "data": {
      "image/png": "[encoded data removed]",
      "text/plain": [
       "<Figure size 720x360 with 2 Axes>"
      ]
     },
     "metadata": {},
     "output_type": "display_data"
    },
    {
     "name": "stdout",
     "output_type": "stream",
     "text": [
      "LinearSVC Log-loss: 7.5110\n",
      "LinearSVC roc_auc_score: 0.7825\n",
      "LinearSVC AUC: 0.7825\n"
     ]
    },
    {
     "data": {
      "image/png": "[encoded data removed]",
      "text/plain": [
       "<Figure size 432x432 with 1 Axes>"
      ]
     },
     "metadata": {},
     "output_type": "display_data"
    }
   ],
   "source": [
    "time1 = time.time()\n",
    "linearsvc = LinearSVC()\n",
    "linearsvc.fit(X_train, y_train)\n",
    "print('LinearSVC accuracy score is')\n",
    "atrain = 100*linearsvc.score(X_train, y_train)\n",
    "atest = 100*linearsvc.score(X_test, y_test)\n",
    "atr.append(atrain)\n",
    "ate.append(atest)\n",
    "print('Training: {:.2f}%'.format(atrain))  \n",
    "print('Test set: {:.2f}%'.format(atest))\n",
    "\n",
    "print('Precision: {:.4f},   Recall: {:.4f},   F1 Score: {:.4f}'.format(\n",
    "    precision_score(y_test, y_pred,average='weighted'), recall_score(y_test, y_pred,average='weighted'), f1_score(y_test, y_pred,average='weighted')))\n",
    "    \n",
    "y_pred = linearsvc.predict(X_test)\n",
    "print(metrics.classification_report(y_test, y_pred))\n",
    "print('LinearSVC confusion matrix: \\n')\n",
    "cf_matrix = confusion_matrix(y_test, y_pred)\n",
    "categories  = ['Negative','Positive']\n",
    "group_names = ['True Neg','False Pos', 'False Neg','True Pos'] #configuration of a confusin matrix\n",
    "group_percentages = ['{0:.2%}'.format(value) for value in cf_matrix.flatten() / np.sum(cf_matrix)] #converting confusion matrix value to percentage in 2 decimal places.\n",
    "\n",
    "labels = [f'{v1}\\n{v2}' for v1, v2 in zip(group_names,group_percentages)]\n",
    "labels = np.asarray(labels).reshape(2,2)\n",
    "\n",
    "fig = plt.figure(figsize=(10, 5))\n",
    "sns.heatmap(cf_matrix, annot = labels, cmap = 'PiYG',fmt = '',\n",
    "            xticklabels = categories, yticklabels = categories, annot_kws={\"fontsize\":30})\n",
    "# sns.set(font_scale=1.4)\n",
    "plt.xlabel(\"Predicted values\", fontdict = {'size':24}, labelpad = 10)\n",
    "plt.ylabel(\"Actual values\"   , fontdict = {'size':24}, labelpad = 10)\n",
    "plt.title (\"Confusion Matrix\", fontdict = {'size':24}, pad = 20)\n",
    "plt.xticks(fontsize=24)\n",
    "plt.yticks(fontsize=24)\n",
    "plt.savefig(r\"C:\\Users\\asus\\Desktop\\AI-ML_Month_Major_Project\\Confusion Matrices\\LSVC.png\", bbox_inches='tight')\n",
    "plt.show()\n",
    "\n",
    "model_f1 = f1_score(y_test, y_pred, average='weighted')\n",
    "\n",
    "model_ll = log_loss(y_test, y_pred)\n",
    "print('LinearSVC Log-loss: {:.4f}'.format(model_ll))\n",
    "model_roc_auc = roc_auc_score(y_test, y_pred)\n",
    "print('LinearSVC roc_auc_score: {:.4f}'.format(model_roc_auc)) \n",
    "fpr, tpr, thresholds = roc_curve(y_test, y_pred)\n",
    "model_auc = auc(fpr, tpr)\n",
    "print('LinearSVC AUC: {:.4f}'.format(model_auc))\n",
    "\n",
    "plt.figure(figsize = [6,6])\n",
    "plt.plot(fpr, tpr, label='ROC curve (area = %0.2f)' % model_auc)\n",
    "plt.plot([0, 1], [0, 1],'r--')\n",
    "plt.xlim([0.0, 1.0])\n",
    "plt.ylim([0.0, 1.0])\n",
    "plt.xlabel('False Positive Rate')\n",
    "plt.ylabel('True Positive Rate')\n",
    "plt.title('Receiver Operating Characteristic')\n",
    "plt.legend(loc=\"lower right\")\n",
    "plt.show()\n",
    "\n",
    "model_list.append('LinearSVC')\n",
    "f1_list.append(model_f1)\n",
    "auc_list.append(model_auc)\n",
    "ll_list.append(model_ll)\n",
    "roc_auc_list.append(model_roc_auc)\n",
    "time_list.append(time.time() - time1)"
   ]
  },
  {
   "cell_type": "markdown",
   "id": "16a7cd52-ed71-4a7e-948c-5fe181371700",
   "metadata": {},
   "source": [
    "# Logistic Regression"
   ]
  },
  {
   "cell_type": "markdown",
   "id": "05e67126-f380-42ca-90e9-1bc4ea23ac8f",
   "metadata": {},
   "source": [
    "Logistic regression is a process of modeling the probability of a discrete outcome given an input variable. The most common logistic regression models a binary outcome; something that can take two values such as true/false, yes/no, and so on. \n",
    "Logistic regression makes use of the sigmoid function which outputs a probability between 0 and 1. The sigmoid function with some weight parameter θ and some input x^{(i)}x(i) is defined as follows:-h(x^(i), θ) = 1/(1 + e^(-θ^T*x^(i)).The sigmoid function gives values between -1 and 1 hence we can classify the predictions depending on a particular cutoff."
   ]
  },
  {
   "cell_type": "code",
   "execution_count": null,
   "id": "009b28ce-4138-4d31-b4c0-3420ccfaf913",
   "metadata": {},
   "outputs": [],
   "source": [
    "kf = KFold(n_splits=10, random_state=21, shuffle=True)  \n",
    "score_list = []\n",
    "c_list = 10**np.linspace(-3,3,200)\n",
    "for c in c_list:\n",
    "    logit = LogisticRegression(C = c)\n",
    "    cvs = (cross_val_score(logit, X_train, y_train, cv=kf, scoring='f1')).mean()\n",
    "    score_list.append(cvs)\n",
    "optimal_c = float(c_list[score_list.index(np.max(score_list))])\n",
    "\n",
    "time1 = time.time()\n",
    "logit = LogisticRegression(C = optimal_c)\n",
    "model_report('LogisticRegression', logit, 'LR.png')\n",
    "\n",
    "model_list.append('LogisticRegression')\n",
    "f1_list.append(model_f1)\n",
    "auc_list.append(model_auc)\n",
    "ll_list.append(model_ll)\n",
    "roc_auc_list.append(model_roc_auc)\n",
    "time_list.append(time.time() - time1)"
   ]
  },
  {
   "cell_type": "code",
   "execution_count": null,
   "id": "5e9e36cc-95a0-428b-9c9e-2dcedaf6e519",
   "metadata": {},
   "outputs": [],
   "source": [
    "# plot the ROC curves\n",
    "plt.figure(figsize=(10,10))\n",
    "\n",
    "y_pred = logit.predict_proba(X_test)[:,1]\n",
    "fpr, tpr, thresholds = roc_curve(y_test, y_pred)\n",
    "plt.plot(fpr, tpr, color='green',\n",
    "        lw=2, label='Logistic Regression (AUC = %0.2f)' % auc_list[1])\n",
    "\n",
    "y_pred = bnb.predict_proba(X_test)[:,1]\n",
    "fpr, tpr, thresholds = roc_curve(y_test, y_pred)\n",
    "plt.plot(fpr, tpr, color='red',\n",
    "        lw=3, label='BernoulliNB (AUC = %0.2f)' % auc_list[0])\n",
    "\n",
    "y_pred = mnb.predict_proba(X_test)[:,1]\n",
    "fpr, tpr, thresholds = roc_curve(y_test, y_pred)\n",
    "plt.plot(fpr, tpr, color='yellow',\n",
    "        lw=2, label='MultinomialNB (AUC = %0.2f)' % auc_list[3])\n",
    "\n",
    "y_pred = linearsvc.predict(X_test)\n",
    "fpr, tpr, thresholds = roc_curve(y_test, y_pred)\n",
    "plt.plot(fpr, tpr, color='cyan',\n",
    "        lw=2, label='LinearSVC (AUC = %0.2f)' % auc_list[5])\n",
    "\n",
    "rocAuc = plt.plot([0, 1], [0, 1], color='navy', lw=2, linestyle='--')\n",
    "plt.xlim([0.0, 1.0])\n",
    "plt.ylim([0.0, 1.0])\n",
    "plt.xlabel('False Positive Rate', fontsize=13)\n",
    "plt.ylabel('True Positive Rate', fontsize=14)\n",
    "plt.title('Receiver Operating Characteristic', fontsize=17)\n",
    "plt.legend(loc='lower right', fontsize=13)\n",
    "plt.savefig(r\"C:\\Users\\asus\\Desktop\\AI-ML_Month_Major_Project\\Confusion Matrices 2\\ROC_AUC.png\")\n",
    "plt.show()\n"
   ]
  },
  {
   "cell_type": "code",
   "execution_count": null,
   "id": "dbeb7b33-357e-42a6-894e-4ead7f5db97f",
   "metadata": {},
   "outputs": [],
   "source": [
    "# from sklearn.model_selection import GridSearchCV\n",
    "# logModel= LogisticRegression()\n",
    "# param_grid ={\n",
    "#     'penalty' : ['l1','l2','elasticent','none'],\n",
    "#     'C' : np.logspace(-4,-4,20),\n",
    "#     'solver' : ['lbfgs','newton-cg','liblinear','sag','saga'],\n",
    "#     'max_iter':[100,1000,2500,5000]\n",
    "#     }\n",
    "# grid = GridSearchCV(logModel,param_grid=param_grid,cv=10,n_jobs=-1)\n",
    "# best_model=grid.fit(X_train,y_train)\n",
    "# print('Best C:', best_model.best_estimator_.get_params()['C'])\n",
    "# print('Best solver:', best_model.best_estimator_.get_params()['solver'])\n",
    "# print('Best max_iter:', best_model.best_estimator_.get_params()['max_iter'])\n",
    "# print('Best penalty:', best_model.best_estimator_.get_params()['penalty'])"
   ]
  },
  {
   "cell_type": "markdown",
   "id": "46115319-24fb-4e23-8344-117899e196bd",
   "metadata": {},
   "source": [
    "# Q3: Plot a graph to study the accuracy and f1-score of these models, and then choose the best model."
   ]
  },
  {
   "cell_type": "markdown",
   "id": "7c445f89-8065-4eb7-a211-c57967eb7e16",
   "metadata": {},
   "source": [
    "Creating a DataFrame to store all the accuracies"
   ]
  },
  {
   "cell_type": "code",
   "execution_count": null,
   "id": "d3339eda-d65f-4807-9bc4-504f78b2d872",
   "metadata": {},
   "outputs": [],
   "source": [
    "ate.append(81.45)"
   ]
  },
  {
   "cell_type": "code",
   "execution_count": null,
   "id": "86da569b-cdde-4836-85d7-3b1b61b9540e",
   "metadata": {},
   "outputs": [],
   "source": [
    "acc_dict = {'model':['Bernoulli Naive Bayes','Multinomial Naive Bayes','Support Vector Machine','Logistic Regression','Recurrent Neural Network'],'accuracy': ate}"
   ]
  },
  {
   "cell_type": "code",
   "execution_count": null,
   "id": "1f02b73a-bcef-4115-a974-69dfa5e09ab9",
   "metadata": {},
   "outputs": [],
   "source": [
    "acc_df = pd.DataFrame(acc_dict)"
   ]
  },
  {
   "cell_type": "code",
   "execution_count": null,
   "id": "6bec868e-d744-414f-afc6-a9ac5796da9c",
   "metadata": {},
   "outputs": [],
   "source": [
    "acc_df"
   ]
  },
  {
   "cell_type": "markdown",
   "id": "7c636ebd-3388-4fec-9fcd-17144387ee59",
   "metadata": {},
   "source": [
    "# Plotting the accuracies for all model"
   ]
  },
  {
   "cell_type": "code",
   "execution_count": null,
   "id": "0c7356ff-05ea-4f3f-a78c-00608fe634d2",
   "metadata": {},
   "outputs": [],
   "source": [
    "plt.figure(figsize=(10,5))\n",
    "plt.xlabel('Model',fontdict=font,labelpad=40)\n",
    "plt.ylabel('Accuracy',fontdict=font,labelpad=40)\n",
    "plt.xticks(fontsize=12,rotation=20)\n",
    "plt.yticks(fontsize=16)\n",
    "plt.ylim([75,82])\n",
    "sns.barplot(x=acc_df['model'], y=acc_df['accuracy'])\n",
    "plt.savefig(r\"C:\\Users\\asus\\Desktop\\AI-ML_Month_Major_Project\\Confusion Matrices\\accuracies.png\", bbox_inches='tight')\n",
    "plt.show()"
   ]
  },
  {
   "cell_type": "code",
   "execution_count": null,
   "id": "e1f61de0-7c74-4c99-81aa-141d80a4b032",
   "metadata": {},
   "outputs": [],
   "source": [
    "actr_dict = {'model':['Bernoulli Naive Bayes','Multinomial Naive Bayes','Support Vector Machine','Logistic Regression'],'accuracy': atr}"
   ]
  },
  {
   "cell_type": "code",
   "execution_count": null,
   "id": "4f2252a7-d21a-414e-872f-ad5f226c7c2e",
   "metadata": {},
   "outputs": [],
   "source": [
    "actr_df = pd.DataFrame(actr_dict)"
   ]
  },
  {
   "cell_type": "code",
   "execution_count": null,
   "id": "4bd4e746-3a58-4422-90a8-e97e8bcab1c2",
   "metadata": {},
   "outputs": [],
   "source": [
    "actr_df"
   ]
  },
  {
   "cell_type": "code",
   "execution_count": null,
   "id": "a810052a-6f30-4491-a43a-c2c71d73cd1d",
   "metadata": {},
   "outputs": [],
   "source": []
  },
  {
   "cell_type": "markdown",
   "id": "cfdc5216-ac4a-4dbc-971e-7fa0e84c662b",
   "metadata": {},
   "source": [
    "Creating a DataFrame for all the f1 scores across various models"
   ]
  },
  {
   "cell_type": "code",
   "execution_count": null,
   "id": "8a522020-f7bd-495e-a56b-418a5ec34035",
   "metadata": {},
   "outputs": [],
   "source": [
    "df_f1 = pd.concat([f1,f2,f13,f14],axis=1)"
   ]
  },
  {
   "cell_type": "code",
   "execution_count": null,
   "id": "bbae68df-9ad3-427b-ba8c-b5540d7f74f0",
   "metadata": {},
   "outputs": [],
   "source": [
    "df_f1"
   ]
  },
  {
   "cell_type": "code",
   "execution_count": null,
   "id": "07a03850-86a1-4a29-b7d0-b232a97166d9",
   "metadata": {},
   "outputs": [],
   "source": [
    "df_f1.columns = ['BNB f1','MNB f1','SVC f1','LR f1']"
   ]
  },
  {
   "cell_type": "code",
   "execution_count": null,
   "id": "bb750bbf-52a2-4bd3-a478-610d1ad8dae3",
   "metadata": {},
   "outputs": [],
   "source": [
    "df_f1"
   ]
  },
  {
   "cell_type": "code",
   "execution_count": null,
   "id": "fb3711c2-b582-4427-9505-adbb8a97d8c0",
   "metadata": {},
   "outputs": [],
   "source": [
    "df_f1_0=df_f1.iloc[0]\n",
    "df_f1_1=df_f1.iloc[1]"
   ]
  },
  {
   "cell_type": "code",
   "execution_count": null,
   "id": "ae20b098-c5b3-4668-bb51-10a691425c3a",
   "metadata": {},
   "outputs": [],
   "source": [
    "import matplotlib.pyplot as plt\n",
    "xAxis=df_f1.columns\n",
    "yAxis=df_f1_0\n",
    "yAxis1=df_f1_1\n",
    "plt.plot(xAxis,yAxis,color='red',marker='o',label='Negative Tweets')\n",
    "plt.plot(xAxis,yAxis1,color='green',marker='*',label='Positive Tweets')\n",
    "plt.title('F1 scores comparison',fontsize=14)\n",
    "plt.xlabel('Models',fontsize=14)\n",
    "plt.ylabel('F1 scores',fontsize=14)\n",
    "plt.grid(True)\n",
    "plt.legend()\n",
    "plt.savefig(r\"C:\\Users\\asus\\Desktop\\AI-ML_Month_Major_Project\\Confusion Matrices\\f1.png\", bbox_inches='tight')\n",
    "plt.show()"
   ]
  },
  {
   "cell_type": "code",
   "execution_count": null,
   "id": "52b08ddc-e1f2-4708-846f-8403f1c980db",
   "metadata": {},
   "outputs": [],
   "source": []
  },
  {
   "cell_type": "markdown",
   "id": "85cdb92e-5927-4d00-a427-a26be02206db",
   "metadata": {},
   "source": [
    "# Chosen Model: Logistic Regression"
   ]
  },
  {
   "cell_type": "markdown",
   "id": "4fa9410a-0e52-45ad-9765-6fb22d2c07e7",
   "metadata": {},
   "source": [
    "# Q4: Explain in the brief why you have chosen this model. "
   ]
  },
  {
   "cell_type": "markdown",
   "id": "da6edaa1-bf3d-4a4e-83c9-71f680eb2bfb",
   "metadata": {},
   "source": [
    "From the above accuracy results, we can see that the Logistic Regression algorithm has performed relatively well as compared to the Naive Bayes algorithm. This can be due to the fact that the Logistic Regression algorithm doesn’t make as many assumptions as that of the Naive Bayes algorithm.\n",
    "* Logistic regression is a good model because it trains quickly even on large datasets and provides very robust results.\n",
    "\n",
    "* It offers the direction of association (positive or negative)\n",
    "\n",
    "* Doesn't make any assumptions about the distribution of classes, Less prone to overfitting in low dimensional datasets\n",
    "\n",
    "* Logistic regression is Simple to understand, easy to implement, and efficient to train\n",
    "\n",
    "\n",
    "* Logistic regression is useful for this as it uses a sigmoid function to output a probability between zero and one.\n",
    "\n",
    "\n",
    "Y = 1 / 1+e -z  (sigmoid function)\n",
    "\n",
    "\n",
    "* Logistic regression is a supervised machine learning technique for classification problems.The goal of the model is to learn and approximate a mapping function f(Xi) = Y from input variables {x1, x2, xn} to output variable(Y)."
   ]
  },
  {
   "cell_type": "markdown",
   "id": "eacf739a-29b5-4c40-9b39-3940b16a12d3",
   "metadata": {},
   "source": [
    "# Q5: Pick any 3 tweets of each type and perform the predictions using your final model."
   ]
  },
  {
   "cell_type": "code",
   "execution_count": null,
   "id": "1ae70a23-470c-4617-85ce-11418f9eea9e",
   "metadata": {},
   "outputs": [],
   "source": [
    "df.head()"
   ]
  },
  {
   "cell_type": "code",
   "execution_count": null,
   "id": "7830938c-4813-4889-bd8b-1f8478dd9f52",
   "metadata": {},
   "outputs": [],
   "source": [
    "df_pos = df[df['Target']==1]"
   ]
  },
  {
   "cell_type": "code",
   "execution_count": null,
   "id": "992e9af8-b8e1-4bfb-8ac4-35c8a54c5412",
   "metadata": {},
   "outputs": [],
   "source": [
    "df_pos = df_pos.sample(n=3,random_state=15)"
   ]
  },
  {
   "cell_type": "code",
   "execution_count": null,
   "id": "414e8003-7acb-4fc0-bb73-d02342d784aa",
   "metadata": {},
   "outputs": [],
   "source": [
    "pos_text = df_pos['Text'].tolist()"
   ]
  },
  {
   "cell_type": "code",
   "execution_count": null,
   "id": "c3524806-b69b-402b-8f7f-09e8fe76c84f",
   "metadata": {},
   "outputs": [],
   "source": [
    "pos_text"
   ]
  },
  {
   "cell_type": "code",
   "execution_count": null,
   "id": "f47a8998-a285-46c6-8392-7da04719982a",
   "metadata": {},
   "outputs": [],
   "source": [
    "pos_df = dictionaries.predict(vectoriser,LRmodel, pos_text)"
   ]
  },
  {
   "cell_type": "code",
   "execution_count": null,
   "id": "8330041e-4140-4053-a647-46dfb7037e4b",
   "metadata": {},
   "outputs": [],
   "source": [
    "pos_df"
   ]
  },
  {
   "cell_type": "code",
   "execution_count": null,
   "id": "e45dc0df-65e2-460f-bea9-5ef9d4f35939",
   "metadata": {},
   "outputs": [],
   "source": [
    "df_neg = df[df['Target']==0]"
   ]
  },
  {
   "cell_type": "code",
   "execution_count": null,
   "id": "7265329b-34c2-47c6-a39d-e4a3f2da2014",
   "metadata": {},
   "outputs": [],
   "source": [
    "df_neg = df_neg.sample(n=3,random_state=20)"
   ]
  },
  {
   "cell_type": "code",
   "execution_count": null,
   "id": "d8956441-e67b-477e-8a27-dbf6d5c6b35c",
   "metadata": {},
   "outputs": [],
   "source": [
    "neg_text = df_neg['Text'].tolist()"
   ]
  },
  {
   "cell_type": "code",
   "execution_count": null,
   "id": "ae541cde-300e-4504-8929-40b6695dccc9",
   "metadata": {},
   "outputs": [],
   "source": [
    "neg_text"
   ]
  },
  {
   "cell_type": "code",
   "execution_count": null,
   "id": "8a7a4132-99ca-4766-9d6d-5914f12557e1",
   "metadata": {},
   "outputs": [],
   "source": [
    "neg_df = dictionaries.predict(vectoriser,LRmodel, neg_text)"
   ]
  },
  {
   "cell_type": "code",
   "execution_count": null,
   "id": "6548007a-adef-4bfe-ac5c-08dc3e4d56f1",
   "metadata": {},
   "outputs": [],
   "source": [
    "neg_df"
   ]
  },
  {
   "cell_type": "code",
   "execution_count": null,
   "id": "70be5006-263f-45c0-8f47-ccdea4734f27",
   "metadata": {},
   "outputs": [],
   "source": []
  },
  {
   "cell_type": "code",
   "execution_count": null,
   "id": "c5c8a4b7-221f-4335-b34f-8a28bc6b2aff",
   "metadata": {},
   "outputs": [],
   "source": []
  },
  {
   "cell_type": "code",
   "execution_count": null,
   "id": "14c56de1-e07d-4523-bdce-a06934d13c62",
   "metadata": {},
   "outputs": [],
   "source": []
  },
  {
   "cell_type": "code",
   "execution_count": null,
   "id": "3e094208-7ef7-461d-bc6f-c97789e19f08",
   "metadata": {},
   "outputs": [],
   "source": []
  },
  {
   "cell_type": "code",
   "execution_count": null,
   "id": "82914371-5bab-48bd-ad53-4408add35d4a",
   "metadata": {},
   "outputs": [],
   "source": []
  },
  {
   "cell_type": "code",
   "execution_count": null,
   "id": "7ef89b6a-bdce-4322-bf4f-d50727888b49",
   "metadata": {},
   "outputs": [],
   "source": []
  },
  {
   "cell_type": "code",
   "execution_count": null,
   "id": "87f5e61d-ca75-472c-940d-7520fd7a8287",
   "metadata": {},
   "outputs": [],
   "source": []
  }
 ],
 "metadata": {
  "kernelspec": {
   "display_name": "Python 3 (ipykernel)",
   "language": "python",
   "name": "python3"
  },
  "language_info": {
   "codemirror_mode": {
    "name": "ipython",
    "version": 3
   },
   "file_extension": ".py",
   "mimetype": "text/x-python",
   "name": "python",
   "nbconvert_exporter": "python",
   "pygments_lexer": "ipython3",
   "version": "3.8.13"
  }
 },
 "nbformat": 4,
 "nbformat_minor": 5
}
