{
 "cells": [
  {
   "cell_type": "markdown",
   "id": "ac0b3b46",
   "metadata": {},
   "source": [
    "https://www.w3schools.com/python/python_regex.asp"
   ]
  },
  {
   "cell_type": "code",
   "execution_count": 46,
   "id": "48449107-25b2-416a-94bb-6e9b1bc0a384",
   "metadata": {},
   "outputs": [],
   "source": [
    "import re\n",
    "userPattern  = '@[^\\s]+'"
   ]
  },
  {
   "cell_type": "code",
   "execution_count": 35,
   "id": "e96ef8e5-3fee-42dc-aa9a-0bcf863aec02",
   "metadata": {},
   "outputs": [],
   "source": [
    "c = '^@'"
   ]
  },
  {
   "cell_type": "code",
   "execution_count": 32,
   "id": "38d3ec00-cd50-4a34-bb10-b89c1613f54c",
   "metadata": {},
   "outputs": [],
   "source": [
    "s = \"@pooja @chayanika @pratibha kanu@ shree @\""
   ]
  },
  {
   "cell_type": "code",
   "execution_count": 47,
   "id": "180b5987-d79a-4c14-8507-c2021b4f5b15",
   "metadata": {},
   "outputs": [
    {
     "data": {
      "text/plain": [
       "['@pooja', '@chayanika', '@pratibha']"
      ]
     },
     "execution_count": 47,
     "metadata": {},
     "output_type": "execute_result"
    }
   ],
   "source": [
    "re.findall(userPattern,s)"
   ]
  },
  {
   "cell_type": "code",
   "execution_count": 36,
   "id": "cff74a19-bf70-4c27-9fe9-e189e80a28e7",
   "metadata": {},
   "outputs": [
    {
     "data": {
      "text/plain": [
       "['@']"
      ]
     },
     "execution_count": 36,
     "metadata": {},
     "output_type": "execute_result"
    }
   ],
   "source": [
    "re.findall(c,s)"
   ]
  },
  {
   "cell_type": "code",
   "execution_count": 37,
   "id": "1ec0f1b3-2c2f-4b0f-ab30-f8e8f9e5c36e",
   "metadata": {},
   "outputs": [],
   "source": [
    "alphaPattern   = \"[^a-zA-Z0-9]\""
   ]
  },
  {
   "cell_type": "code",
   "execution_count": 41,
   "id": "b3140d16-bf08-40ef-8797-b5153b4cff2e",
   "metadata": {},
   "outputs": [],
   "source": [
    "l = 'she ain\\'t 23 years old but she 100% a b'"
   ]
  },
  {
   "cell_type": "code",
   "execution_count": 42,
   "id": "7be031d5-2a3f-4da5-9622-f7a528e2bbab",
   "metadata": {},
   "outputs": [
    {
     "data": {
      "text/plain": [
       "\"she ain't 23 years old but she 100% a b\""
      ]
     },
     "execution_count": 42,
     "metadata": {},
     "output_type": "execute_result"
    }
   ],
   "source": [
    "l"
   ]
  },
  {
   "cell_type": "code",
   "execution_count": 43,
   "id": "070cb096-f193-434c-9f67-4010e759500b",
   "metadata": {},
   "outputs": [
    {
     "data": {
      "text/plain": [
       "[' ', \"'\", ' ', ' ', ' ', ' ', ' ', ' ', '%', ' ', ' ']"
      ]
     },
     "execution_count": 43,
     "metadata": {},
     "output_type": "execute_result"
    }
   ],
   "source": [
    "re.findall(alphaPattern,l)"
   ]
  },
  {
   "cell_type": "code",
   "execution_count": 48,
   "id": "59320295-bcb6-4081-9a12-a9cb1720248a",
   "metadata": {},
   "outputs": [],
   "source": [
    " urlPattern  = r\"((http://)[^ ]*|(https://)[^ ]*|( www\\.)[^ ]*)\""
   ]
  },
  {
   "cell_type": "code",
   "execution_count": 61,
   "id": "5c543082-f6ed-4213-960a-c7903c8d20f7",
   "metadata": {},
   "outputs": [],
   "source": [
    "d = 'http:// www\\\\a'"
   ]
  },
  {
   "cell_type": "code",
   "execution_count": 62,
   "id": "673f0d94-d640-4bb2-85e6-3985d1242c24",
   "metadata": {},
   "outputs": [
    {
     "data": {
      "text/plain": [
       "[('http://', 'http://', '', '')]"
      ]
     },
     "execution_count": 62,
     "metadata": {},
     "output_type": "execute_result"
    }
   ],
   "source": [
    "re.findall(urlPattern,d)"
   ]
  },
  {
   "cell_type": "code",
   "execution_count": null,
   "id": "24bb867c-d9dc-418d-9095-677fd9db57be",
   "metadata": {},
   "outputs": [],
   "source": []
  }
 ],
 "metadata": {
  "kernelspec": {
   "display_name": "Python 3 (ipykernel)",
   "language": "python",
   "name": "python3"
  },
  "language_info": {
   "codemirror_mode": {
    "name": "ipython",
    "version": 3
   },
   "file_extension": ".py",
   "mimetype": "text/x-python",
   "name": "python",
   "nbconvert_exporter": "python",
   "pygments_lexer": "ipython3",
   "version": "3.8.13"
  }
 },
 "nbformat": 4,
 "nbformat_minor": 5
}
