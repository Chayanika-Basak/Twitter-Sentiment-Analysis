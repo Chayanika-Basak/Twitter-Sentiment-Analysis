{
 "cells": [
  {
   "cell_type": "code",
   "execution_count": 1,
   "id": "12595460-b566-4847-9b05-a1b40dfede35",
   "metadata": {},
   "outputs": [],
   "source": [
    "import numpy as np\n",
    "import pandas as pd"
   ]
  },
  {
   "cell_type": "code",
   "execution_count": 2,
   "id": "ff5445c3-7de5-429e-8c13-d74f6b0aacdf",
   "metadata": {},
   "outputs": [],
   "source": [
    "df = pd.read_csv('TwitterSentimentAnalysisDataset.csv',encoding='windows-1252',names=['Target','ID','Date','Flag','User','Text'])"
   ]
  },
  {
   "cell_type": "markdown",
   "id": "95308d33-848b-4b3e-86d8-3f24d3ec7e07",
   "metadata": {},
   "source": [
    "Exploratory Data Analysis"
   ]
  },
  {
   "cell_type": "code",
   "execution_count": 3,
   "id": "b37d9b7e-7e4e-433b-853f-5b260c4ca468",
   "metadata": {},
   "outputs": [
    {
     "data": {
      "text/plain": [
       "(1600000, 6)"
      ]
     },
     "execution_count": 3,
     "metadata": {},
     "output_type": "execute_result"
    }
   ],
   "source": [
    "df.shape"
   ]
  },
  {
   "cell_type": "code",
   "execution_count": 4,
   "id": "d1592e20-e830-43f0-9d2f-ff0c5dc6d028",
   "metadata": {},
   "outputs": [
    {
     "data": {
      "text/html": [
       "<div>\n",
       "<style scoped>\n",
       "    .dataframe tbody tr th:only-of-type {\n",
       "        vertical-align: middle;\n",
       "    }\n",
       "\n",
       "    .dataframe tbody tr th {\n",
       "        vertical-align: top;\n",
       "    }\n",
       "\n",
       "    .dataframe thead th {\n",
       "        text-align: right;\n",
       "    }\n",
       "</style>\n",
       "<table border=\"1\" class=\"dataframe\">\n",
       "  <thead>\n",
       "    <tr style=\"text-align: right;\">\n",
       "      <th></th>\n",
       "      <th>Target</th>\n",
       "      <th>ID</th>\n",
       "      <th>Date</th>\n",
       "      <th>Flag</th>\n",
       "      <th>User</th>\n",
       "      <th>Text</th>\n",
       "    </tr>\n",
       "  </thead>\n",
       "  <tbody>\n",
       "    <tr>\n",
       "      <th>0</th>\n",
       "      <td>0</td>\n",
       "      <td>1467810369</td>\n",
       "      <td>Mon Apr 06 22:19:45 PDT 2009</td>\n",
       "      <td>NO_QUERY</td>\n",
       "      <td>_TheSpecialOne_</td>\n",
       "      <td>@switchfoot http://twitpic.com/2y1zl - Awww, t...</td>\n",
       "    </tr>\n",
       "    <tr>\n",
       "      <th>1</th>\n",
       "      <td>0</td>\n",
       "      <td>1467810672</td>\n",
       "      <td>Mon Apr 06 22:19:49 PDT 2009</td>\n",
       "      <td>NO_QUERY</td>\n",
       "      <td>scotthamilton</td>\n",
       "      <td>is upset that he can't update his Facebook by ...</td>\n",
       "    </tr>\n",
       "    <tr>\n",
       "      <th>2</th>\n",
       "      <td>0</td>\n",
       "      <td>1467810917</td>\n",
       "      <td>Mon Apr 06 22:19:53 PDT 2009</td>\n",
       "      <td>NO_QUERY</td>\n",
       "      <td>mattycus</td>\n",
       "      <td>@Kenichan I dived many times for the ball. Man...</td>\n",
       "    </tr>\n",
       "    <tr>\n",
       "      <th>3</th>\n",
       "      <td>0</td>\n",
       "      <td>1467811184</td>\n",
       "      <td>Mon Apr 06 22:19:57 PDT 2009</td>\n",
       "      <td>NO_QUERY</td>\n",
       "      <td>ElleCTF</td>\n",
       "      <td>my whole body feels itchy and like its on fire</td>\n",
       "    </tr>\n",
       "    <tr>\n",
       "      <th>4</th>\n",
       "      <td>0</td>\n",
       "      <td>1467811193</td>\n",
       "      <td>Mon Apr 06 22:19:57 PDT 2009</td>\n",
       "      <td>NO_QUERY</td>\n",
       "      <td>Karoli</td>\n",
       "      <td>@nationwideclass no, it's not behaving at all....</td>\n",
       "    </tr>\n",
       "  </tbody>\n",
       "</table>\n",
       "</div>"
      ],
      "text/plain": [
       "   Target          ID                          Date      Flag  \\\n",
       "0       0  1467810369  Mon Apr 06 22:19:45 PDT 2009  NO_QUERY   \n",
       "1       0  1467810672  Mon Apr 06 22:19:49 PDT 2009  NO_QUERY   \n",
       "2       0  1467810917  Mon Apr 06 22:19:53 PDT 2009  NO_QUERY   \n",
       "3       0  1467811184  Mon Apr 06 22:19:57 PDT 2009  NO_QUERY   \n",
       "4       0  1467811193  Mon Apr 06 22:19:57 PDT 2009  NO_QUERY   \n",
       "\n",
       "              User                                               Text  \n",
       "0  _TheSpecialOne_  @switchfoot http://twitpic.com/2y1zl - Awww, t...  \n",
       "1    scotthamilton  is upset that he can't update his Facebook by ...  \n",
       "2         mattycus  @Kenichan I dived many times for the ball. Man...  \n",
       "3          ElleCTF    my whole body feels itchy and like its on fire   \n",
       "4           Karoli  @nationwideclass no, it's not behaving at all....  "
      ]
     },
     "execution_count": 4,
     "metadata": {},
     "output_type": "execute_result"
    }
   ],
   "source": [
    "df.head()"
   ]
  },
  {
   "cell_type": "code",
   "execution_count": 5,
   "id": "552f80cd-ac3e-4fb1-83b2-cdcf1a71db50",
   "metadata": {},
   "outputs": [
    {
     "data": {
      "text/html": [
       "<div>\n",
       "<style scoped>\n",
       "    .dataframe tbody tr th:only-of-type {\n",
       "        vertical-align: middle;\n",
       "    }\n",
       "\n",
       "    .dataframe tbody tr th {\n",
       "        vertical-align: top;\n",
       "    }\n",
       "\n",
       "    .dataframe thead th {\n",
       "        text-align: right;\n",
       "    }\n",
       "</style>\n",
       "<table border=\"1\" class=\"dataframe\">\n",
       "  <thead>\n",
       "    <tr style=\"text-align: right;\">\n",
       "      <th></th>\n",
       "      <th>Target</th>\n",
       "      <th>ID</th>\n",
       "      <th>Date</th>\n",
       "      <th>Flag</th>\n",
       "      <th>User</th>\n",
       "      <th>Text</th>\n",
       "    </tr>\n",
       "  </thead>\n",
       "  <tbody>\n",
       "    <tr>\n",
       "      <th>561460</th>\n",
       "      <td>0</td>\n",
       "      <td>2205426244</td>\n",
       "      <td>Wed Jun 17 04:42:48 PDT 2009</td>\n",
       "      <td>NO_QUERY</td>\n",
       "      <td>BurntCaramel</td>\n",
       "      <td>@mjsluijs  Nah.. Most of the antivirus program...</td>\n",
       "    </tr>\n",
       "    <tr>\n",
       "      <th>1570185</th>\n",
       "      <td>4</td>\n",
       "      <td>2188543728</td>\n",
       "      <td>Mon Jun 15 22:05:33 PDT 2009</td>\n",
       "      <td>NO_QUERY</td>\n",
       "      <td>gab_iii</td>\n",
       "      <td>@zacseif fly to arizona and we'll have video g...</td>\n",
       "    </tr>\n",
       "    <tr>\n",
       "      <th>58096</th>\n",
       "      <td>0</td>\n",
       "      <td>1685820960</td>\n",
       "      <td>Sun May 03 02:15:21 PDT 2009</td>\n",
       "      <td>NO_QUERY</td>\n",
       "      <td>NoSheds</td>\n",
       "      <td>@stephenfry I think you killed mobypic - Site ...</td>\n",
       "    </tr>\n",
       "    <tr>\n",
       "      <th>283874</th>\n",
       "      <td>0</td>\n",
       "      <td>1993027493</td>\n",
       "      <td>Mon Jun 01 09:42:50 PDT 2009</td>\n",
       "      <td>NO_QUERY</td>\n",
       "      <td>carebearrr</td>\n",
       "      <td>@mileycyrus and we're gonna miss  you guys so ...</td>\n",
       "    </tr>\n",
       "    <tr>\n",
       "      <th>34009</th>\n",
       "      <td>0</td>\n",
       "      <td>1564669484</td>\n",
       "      <td>Mon Apr 20 04:29:22 PDT 2009</td>\n",
       "      <td>NO_QUERY</td>\n",
       "      <td>timaree</td>\n",
       "      <td>so tired this morning</td>\n",
       "    </tr>\n",
       "    <tr>\n",
       "      <th>801000</th>\n",
       "      <td>4</td>\n",
       "      <td>1468005634</td>\n",
       "      <td>Mon Apr 06 23:13:16 PDT 2009</td>\n",
       "      <td>NO_QUERY</td>\n",
       "      <td>MerCleve</td>\n",
       "      <td>@matt_the_great forget the rest...You need to ...</td>\n",
       "    </tr>\n",
       "    <tr>\n",
       "      <th>1066153</th>\n",
       "      <td>4</td>\n",
       "      <td>1965220208</td>\n",
       "      <td>Fri May 29 15:32:16 PDT 2009</td>\n",
       "      <td>NO_QUERY</td>\n",
       "      <td>jemcsh</td>\n",
       "      <td>@tommcfly ur prince harry came to the usa, so ...</td>\n",
       "    </tr>\n",
       "    <tr>\n",
       "      <th>796932</th>\n",
       "      <td>0</td>\n",
       "      <td>2327967353</td>\n",
       "      <td>Thu Jun 25 09:00:32 PDT 2009</td>\n",
       "      <td>NO_QUERY</td>\n",
       "      <td>evestirling</td>\n",
       "      <td>@DrJoolz thanks, I went there before...it does...</td>\n",
       "    </tr>\n",
       "    <tr>\n",
       "      <th>1345228</th>\n",
       "      <td>4</td>\n",
       "      <td>2043955672</td>\n",
       "      <td>Fri Jun 05 08:39:37 PDT 2009</td>\n",
       "      <td>NO_QUERY</td>\n",
       "      <td>jclanger</td>\n",
       "      <td>change of plans  sims party tonight and then t...</td>\n",
       "    </tr>\n",
       "    <tr>\n",
       "      <th>415064</th>\n",
       "      <td>0</td>\n",
       "      <td>2060975737</td>\n",
       "      <td>Sat Jun 06 19:56:30 PDT 2009</td>\n",
       "      <td>NO_QUERY</td>\n",
       "      <td>Valv30</td>\n",
       "      <td>@Twisted4Jordan I am sad bout that.  But this ...</td>\n",
       "    </tr>\n",
       "  </tbody>\n",
       "</table>\n",
       "</div>"
      ],
      "text/plain": [
       "         Target          ID                          Date      Flag  \\\n",
       "561460        0  2205426244  Wed Jun 17 04:42:48 PDT 2009  NO_QUERY   \n",
       "1570185       4  2188543728  Mon Jun 15 22:05:33 PDT 2009  NO_QUERY   \n",
       "58096         0  1685820960  Sun May 03 02:15:21 PDT 2009  NO_QUERY   \n",
       "283874        0  1993027493  Mon Jun 01 09:42:50 PDT 2009  NO_QUERY   \n",
       "34009         0  1564669484  Mon Apr 20 04:29:22 PDT 2009  NO_QUERY   \n",
       "801000        4  1468005634  Mon Apr 06 23:13:16 PDT 2009  NO_QUERY   \n",
       "1066153       4  1965220208  Fri May 29 15:32:16 PDT 2009  NO_QUERY   \n",
       "796932        0  2327967353  Thu Jun 25 09:00:32 PDT 2009  NO_QUERY   \n",
       "1345228       4  2043955672  Fri Jun 05 08:39:37 PDT 2009  NO_QUERY   \n",
       "415064        0  2060975737  Sat Jun 06 19:56:30 PDT 2009  NO_QUERY   \n",
       "\n",
       "                 User                                               Text  \n",
       "561460   BurntCaramel  @mjsluijs  Nah.. Most of the antivirus program...  \n",
       "1570185       gab_iii  @zacseif fly to arizona and we'll have video g...  \n",
       "58096         NoSheds  @stephenfry I think you killed mobypic - Site ...  \n",
       "283874     carebearrr  @mileycyrus and we're gonna miss  you guys so ...  \n",
       "34009         timaree                             so tired this morning   \n",
       "801000       MerCleve  @matt_the_great forget the rest...You need to ...  \n",
       "1066153        jemcsh  @tommcfly ur prince harry came to the usa, so ...  \n",
       "796932    evestirling  @DrJoolz thanks, I went there before...it does...  \n",
       "1345228      jclanger  change of plans  sims party tonight and then t...  \n",
       "415064         Valv30  @Twisted4Jordan I am sad bout that.  But this ...  "
      ]
     },
     "execution_count": 5,
     "metadata": {},
     "output_type": "execute_result"
    }
   ],
   "source": [
    "df.sample(n=10,random_state=15)"
   ]
  },
  {
   "cell_type": "code",
   "execution_count": 6,
   "id": "e4b616bf-ea88-48ff-83ba-83d99499bba5",
   "metadata": {},
   "outputs": [
    {
     "data": {
      "text/plain": [
       "Index(['Target', 'ID', 'Date', 'Flag', 'User', 'Text'], dtype='object')"
      ]
     },
     "execution_count": 6,
     "metadata": {},
     "output_type": "execute_result"
    }
   ],
   "source": [
    "df.columns"
   ]
  },
  {
   "cell_type": "code",
   "execution_count": 7,
   "id": "613268d6-62b6-4e92-9810-6b5f04cddbc1",
   "metadata": {},
   "outputs": [
    {
     "name": "stdout",
     "output_type": "stream",
     "text": [
      "<class 'pandas.core.frame.DataFrame'>\n",
      "RangeIndex: 1600000 entries, 0 to 1599999\n",
      "Data columns (total 6 columns):\n",
      " #   Column  Non-Null Count    Dtype \n",
      "---  ------  --------------    ----- \n",
      " 0   Target  1600000 non-null  int64 \n",
      " 1   ID      1600000 non-null  int64 \n",
      " 2   Date    1600000 non-null  object\n",
      " 3   Flag    1600000 non-null  object\n",
      " 4   User    1600000 non-null  object\n",
      " 5   Text    1600000 non-null  object\n",
      "dtypes: int64(2), object(4)\n",
      "memory usage: 73.2+ MB\n"
     ]
    }
   ],
   "source": [
    "df.info()"
   ]
  },
  {
   "cell_type": "code",
   "execution_count": 8,
   "id": "8b6b6811-402d-4bbf-baa8-8213db82ab77",
   "metadata": {},
   "outputs": [
    {
     "data": {
      "text/plain": [
       "1"
      ]
     },
     "execution_count": 8,
     "metadata": {},
     "output_type": "execute_result"
    }
   ],
   "source": [
    "df['Flag'].nunique()"
   ]
  },
  {
   "cell_type": "code",
   "execution_count": 9,
   "id": "846b7e8b-2d13-4cba-9149-1d2c0be02b3e",
   "metadata": {},
   "outputs": [],
   "source": [
    "df = df.drop('Flag',axis=1)"
   ]
  },
  {
   "cell_type": "code",
   "execution_count": 10,
   "id": "57ca4470-1522-4dca-99ac-2be31b08b0e5",
   "metadata": {},
   "outputs": [
    {
     "data": {
      "text/html": [
       "<div>\n",
       "<style scoped>\n",
       "    .dataframe tbody tr th:only-of-type {\n",
       "        vertical-align: middle;\n",
       "    }\n",
       "\n",
       "    .dataframe tbody tr th {\n",
       "        vertical-align: top;\n",
       "    }\n",
       "\n",
       "    .dataframe thead th {\n",
       "        text-align: right;\n",
       "    }\n",
       "</style>\n",
       "<table border=\"1\" class=\"dataframe\">\n",
       "  <thead>\n",
       "    <tr style=\"text-align: right;\">\n",
       "      <th></th>\n",
       "      <th>Target</th>\n",
       "      <th>ID</th>\n",
       "      <th>Date</th>\n",
       "      <th>User</th>\n",
       "      <th>Text</th>\n",
       "    </tr>\n",
       "  </thead>\n",
       "  <tbody>\n",
       "    <tr>\n",
       "      <th>0</th>\n",
       "      <td>0</td>\n",
       "      <td>1467810369</td>\n",
       "      <td>Mon Apr 06 22:19:45 PDT 2009</td>\n",
       "      <td>_TheSpecialOne_</td>\n",
       "      <td>@switchfoot http://twitpic.com/2y1zl - Awww, t...</td>\n",
       "    </tr>\n",
       "    <tr>\n",
       "      <th>1</th>\n",
       "      <td>0</td>\n",
       "      <td>1467810672</td>\n",
       "      <td>Mon Apr 06 22:19:49 PDT 2009</td>\n",
       "      <td>scotthamilton</td>\n",
       "      <td>is upset that he can't update his Facebook by ...</td>\n",
       "    </tr>\n",
       "    <tr>\n",
       "      <th>2</th>\n",
       "      <td>0</td>\n",
       "      <td>1467810917</td>\n",
       "      <td>Mon Apr 06 22:19:53 PDT 2009</td>\n",
       "      <td>mattycus</td>\n",
       "      <td>@Kenichan I dived many times for the ball. Man...</td>\n",
       "    </tr>\n",
       "    <tr>\n",
       "      <th>3</th>\n",
       "      <td>0</td>\n",
       "      <td>1467811184</td>\n",
       "      <td>Mon Apr 06 22:19:57 PDT 2009</td>\n",
       "      <td>ElleCTF</td>\n",
       "      <td>my whole body feels itchy and like its on fire</td>\n",
       "    </tr>\n",
       "    <tr>\n",
       "      <th>4</th>\n",
       "      <td>0</td>\n",
       "      <td>1467811193</td>\n",
       "      <td>Mon Apr 06 22:19:57 PDT 2009</td>\n",
       "      <td>Karoli</td>\n",
       "      <td>@nationwideclass no, it's not behaving at all....</td>\n",
       "    </tr>\n",
       "    <tr>\n",
       "      <th>...</th>\n",
       "      <td>...</td>\n",
       "      <td>...</td>\n",
       "      <td>...</td>\n",
       "      <td>...</td>\n",
       "      <td>...</td>\n",
       "    </tr>\n",
       "    <tr>\n",
       "      <th>1599995</th>\n",
       "      <td>4</td>\n",
       "      <td>2193601966</td>\n",
       "      <td>Tue Jun 16 08:40:49 PDT 2009</td>\n",
       "      <td>AmandaMarie1028</td>\n",
       "      <td>Just woke up. Having no school is the best fee...</td>\n",
       "    </tr>\n",
       "    <tr>\n",
       "      <th>1599996</th>\n",
       "      <td>4</td>\n",
       "      <td>2193601969</td>\n",
       "      <td>Tue Jun 16 08:40:49 PDT 2009</td>\n",
       "      <td>TheWDBoards</td>\n",
       "      <td>TheWDB.com - Very cool to hear old Walt interv...</td>\n",
       "    </tr>\n",
       "    <tr>\n",
       "      <th>1599997</th>\n",
       "      <td>4</td>\n",
       "      <td>2193601991</td>\n",
       "      <td>Tue Jun 16 08:40:49 PDT 2009</td>\n",
       "      <td>bpbabe</td>\n",
       "      <td>Are you ready for your MoJo Makeover? Ask me f...</td>\n",
       "    </tr>\n",
       "    <tr>\n",
       "      <th>1599998</th>\n",
       "      <td>4</td>\n",
       "      <td>2193602064</td>\n",
       "      <td>Tue Jun 16 08:40:49 PDT 2009</td>\n",
       "      <td>tinydiamondz</td>\n",
       "      <td>Happy 38th Birthday to my boo of alll time!!! ...</td>\n",
       "    </tr>\n",
       "    <tr>\n",
       "      <th>1599999</th>\n",
       "      <td>4</td>\n",
       "      <td>2193602129</td>\n",
       "      <td>Tue Jun 16 08:40:50 PDT 2009</td>\n",
       "      <td>RyanTrevMorris</td>\n",
       "      <td>happy #charitytuesday @theNSPCC @SparksCharity...</td>\n",
       "    </tr>\n",
       "  </tbody>\n",
       "</table>\n",
       "<p>1600000 rows × 5 columns</p>\n",
       "</div>"
      ],
      "text/plain": [
       "         Target          ID                          Date             User  \\\n",
       "0             0  1467810369  Mon Apr 06 22:19:45 PDT 2009  _TheSpecialOne_   \n",
       "1             0  1467810672  Mon Apr 06 22:19:49 PDT 2009    scotthamilton   \n",
       "2             0  1467810917  Mon Apr 06 22:19:53 PDT 2009         mattycus   \n",
       "3             0  1467811184  Mon Apr 06 22:19:57 PDT 2009          ElleCTF   \n",
       "4             0  1467811193  Mon Apr 06 22:19:57 PDT 2009           Karoli   \n",
       "...         ...         ...                           ...              ...   \n",
       "1599995       4  2193601966  Tue Jun 16 08:40:49 PDT 2009  AmandaMarie1028   \n",
       "1599996       4  2193601969  Tue Jun 16 08:40:49 PDT 2009      TheWDBoards   \n",
       "1599997       4  2193601991  Tue Jun 16 08:40:49 PDT 2009           bpbabe   \n",
       "1599998       4  2193602064  Tue Jun 16 08:40:49 PDT 2009     tinydiamondz   \n",
       "1599999       4  2193602129  Tue Jun 16 08:40:50 PDT 2009   RyanTrevMorris   \n",
       "\n",
       "                                                      Text  \n",
       "0        @switchfoot http://twitpic.com/2y1zl - Awww, t...  \n",
       "1        is upset that he can't update his Facebook by ...  \n",
       "2        @Kenichan I dived many times for the ball. Man...  \n",
       "3          my whole body feels itchy and like its on fire   \n",
       "4        @nationwideclass no, it's not behaving at all....  \n",
       "...                                                    ...  \n",
       "1599995  Just woke up. Having no school is the best fee...  \n",
       "1599996  TheWDB.com - Very cool to hear old Walt interv...  \n",
       "1599997  Are you ready for your MoJo Makeover? Ask me f...  \n",
       "1599998  Happy 38th Birthday to my boo of alll time!!! ...  \n",
       "1599999  happy #charitytuesday @theNSPCC @SparksCharity...  \n",
       "\n",
       "[1600000 rows x 5 columns]"
      ]
     },
     "execution_count": 10,
     "metadata": {},
     "output_type": "execute_result"
    }
   ],
   "source": [
    "df"
   ]
  },
  {
   "cell_type": "code",
   "execution_count": 11,
   "id": "86cca847-8fc5-47f6-9aa6-260f6b47fdb4",
   "metadata": {},
   "outputs": [
    {
     "data": {
      "text/plain": [
       "Target     int64\n",
       "ID         int64\n",
       "Date      object\n",
       "User      object\n",
       "Text      object\n",
       "dtype: object"
      ]
     },
     "execution_count": 11,
     "metadata": {},
     "output_type": "execute_result"
    }
   ],
   "source": [
    "df.dtypes"
   ]
  },
  {
   "cell_type": "code",
   "execution_count": 12,
   "id": "825f25d7-07b0-4a63-91ee-4fc0dac7a825",
   "metadata": {},
   "outputs": [
    {
     "data": {
      "text/plain": [
       "0    Mon Apr 06 22:19:45 PDT 2009\n",
       "1    Mon Apr 06 22:19:49 PDT 2009\n",
       "2    Mon Apr 06 22:19:53 PDT 2009\n",
       "3    Mon Apr 06 22:19:57 PDT 2009\n",
       "4    Mon Apr 06 22:19:57 PDT 2009\n",
       "Name: Date, dtype: object"
      ]
     },
     "execution_count": 12,
     "metadata": {},
     "output_type": "execute_result"
    }
   ],
   "source": [
    "df['Date'].head()"
   ]
  },
  {
   "cell_type": "code",
   "execution_count": 13,
   "id": "8c1bb66c-0f18-491f-9104-f43871da1fee",
   "metadata": {},
   "outputs": [
    {
     "data": {
      "text/plain": [
       "0          Mon Apr 06 22:19:45 PDT 2009\n",
       "1          Mon Apr 06 22:19:49 PDT 2009\n",
       "2          Mon Apr 06 22:19:53 PDT 2009\n",
       "3          Mon Apr 06 22:19:57 PDT 2009\n",
       "4          Mon Apr 06 22:19:57 PDT 2009\n",
       "                       ...             \n",
       "1599995    Tue Jun 16 08:40:49 PDT 2009\n",
       "1599996    Tue Jun 16 08:40:49 PDT 2009\n",
       "1599997    Tue Jun 16 08:40:49 PDT 2009\n",
       "1599998    Tue Jun 16 08:40:49 PDT 2009\n",
       "1599999    Tue Jun 16 08:40:50 PDT 2009\n",
       "Name: Date, Length: 1600000, dtype: object"
      ]
     },
     "execution_count": 13,
     "metadata": {},
     "output_type": "execute_result"
    }
   ],
   "source": [
    "df['Date']"
   ]
  },
  {
   "cell_type": "code",
   "execution_count": 14,
   "id": "ae571cb0-005b-49e8-bd1f-a683bb370a7f",
   "metadata": {},
   "outputs": [],
   "source": [
    "df['Date'] = df['Date'].str.replace(' PDT 2009','')"
   ]
  },
  {
   "cell_type": "code",
   "execution_count": 15,
   "id": "3690840c-9685-48a6-956c-83bcb610db55",
   "metadata": {},
   "outputs": [
    {
     "data": {
      "text/html": [
       "<div>\n",
       "<style scoped>\n",
       "    .dataframe tbody tr th:only-of-type {\n",
       "        vertical-align: middle;\n",
       "    }\n",
       "\n",
       "    .dataframe tbody tr th {\n",
       "        vertical-align: top;\n",
       "    }\n",
       "\n",
       "    .dataframe thead th {\n",
       "        text-align: right;\n",
       "    }\n",
       "</style>\n",
       "<table border=\"1\" class=\"dataframe\">\n",
       "  <thead>\n",
       "    <tr style=\"text-align: right;\">\n",
       "      <th></th>\n",
       "      <th>Target</th>\n",
       "      <th>ID</th>\n",
       "      <th>Date</th>\n",
       "      <th>User</th>\n",
       "      <th>Text</th>\n",
       "    </tr>\n",
       "  </thead>\n",
       "  <tbody>\n",
       "    <tr>\n",
       "      <th>0</th>\n",
       "      <td>0</td>\n",
       "      <td>1467810369</td>\n",
       "      <td>Mon Apr 06 22:19:45</td>\n",
       "      <td>_TheSpecialOne_</td>\n",
       "      <td>@switchfoot http://twitpic.com/2y1zl - Awww, t...</td>\n",
       "    </tr>\n",
       "    <tr>\n",
       "      <th>1</th>\n",
       "      <td>0</td>\n",
       "      <td>1467810672</td>\n",
       "      <td>Mon Apr 06 22:19:49</td>\n",
       "      <td>scotthamilton</td>\n",
       "      <td>is upset that he can't update his Facebook by ...</td>\n",
       "    </tr>\n",
       "    <tr>\n",
       "      <th>2</th>\n",
       "      <td>0</td>\n",
       "      <td>1467810917</td>\n",
       "      <td>Mon Apr 06 22:19:53</td>\n",
       "      <td>mattycus</td>\n",
       "      <td>@Kenichan I dived many times for the ball. Man...</td>\n",
       "    </tr>\n",
       "    <tr>\n",
       "      <th>3</th>\n",
       "      <td>0</td>\n",
       "      <td>1467811184</td>\n",
       "      <td>Mon Apr 06 22:19:57</td>\n",
       "      <td>ElleCTF</td>\n",
       "      <td>my whole body feels itchy and like its on fire</td>\n",
       "    </tr>\n",
       "    <tr>\n",
       "      <th>4</th>\n",
       "      <td>0</td>\n",
       "      <td>1467811193</td>\n",
       "      <td>Mon Apr 06 22:19:57</td>\n",
       "      <td>Karoli</td>\n",
       "      <td>@nationwideclass no, it's not behaving at all....</td>\n",
       "    </tr>\n",
       "  </tbody>\n",
       "</table>\n",
       "</div>"
      ],
      "text/plain": [
       "   Target          ID                 Date             User  \\\n",
       "0       0  1467810369  Mon Apr 06 22:19:45  _TheSpecialOne_   \n",
       "1       0  1467810672  Mon Apr 06 22:19:49    scotthamilton   \n",
       "2       0  1467810917  Mon Apr 06 22:19:53         mattycus   \n",
       "3       0  1467811184  Mon Apr 06 22:19:57          ElleCTF   \n",
       "4       0  1467811193  Mon Apr 06 22:19:57           Karoli   \n",
       "\n",
       "                                                Text  \n",
       "0  @switchfoot http://twitpic.com/2y1zl - Awww, t...  \n",
       "1  is upset that he can't update his Facebook by ...  \n",
       "2  @Kenichan I dived many times for the ball. Man...  \n",
       "3    my whole body feels itchy and like its on fire   \n",
       "4  @nationwideclass no, it's not behaving at all....  "
      ]
     },
     "execution_count": 15,
     "metadata": {},
     "output_type": "execute_result"
    }
   ],
   "source": [
    "df.head()"
   ]
  },
  {
   "cell_type": "code",
   "execution_count": null,
   "id": "ccf1bb05-15f5-43ae-bb6b-630870e10946",
   "metadata": {},
   "outputs": [],
   "source": [
    "for ind, row in df.iterrows():\n",
    "    d = row['Date']\n",
    "    df.loc[ind,['Day']] = d[:3]"
   ]
  },
  {
   "cell_type": "code",
   "execution_count": null,
   "id": "fc0bd90d-62e8-4328-a509-80ade2334c69",
   "metadata": {},
   "outputs": [],
   "source": [
    "df"
   ]
  },
  {
   "cell_type": "code",
   "execution_count": null,
   "id": "bb42cff0-2608-4b2b-ace0-7c8f1ea3fe5e",
   "metadata": {},
   "outputs": [],
   "source": []
  }
 ],
 "metadata": {
  "kernelspec": {
   "display_name": "Python 3 (ipykernel)",
   "language": "python",
   "name": "python3"
  },
  "language_info": {
   "codemirror_mode": {
    "name": "ipython",
    "version": 3
   },
   "file_extension": ".py",
   "mimetype": "text/x-python",
   "name": "python",
   "nbconvert_exporter": "python",
   "pygments_lexer": "ipython3",
   "version": "3.8.13"
  }
 },
 "nbformat": 4,
 "nbformat_minor": 5
}
