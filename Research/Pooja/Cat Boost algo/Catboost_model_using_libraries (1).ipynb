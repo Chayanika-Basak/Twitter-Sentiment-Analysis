{
  "nbformat": 4,
  "nbformat_minor": 0,
  "metadata": {
    "colab": {
      "name": "Catboost model using libraries",
      "provenance": []
    },
    "kernelspec": {
      "name": "python3",
      "display_name": "Python 3"
    },
    "language_info": {
      "name": "python"
    },
    "accelerator": "GPU",
    "gpuClass": "standard",
    "widgets": {
      "application/vnd.jupyter.widget-state+json": {
        "cec5a495cfb64009b9fa8e7c03fe5e77": {
          "model_module": "catboost-widget",
          "model_name": "CatboostWidgetModel",
          "model_module_version": "^1.0.0",
          "state": {
            "_dom_classes": [],
            "_model_module": "catboost-widget",
            "_model_module_version": "^1.0.0",
            "_model_name": "CatboostWidgetModel",
            "_view_count": null,
            "_view_module": "catboost-widget",
            "_view_module_version": "^1.0.0",
            "_view_name": "CatboostWidgetView",
            "data": {
              "catboost_info": {
                "path": "catboost_info",
                "name": "catboost_info",
                "content": {
                  "passed_iterations": 99,
                  "total_iterations": 100,
                  "data": {
                    "iterations": [
                      {
                        "learn": [
                          0.8571428571,
                          0.643387175
                        ],
                        "iteration": 0,
                        "passed_time": 0.006230794871,
                        "remaining_time": 0.6168486922,
                        "test": [
                          0.7885304659,
                          0.6527852777
                        ]
                      },
                      {
                        "learn": [
                          0.8553259141,
                          0.6085837705
                        ],
                        "iteration": 1,
                        "passed_time": 0.01054778692,
                        "remaining_time": 0.5168415589,
                        "test": [
                          0.8275862069,
                          0.6192689341
                        ]
                      },
                      {
                        "learn": [
                          0.8562300319,
                          0.583708603
                        ],
                        "iteration": 2,
                        "passed_time": 0.01541584603,
                        "remaining_time": 0.4984456884,
                        "test": [
                          0.8251748252,
                          0.5972166766
                        ]
                      },
                      {
                        "learn": [
                          0.8576,
                          0.5631626621
                        ],
                        "iteration": 3,
                        "passed_time": 0.020123758,
                        "remaining_time": 0.482970192,
                        "test": [
                          0.8309859155,
                          0.5824761602
                        ]
                      },
                      {
                        "learn": [
                          0.8557692308,
                          0.5474409117
                        ],
                        "iteration": 4,
                        "passed_time": 0.02514008933,
                        "remaining_time": 0.4776616972,
                        "test": [
                          0.8309859155,
                          0.5735188376
                        ]
                      },
                      {
                        "learn": [
                          0.8539325843,
                          0.5358822862
                        ],
                        "iteration": 5,
                        "passed_time": 0.02897197395,
                        "remaining_time": 0.4538942586,
                        "test": [
                          0.8339222615,
                          0.5646922295
                        ]
                      },
                      {
                        "learn": [
                          0.8520900322,
                          0.5242538267
                        ],
                        "iteration": 6,
                        "passed_time": 0.03380780124,
                        "remaining_time": 0.4491607879,
                        "test": [
                          0.8309859155,
                          0.558824962
                        ]
                      },
                      {
                        "learn": [
                          0.8502415459,
                          0.5186191382
                        ],
                        "iteration": 7,
                        "passed_time": 0.03774993128,
                        "remaining_time": 0.4341242097,
                        "test": [
                          0.8398576512,
                          0.5529298078
                        ]
                      },
                      {
                        "learn": [
                          0.8520900322,
                          0.5140275422
                        ],
                        "iteration": 8,
                        "passed_time": 0.04276998259,
                        "remaining_time": 0.4324520462,
                        "test": [
                          0.8309859155,
                          0.5531666197
                        ]
                      },
                      {
                        "learn": [
                          0.8520900322,
                          0.5106442491
                        ],
                        "iteration": 9,
                        "passed_time": 0.04568532409,
                        "remaining_time": 0.4111679168,
                        "test": [
                          0.8368794326,
                          0.5491005282
                        ]
                      },
                      {
                        "learn": [
                          0.8520900322,
                          0.5051686828
                        ],
                        "iteration": 10,
                        "passed_time": 0.05075468513,
                        "remaining_time": 0.4106515434,
                        "test": [
                          0.8309859155,
                          0.5489542919
                        ]
                      },
                      {
                        "learn": [
                          0.8539325843,
                          0.5000729155
                        ],
                        "iteration": 11,
                        "passed_time": 0.05566728201,
                        "remaining_time": 0.4082267348,
                        "test": [
                          0.8309859155,
                          0.5488109119
                        ]
                      },
                      {
                        "learn": [
                          0.8557692308,
                          0.4962211293
                        ],
                        "iteration": 12,
                        "passed_time": 0.06050817927,
                        "remaining_time": 0.4049393536,
                        "test": [
                          0.8251748252,
                          0.5492360533
                        ]
                      },
                      {
                        "learn": [
                          0.8557692308,
                          0.4941055409
                        ],
                        "iteration": 13,
                        "passed_time": 0.06481948235,
                        "remaining_time": 0.3981768202,
                        "test": [
                          0.8251748252,
                          0.5464304656
                        ]
                      },
                      {
                        "learn": [
                          0.8557692308,
                          0.4918320185
                        ],
                        "iteration": 14,
                        "passed_time": 0.06965740363,
                        "remaining_time": 0.3947252872,
                        "test": [
                          0.8251748252,
                          0.5468528635
                        ]
                      },
                      {
                        "learn": [
                          0.8576,
                          0.4884362882
                        ],
                        "iteration": 15,
                        "passed_time": 0.07447989399,
                        "remaining_time": 0.3910194434,
                        "test": [
                          0.8251748252,
                          0.5464728595
                        ]
                      },
                      {
                        "learn": [
                          0.8576,
                          0.4861620975
                        ],
                        "iteration": 16,
                        "passed_time": 0.07979186774,
                        "remaining_time": 0.3895720602,
                        "test": [
                          0.8309859155,
                          0.545926888
                        ]
                      },
                      {
                        "learn": [
                          0.8576,
                          0.4842252337
                        ],
                        "iteration": 17,
                        "passed_time": 0.08483088395,
                        "remaining_time": 0.3864518047,
                        "test": [
                          0.8251748252,
                          0.5483816363
                        ]
                      },
                      {
                        "learn": [
                          0.8576,
                          0.4817596213
                        ],
                        "iteration": 18,
                        "passed_time": 0.08967249521,
                        "remaining_time": 0.3822880059,
                        "test": [
                          0.8280701754,
                          0.5468905219
                        ]
                      },
                      {
                        "learn": [
                          0.8594249201,
                          0.4769060641
                        ],
                        "iteration": 19,
                        "passed_time": 0.09455853923,
                        "remaining_time": 0.3782341569,
                        "test": [
                          0.8280701754,
                          0.5472555677
                        ]
                      },
                      {
                        "learn": [
                          0.8612440191,
                          0.4721568309
                        ],
                        "iteration": 20,
                        "passed_time": 0.09939908349,
                        "remaining_time": 0.3739298855,
                        "test": [
                          0.8309859155,
                          0.5501227919
                        ]
                      },
                      {
                        "learn": [
                          0.8612440191,
                          0.4672140228
                        ],
                        "iteration": 21,
                        "passed_time": 0.1042298298,
                        "remaining_time": 0.3695421239,
                        "test": [
                          0.8280701754,
                          0.5501764608
                        ]
                      },
                      {
                        "learn": [
                          0.8612440191,
                          0.464732966
                        ],
                        "iteration": 22,
                        "passed_time": 0.1090717171,
                        "remaining_time": 0.3651531397,
                        "test": [
                          0.8309859155,
                          0.550110427
                        ]
                      },
                      {
                        "learn": [
                          0.8580542265,
                          0.4600090528
                        ],
                        "iteration": 23,
                        "passed_time": 0.1139512381,
                        "remaining_time": 0.3608455874,
                        "test": [
                          0.8309859155,
                          0.5492843853
                        ]
                      },
                      {
                        "learn": [
                          0.8594249201,
                          0.4596015949
                        ],
                        "iteration": 24,
                        "passed_time": 0.1173116952,
                        "remaining_time": 0.3519350857,
                        "test": [
                          0.8309859155,
                          0.5483043652
                        ]
                      },
                      {
                        "learn": [
                          0.8612440191,
                          0.4578640977
                        ],
                        "iteration": 25,
                        "passed_time": 0.1222271941,
                        "remaining_time": 0.3478773986,
                        "test": [
                          0.8309859155,
                          0.5478673475
                        ]
                      },
                      {
                        "learn": [
                          0.8594249201,
                          0.4556180114
                        ],
                        "iteration": 26,
                        "passed_time": 0.1271504419,
                        "remaining_time": 0.3437771208,
                        "test": [
                          0.8309859155,
                          0.5468218197
                        ]
                      },
                      {
                        "learn": [
                          0.8580542265,
                          0.4520890359
                        ],
                        "iteration": 27,
                        "passed_time": 0.1320704978,
                        "remaining_time": 0.3396098514,
                        "test": [
                          0.8280701754,
                          0.5456567774
                        ]
                      },
                      {
                        "learn": [
                          0.8630573248,
                          0.4498143997
                        ],
                        "iteration": 28,
                        "passed_time": 0.1370913621,
                        "remaining_time": 0.3356374727,
                        "test": [
                          0.8280701754,
                          0.5431110025
                        ]
                      },
                      {
                        "learn": [
                          0.8630573248,
                          0.4475620762
                        ],
                        "iteration": 29,
                        "passed_time": 0.1465280539,
                        "remaining_time": 0.3418987924,
                        "test": [
                          0.8280701754,
                          0.5438456042
                        ]
                      },
                      {
                        "learn": [
                          0.8598726115,
                          0.4447837514
                        ],
                        "iteration": 30,
                        "passed_time": 0.1514609817,
                        "remaining_time": 0.3371228302,
                        "test": [
                          0.8280701754,
                          0.5460085563
                        ]
                      },
                      {
                        "learn": [
                          0.8598726115,
                          0.4408894931
                        ],
                        "iteration": 31,
                        "passed_time": 0.1564352742,
                        "remaining_time": 0.3324249577,
                        "test": [
                          0.8280701754,
                          0.5492174496
                        ]
                      },
                      {
                        "learn": [
                          0.8598726115,
                          0.4391978466
                        ],
                        "iteration": 32,
                        "passed_time": 0.1616031787,
                        "remaining_time": 0.3281034235,
                        "test": [
                          0.8251748252,
                          0.5480037746
                        ]
                      },
                      {
                        "learn": [
                          0.8612440191,
                          0.4376400022
                        ],
                        "iteration": 33,
                        "passed_time": 0.1664044122,
                        "remaining_time": 0.3230203296,
                        "test": [
                          0.8251748252,
                          0.5486942911
                        ]
                      },
                      {
                        "learn": [
                          0.8612440191,
                          0.4359179123
                        ],
                        "iteration": 34,
                        "passed_time": 0.171344785,
                        "remaining_time": 0.3182117435,
                        "test": [
                          0.8251748252,
                          0.5482443072
                        ]
                      },
                      {
                        "learn": [
                          0.8666666667,
                          0.4316447831
                        ],
                        "iteration": 35,
                        "passed_time": 0.1761958322,
                        "remaining_time": 0.3132370349,
                        "test": [
                          0.8222996516,
                          0.5485028798
                        ]
                      },
                      {
                        "learn": [
                          0.8648648649,
                          0.4278185768
                        ],
                        "iteration": 36,
                        "passed_time": 0.1810958681,
                        "remaining_time": 0.3083524241,
                        "test": [
                          0.8222996516,
                          0.5509330486
                        ]
                      },
                      {
                        "learn": [
                          0.8648648649,
                          0.4245084962
                        ],
                        "iteration": 37,
                        "passed_time": 0.1859491633,
                        "remaining_time": 0.3033907401,
                        "test": [
                          0.8235294118,
                          0.5478620106
                        ]
                      },
                      {
                        "learn": [
                          0.8684627575,
                          0.4229277451
                        ],
                        "iteration": 38,
                        "passed_time": 0.1912237093,
                        "remaining_time": 0.299093494,
                        "test": [
                          0.8235294118,
                          0.5498662112
                        ]
                      },
                      {
                        "learn": [
                          0.8666666667,
                          0.4212210996
                        ],
                        "iteration": 39,
                        "passed_time": 0.1960495156,
                        "remaining_time": 0.2940742734,
                        "test": [
                          0.8194444444,
                          0.5501265502
                        ]
                      },
                      {
                        "learn": [
                          0.8680445151,
                          0.4181279092
                        ],
                        "iteration": 40,
                        "passed_time": 0.2009263087,
                        "remaining_time": 0.2891378588,
                        "test": [
                          0.8235294118,
                          0.5503331076
                        ]
                      },
                      {
                        "learn": [
                          0.8698412698,
                          0.4164474376
                        ],
                        "iteration": 41,
                        "passed_time": 0.2057810949,
                        "remaining_time": 0.2841738929,
                        "test": [
                          0.8235294118,
                          0.5510516989
                        ]
                      },
                      {
                        "learn": [
                          0.8698412698,
                          0.4136482851
                        ],
                        "iteration": 42,
                        "passed_time": 0.210639991,
                        "remaining_time": 0.2792204532,
                        "test": [
                          0.8235294118,
                          0.5502871809
                        ]
                      },
                      {
                        "learn": [
                          0.873015873,
                          0.4108964683
                        ],
                        "iteration": 43,
                        "passed_time": 0.2155032672,
                        "remaining_time": 0.2742768855,
                        "test": [
                          0.8166089965,
                          0.5521222194
                        ]
                      },
                      {
                        "learn": [
                          0.873015873,
                          0.4087972154
                        ],
                        "iteration": 44,
                        "passed_time": 0.2203367555,
                        "remaining_time": 0.2693004789,
                        "test": [
                          0.8166089965,
                          0.5518554537
                        ]
                      },
                      {
                        "learn": [
                          0.8761904762,
                          0.4064099017
                        ],
                        "iteration": 45,
                        "passed_time": 0.2297112946,
                        "remaining_time": 0.269661085,
                        "test": [
                          0.8235294118,
                          0.5528114958
                        ]
                      },
                      {
                        "learn": [
                          0.8775834658,
                          0.4030367441
                        ],
                        "iteration": 46,
                        "passed_time": 0.2347366679,
                        "remaining_time": 0.264703051,
                        "test": [
                          0.8235294118,
                          0.5513493204
                        ]
                      },
                      {
                        "learn": [
                          0.8775834658,
                          0.4018356435
                        ],
                        "iteration": 47,
                        "passed_time": 0.2395795251,
                        "remaining_time": 0.2595444856,
                        "test": [
                          0.8137931034,
                          0.551525473
                        ]
                      },
                      {
                        "learn": [
                          0.8789808917,
                          0.4005160367
                        ],
                        "iteration": 48,
                        "passed_time": 0.2448065534,
                        "remaining_time": 0.2547986576,
                        "test": [
                          0.8194444444,
                          0.5528826032
                        ]
                      },
                      {
                        "learn": [
                          0.8789808917,
                          0.3988542394
                        ],
                        "iteration": 49,
                        "passed_time": 0.2496540646,
                        "remaining_time": 0.2496540646,
                        "test": [
                          0.8194444444,
                          0.5531408
                        ]
                      },
                      {
                        "learn": [
                          0.8803827751,
                          0.3965973494
                        ],
                        "iteration": 50,
                        "passed_time": 0.2545424316,
                        "remaining_time": 0.2445603754,
                        "test": [
                          0.8194444444,
                          0.5537181911
                        ]
                      },
                      {
                        "learn": [
                          0.8839427663,
                          0.3948451133
                        ],
                        "iteration": 51,
                        "passed_time": 0.25934773,
                        "remaining_time": 0.2393979046,
                        "test": [
                          0.8166089965,
                          0.5553791441
                        ]
                      },
                      {
                        "learn": [
                          0.8835725678,
                          0.3917445719
                        ],
                        "iteration": 52,
                        "passed_time": 0.2659987637,
                        "remaining_time": 0.2358856961,
                        "test": [
                          0.8166089965,
                          0.5556193009
                        ]
                      },
                      {
                        "learn": [
                          0.8857142857,
                          0.3892844541
                        ],
                        "iteration": 53,
                        "passed_time": 0.270827711,
                        "remaining_time": 0.2307050871,
                        "test": [
                          0.8166089965,
                          0.5546596508
                        ]
                      },
                      {
                        "learn": [
                          0.8857142857,
                          0.3877204839
                        ],
                        "iteration": 54,
                        "passed_time": 0.2757934026,
                        "remaining_time": 0.2256491476,
                        "test": [
                          0.8166089965,
                          0.555554545
                        ]
                      },
                      {
                        "learn": [
                          0.8871224165,
                          0.386018702
                        ],
                        "iteration": 55,
                        "passed_time": 0.2808162169,
                        "remaining_time": 0.2206413133,
                        "test": [
                          0.8166089965,
                          0.5556536895
                        ]
                      },
                      {
                        "learn": [
                          0.8885350318,
                          0.3848901456
                        ],
                        "iteration": 56,
                        "passed_time": 0.2859711145,
                        "remaining_time": 0.2157325951,
                        "test": [
                          0.8194444444,
                          0.5574700116
                        ]
                      },
                      {
                        "learn": [
                          0.8899521531,
                          0.3840698836
                        ],
                        "iteration": 57,
                        "passed_time": 0.2907959278,
                        "remaining_time": 0.2105763615,
                        "test": [
                          0.8194444444,
                          0.5576416542
                        ]
                      },
                      {
                        "learn": [
                          0.8885350318,
                          0.3816513841
                        ],
                        "iteration": 58,
                        "passed_time": 0.2959174506,
                        "remaining_time": 0.2056375504,
                        "test": [
                          0.8137931034,
                          0.5577386565
                        ]
                      },
                      {
                        "learn": [
                          0.8899521531,
                          0.3807543827
                        ],
                        "iteration": 59,
                        "passed_time": 0.3008473124,
                        "remaining_time": 0.2005648749,
                        "test": [
                          0.8137931034,
                          0.5581030634
                        ]
                      },
                      {
                        "learn": [
                          0.8899521531,
                          0.3787213625
                        ],
                        "iteration": 60,
                        "passed_time": 0.3057022436,
                        "remaining_time": 0.1954489754,
                        "test": [
                          0.8137931034,
                          0.5583718586
                        ]
                      },
                      {
                        "learn": [
                          0.8931419458,
                          0.3775609149
                        ],
                        "iteration": 61,
                        "passed_time": 0.3105532778,
                        "remaining_time": 0.1903391057,
                        "test": [
                          0.8166089965,
                          0.5585014456
                        ]
                      },
                      {
                        "learn": [
                          0.8928,
                          0.3761521314
                        ],
                        "iteration": 62,
                        "passed_time": 0.3154201749,
                        "remaining_time": 0.1852467694,
                        "test": [
                          0.8166089965,
                          0.5592346191
                        ]
                      },
                      {
                        "learn": [
                          0.8942307692,
                          0.3742220988
                        ],
                        "iteration": 63,
                        "passed_time": 0.3203551247,
                        "remaining_time": 0.1801997576,
                        "test": [
                          0.8137931034,
                          0.5596657363
                        ]
                      },
                      {
                        "learn": [
                          0.896,
                          0.3723103693
                        ],
                        "iteration": 64,
                        "passed_time": 0.3252205498,
                        "remaining_time": 0.1751187576,
                        "test": [
                          0.8096885813,
                          0.559635557
                        ]
                      },
                      {
                        "learn": [
                          0.896,
                          0.3696010989
                        ],
                        "iteration": 65,
                        "passed_time": 0.3302229232,
                        "remaining_time": 0.1701148392,
                        "test": [
                          0.8125,
                          0.5610511291
                        ]
                      },
                      {
                        "learn": [
                          0.8988764045,
                          0.3684210487
                        ],
                        "iteration": 66,
                        "passed_time": 0.340413679,
                        "remaining_time": 0.1676664389,
                        "test": [
                          0.8027681661,
                          0.5620715512
                        ]
                      },
                      {
                        "learn": [
                          0.8985507246,
                          0.3663061657
                        ],
                        "iteration": 67,
                        "passed_time": 0.3452642942,
                        "remaining_time": 0.1624773149,
                        "test": [
                          0.8083623693,
                          0.5619022012
                        ]
                      },
                      {
                        "learn": [
                          0.8953301127,
                          0.3653655783
                        ],
                        "iteration": 68,
                        "passed_time": 0.3501188324,
                        "remaining_time": 0.1572997653,
                        "test": [
                          0.8083623693,
                          0.5618971275
                        ]
                      },
                      {
                        "learn": [
                          0.8938906752,
                          0.3626699703
                        ],
                        "iteration": 69,
                        "passed_time": 0.3550154174,
                        "remaining_time": 0.1521494646,
                        "test": [
                          0.8083623693,
                          0.5614275251
                        ]
                      },
                      {
                        "learn": [
                          0.8924558587,
                          0.3619405927
                        ],
                        "iteration": 70,
                        "passed_time": 0.3598885345,
                        "remaining_time": 0.1469967253,
                        "test": [
                          0.8083623693,
                          0.5617920072
                        ]
                      },
                      {
                        "learn": [
                          0.8924558587,
                          0.3602685487
                        ],
                        "iteration": 71,
                        "passed_time": 0.3647091738,
                        "remaining_time": 0.1418313454,
                        "test": [
                          0.8083623693,
                          0.5626416888
                        ]
                      },
                      {
                        "learn": [
                          0.8924558587,
                          0.3597002981
                        ],
                        "iteration": 72,
                        "passed_time": 0.3718919016,
                        "remaining_time": 0.1375490595,
                        "test": [
                          0.8083623693,
                          0.5625481065
                        ]
                      },
                      {
                        "learn": [
                          0.8956661316,
                          0.3585029472
                        ],
                        "iteration": 73,
                        "passed_time": 0.3768409113,
                        "remaining_time": 0.1324035634,
                        "test": [
                          0.8083623693,
                          0.5638084975
                        ]
                      },
                      {
                        "learn": [
                          0.8956661316,
                          0.3580608878
                        ],
                        "iteration": 74,
                        "passed_time": 0.3816666547,
                        "remaining_time": 0.1272222182,
                        "test": [
                          0.8083623693,
                          0.5638233429
                        ]
                      },
                      {
                        "learn": [
                          0.8956661316,
                          0.3569435435
                        ],
                        "iteration": 75,
                        "passed_time": 0.3865342358,
                        "remaining_time": 0.1220634429,
                        "test": [
                          0.8083623693,
                          0.5628146843
                        ]
                      },
                      {
                        "learn": [
                          0.8956661316,
                          0.3562111216
                        ],
                        "iteration": 76,
                        "passed_time": 0.3913990179,
                        "remaining_time": 0.116911395,
                        "test": [
                          0.8083623693,
                          0.5627445916
                        ]
                      },
                      {
                        "learn": [
                          0.8985507246,
                          0.3542824256
                        ],
                        "iteration": 77,
                        "passed_time": 0.3964297392,
                        "remaining_time": 0.1118135162,
                        "test": [
                          0.8055555556,
                          0.5618920538
                        ]
                      },
                      {
                        "learn": [
                          0.8985507246,
                          0.3528677019
                        ],
                        "iteration": 78,
                        "passed_time": 0.4014547374,
                        "remaining_time": 0.1067158163,
                        "test": [
                          0.8055555556,
                          0.562502706
                        ]
                      },
                      {
                        "learn": [
                          0.9003215434,
                          0.3520141008
                        ],
                        "iteration": 79,
                        "passed_time": 0.4063666793,
                        "remaining_time": 0.1015916698,
                        "test": [
                          0.8083623693,
                          0.5628635801
                        ]
                      },
                      {
                        "learn": [
                          0.9,
                          0.350844483
                        ],
                        "iteration": 80,
                        "passed_time": 0.4133488792,
                        "remaining_time": 0.09695837907,
                        "test": [
                          0.8083623693,
                          0.5634486006
                        ]
                      },
                      {
                        "learn": [
                          0.9038461538,
                          0.3483908252
                        ],
                        "iteration": 81,
                        "passed_time": 0.4182533121,
                        "remaining_time": 0.09181170266,
                        "test": [
                          0.8083623693,
                          0.564670356
                        ]
                      },
                      {
                        "learn": [
                          0.9099678457,
                          0.3472053546
                        ],
                        "iteration": 82,
                        "passed_time": 0.4231018583,
                        "remaining_time": 0.08665941677,
                        "test": [
                          0.8083623693,
                          0.5635376352
                        ]
                      },
                      {
                        "learn": [
                          0.9143780291,
                          0.3457252521
                        ],
                        "iteration": 83,
                        "passed_time": 0.4279653105,
                        "remaining_time": 0.081517202,
                        "test": [
                          0.8055555556,
                          0.5635361695
                        ]
                      },
                      {
                        "learn": [
                          0.9143780291,
                          0.3444635619
                        ],
                        "iteration": 84,
                        "passed_time": 0.4328122347,
                        "remaining_time": 0.07637862966,
                        "test": [
                          0.8055555556,
                          0.5655418358
                        ]
                      },
                      {
                        "learn": [
                          0.9143780291,
                          0.3432250383
                        ],
                        "iteration": 85,
                        "passed_time": 0.4377558114,
                        "remaining_time": 0.07126257395,
                        "test": [
                          0.8055555556,
                          0.5651807362
                        ]
                      },
                      {
                        "learn": [
                          0.9143780291,
                          0.3425951213
                        ],
                        "iteration": 86,
                        "passed_time": 0.4426229086,
                        "remaining_time": 0.0661390553,
                        "test": [
                          0.8055555556,
                          0.5665423013
                        ]
                      },
                      {
                        "learn": [
                          0.9143780291,
                          0.3413471305
                        ],
                        "iteration": 87,
                        "passed_time": 0.4477184245,
                        "remaining_time": 0.06105251243,
                        "test": [
                          0.8013937282,
                          0.5666089739
                        ]
                      },
                      {
                        "learn": [
                          0.9158576052,
                          0.3404111468
                        ],
                        "iteration": 88,
                        "passed_time": 0.4526614522,
                        "remaining_time": 0.05594692106,
                        "test": [
                          0.8013937282,
                          0.5671341619
                        ]
                      },
                      {
                        "learn": [
                          0.9158576052,
                          0.3392596465
                        ],
                        "iteration": 89,
                        "passed_time": 0.4575064214,
                        "remaining_time": 0.05083404682,
                        "test": [
                          0.8013937282,
                          0.566622128
                        ]
                      },
                      {
                        "learn": [
                          0.9158576052,
                          0.3387427411
                        ],
                        "iteration": 90,
                        "passed_time": 0.4623505107,
                        "remaining_time": 0.04572697358,
                        "test": [
                          0.8055555556,
                          0.5661734971
                        ]
                      },
                      {
                        "learn": [
                          0.9129032258,
                          0.3375667377
                        ],
                        "iteration": 91,
                        "passed_time": 0.4671984519,
                        "remaining_time": 0.04062595234,
                        "test": [
                          0.8013937282,
                          0.566857399
                        ]
                      },
                      {
                        "learn": [
                          0.9129032258,
                          0.3359966046
                        ],
                        "iteration": 92,
                        "passed_time": 0.4723201876,
                        "remaining_time": 0.03555098187,
                        "test": [
                          0.8055555556,
                          0.5674751921
                        ]
                      },
                      {
                        "learn": [
                          0.9129032258,
                          0.3350145846
                        ],
                        "iteration": 93,
                        "passed_time": 0.4772042627,
                        "remaining_time": 0.03045984655,
                        "test": [
                          0.8055555556,
                          0.5671877931
                        ]
                      },
                      {
                        "learn": [
                          0.9129032258,
                          0.3331896928
                        ],
                        "iteration": 94,
                        "passed_time": 0.4821898162,
                        "remaining_time": 0.02537841138,
                        "test": [
                          0.8055555556,
                          0.565943375
                        ]
                      },
                      {
                        "learn": [
                          0.9143780291,
                          0.3318649255
                        ],
                        "iteration": 95,
                        "passed_time": 0.487112042,
                        "remaining_time": 0.02029633508,
                        "test": [
                          0.8055555556,
                          0.5657128019
                        ]
                      },
                      {
                        "learn": [
                          0.9143780291,
                          0.3305913178
                        ],
                        "iteration": 96,
                        "passed_time": 0.4920144109,
                        "remaining_time": 0.01521694054,
                        "test": [
                          0.8055555556,
                          0.566067099
                        ]
                      },
                      {
                        "learn": [
                          0.9143780291,
                          0.329530108
                        ],
                        "iteration": 97,
                        "passed_time": 0.4968435903,
                        "remaining_time": 0.01013966511,
                        "test": [
                          0.8055555556,
                          0.5661128754
                        ]
                      },
                      {
                        "learn": [
                          0.9143780291,
                          0.3281957622
                        ],
                        "iteration": 98,
                        "passed_time": 0.5019072403,
                        "remaining_time": 0.005069770104,
                        "test": [
                          0.8055555556,
                          0.5668514609
                        ]
                      },
                      {
                        "learn": [
                          0.9143780291,
                          0.3270095862
                        ],
                        "iteration": 99,
                        "passed_time": 0.5067748625,
                        "remaining_time": 0,
                        "test": [
                          0.8055555556,
                          0.5679107816
                        ]
                      }
                    ],
                    "meta": {
                      "test_sets": [
                        "test"
                      ],
                      "test_metrics": [
                        {
                          "best_value": "Max",
                          "name": "F1"
                        },
                        {
                          "best_value": "Min",
                          "name": "Logloss"
                        }
                      ],
                      "learn_metrics": [
                        {
                          "best_value": "Max",
                          "name": "F1"
                        },
                        {
                          "best_value": "Min",
                          "name": "Logloss"
                        }
                      ],
                      "launch_mode": "Train",
                      "parameters": "",
                      "iteration_count": 100,
                      "learn_sets": [
                        "learn"
                      ],
                      "name": "experiment"
                    }
                  }
                }
              }
            },
            "layout": "IPY_MODEL_0adcee1423b74697a9b363ed375e7def"
          }
        }
      }
    }
  },
  "cells": [
    {
      "cell_type": "code",
      "source": [
        "%pip install CatBoost"
      ],
      "metadata": {
        "colab": {
          "base_uri": "https://localhost:8080/"
        },
        "id": "zoJtbJNKHh6k",
        "outputId": "c24fc133-59e3-4c56-af36-bf9486c68072"
      },
      "execution_count": 4,
      "outputs": [
        {
          "output_type": "stream",
          "name": "stdout",
          "text": [
            "Looking in indexes: https://pypi.org/simple, https://us-python.pkg.dev/colab-wheels/public/simple/\n",
            "Collecting CatBoost\n",
            "  Downloading catboost-1.0.6-cp37-none-manylinux1_x86_64.whl (76.6 MB)\n",
            "\u001b[K     |████████████████████████████████| 76.6 MB 1.2 MB/s \n",
            "\u001b[?25hRequirement already satisfied: pandas>=0.24.0 in /usr/local/lib/python3.7/dist-packages (from CatBoost) (1.3.5)\n",
            "Requirement already satisfied: scipy in /usr/local/lib/python3.7/dist-packages (from CatBoost) (1.4.1)\n",
            "Requirement already satisfied: numpy>=1.16.0 in /usr/local/lib/python3.7/dist-packages (from CatBoost) (1.21.6)\n",
            "Requirement already satisfied: plotly in /usr/local/lib/python3.7/dist-packages (from CatBoost) (5.5.0)\n",
            "Requirement already satisfied: six in /usr/local/lib/python3.7/dist-packages (from CatBoost) (1.15.0)\n",
            "Requirement already satisfied: matplotlib in /usr/local/lib/python3.7/dist-packages (from CatBoost) (3.2.2)\n",
            "Requirement already satisfied: graphviz in /usr/local/lib/python3.7/dist-packages (from CatBoost) (0.10.1)\n",
            "Requirement already satisfied: python-dateutil>=2.7.3 in /usr/local/lib/python3.7/dist-packages (from pandas>=0.24.0->CatBoost) (2.8.2)\n",
            "Requirement already satisfied: pytz>=2017.3 in /usr/local/lib/python3.7/dist-packages (from pandas>=0.24.0->CatBoost) (2022.1)\n",
            "Requirement already satisfied: kiwisolver>=1.0.1 in /usr/local/lib/python3.7/dist-packages (from matplotlib->CatBoost) (1.4.3)\n",
            "Requirement already satisfied: pyparsing!=2.0.4,!=2.1.2,!=2.1.6,>=2.0.1 in /usr/local/lib/python3.7/dist-packages (from matplotlib->CatBoost) (3.0.9)\n",
            "Requirement already satisfied: cycler>=0.10 in /usr/local/lib/python3.7/dist-packages (from matplotlib->CatBoost) (0.11.0)\n",
            "Requirement already satisfied: typing-extensions in /usr/local/lib/python3.7/dist-packages (from kiwisolver>=1.0.1->matplotlib->CatBoost) (4.1.1)\n",
            "Requirement already satisfied: tenacity>=6.2.0 in /usr/local/lib/python3.7/dist-packages (from plotly->CatBoost) (8.0.1)\n",
            "Installing collected packages: CatBoost\n",
            "Successfully installed CatBoost-1.0.6\n"
          ]
        }
      ]
    },
    {
      "cell_type": "code",
      "execution_count": 5,
      "metadata": {
        "colab": {
          "base_uri": "https://localhost:8080/"
        },
        "id": "4To2zD-OHYeY",
        "outputId": "3eabdb20-ea0b-47cf-ed99-b31b7c88af4b"
      },
      "outputs": [
        {
          "output_type": "stream",
          "name": "stderr",
          "text": [
            "/usr/local/lib/python3.7/dist-packages/statsmodels/tools/_testing.py:19: FutureWarning: pandas.util.testing is deprecated. Use the functions in the public API at pandas.testing instead.\n",
            "  import pandas.util.testing as tm\n"
          ]
        }
      ],
      "source": [
        "import numpy as np\n",
        "import pandas as pd\n",
        "import seaborn as sns\n",
        "import statsmodels.api as sm\n",
        "from catboost import CatBoostClassifier\n",
        "from scipy import stats\n",
        "from sklearn.model_selection import train_test_split\n",
        "from sklearn.metrics import f1_score, accuracy_score"
      ]
    },
    {
      "cell_type": "code",
      "source": [
        "def resumetable(df):\n",
        "    print(f\"Dataset Shape: {df.shape}\")\n",
        "    summary = pd.DataFrame(df.dtypes,columns=['dtypes'])\n",
        "    summary = summary.reset_index()\n",
        "    summary['Name'] = summary['index']\n",
        "    summary = summary[['Name','dtypes']]\n",
        "    summary['Missing'] = df.isnull().sum().values    \n",
        "    summary['Uniques'] = df.nunique().values\n",
        "    summary['First Value'] = df.loc[0].values\n",
        "    summary['Second Value'] = df.loc[1].values\n",
        "    return summary"
      ],
      "metadata": {
        "id": "GLZ9psHNH07J"
      },
      "execution_count": 6,
      "outputs": []
    },
    {
      "cell_type": "code",
      "source": [
        "df = pd.read_csv(\"/content/Untitled spreadsheet - Sheet1.csv\")\n",
        "df.head()"
      ],
      "metadata": {
        "colab": {
          "base_uri": "https://localhost:8080/",
          "height": 206
        },
        "id": "En-gcNuoKe4N",
        "outputId": "9dad8158-38f9-4c98-8642-cf0334eec9ba"
      },
      "execution_count": 9,
      "outputs": [
        {
          "output_type": "execute_result",
          "data": {
            "text/plain": [
              "   ApplicantIncome  CoapplicantIncome  LoanAmount  Loan_Amount_Term  \\\n",
              "0           5849.0                0.0         0.0             360.0   \n",
              "1           4583.0             1508.0       128.0             360.0   \n",
              "2           3000.0                0.0        66.0             360.0   \n",
              "3           2583.0             2358.0       120.0             360.0   \n",
              "4           6000.0                0.0       141.0             360.0   \n",
              "\n",
              "  Credit_History  Loan_Status  \n",
              "0            Yes            1  \n",
              "1            Yes            0  \n",
              "2            Yes            1  \n",
              "3            Yes            1  \n",
              "4            Yes            1  "
            ],
            "text/html": [
              "\n",
              "  <div id=\"df-7a182231-53b2-447c-babd-55d7c6942049\">\n",
              "    <div class=\"colab-df-container\">\n",
              "      <div>\n",
              "<style scoped>\n",
              "    .dataframe tbody tr th:only-of-type {\n",
              "        vertical-align: middle;\n",
              "    }\n",
              "\n",
              "    .dataframe tbody tr th {\n",
              "        vertical-align: top;\n",
              "    }\n",
              "\n",
              "    .dataframe thead th {\n",
              "        text-align: right;\n",
              "    }\n",
              "</style>\n",
              "<table border=\"1\" class=\"dataframe\">\n",
              "  <thead>\n",
              "    <tr style=\"text-align: right;\">\n",
              "      <th></th>\n",
              "      <th>ApplicantIncome</th>\n",
              "      <th>CoapplicantIncome</th>\n",
              "      <th>LoanAmount</th>\n",
              "      <th>Loan_Amount_Term</th>\n",
              "      <th>Credit_History</th>\n",
              "      <th>Loan_Status</th>\n",
              "    </tr>\n",
              "  </thead>\n",
              "  <tbody>\n",
              "    <tr>\n",
              "      <th>0</th>\n",
              "      <td>5849.0</td>\n",
              "      <td>0.0</td>\n",
              "      <td>0.0</td>\n",
              "      <td>360.0</td>\n",
              "      <td>Yes</td>\n",
              "      <td>1</td>\n",
              "    </tr>\n",
              "    <tr>\n",
              "      <th>1</th>\n",
              "      <td>4583.0</td>\n",
              "      <td>1508.0</td>\n",
              "      <td>128.0</td>\n",
              "      <td>360.0</td>\n",
              "      <td>Yes</td>\n",
              "      <td>0</td>\n",
              "    </tr>\n",
              "    <tr>\n",
              "      <th>2</th>\n",
              "      <td>3000.0</td>\n",
              "      <td>0.0</td>\n",
              "      <td>66.0</td>\n",
              "      <td>360.0</td>\n",
              "      <td>Yes</td>\n",
              "      <td>1</td>\n",
              "    </tr>\n",
              "    <tr>\n",
              "      <th>3</th>\n",
              "      <td>2583.0</td>\n",
              "      <td>2358.0</td>\n",
              "      <td>120.0</td>\n",
              "      <td>360.0</td>\n",
              "      <td>Yes</td>\n",
              "      <td>1</td>\n",
              "    </tr>\n",
              "    <tr>\n",
              "      <th>4</th>\n",
              "      <td>6000.0</td>\n",
              "      <td>0.0</td>\n",
              "      <td>141.0</td>\n",
              "      <td>360.0</td>\n",
              "      <td>Yes</td>\n",
              "      <td>1</td>\n",
              "    </tr>\n",
              "  </tbody>\n",
              "</table>\n",
              "</div>\n",
              "      <button class=\"colab-df-convert\" onclick=\"convertToInteractive('df-7a182231-53b2-447c-babd-55d7c6942049')\"\n",
              "              title=\"Convert this dataframe to an interactive table.\"\n",
              "              style=\"display:none;\">\n",
              "        \n",
              "  <svg xmlns=\"http://www.w3.org/2000/svg\" height=\"24px\"viewBox=\"0 0 24 24\"\n",
              "       width=\"24px\">\n",
              "    <path d=\"M0 0h24v24H0V0z\" fill=\"none\"/>\n",
              "    <path d=\"M18.56 5.44l.94 2.06.94-2.06 2.06-.94-2.06-.94-.94-2.06-.94 2.06-2.06.94zm-11 1L8.5 8.5l.94-2.06 2.06-.94-2.06-.94L8.5 2.5l-.94 2.06-2.06.94zm10 10l.94 2.06.94-2.06 2.06-.94-2.06-.94-.94-2.06-.94 2.06-2.06.94z\"/><path d=\"M17.41 7.96l-1.37-1.37c-.4-.4-.92-.59-1.43-.59-.52 0-1.04.2-1.43.59L10.3 9.45l-7.72 7.72c-.78.78-.78 2.05 0 2.83L4 21.41c.39.39.9.59 1.41.59.51 0 1.02-.2 1.41-.59l7.78-7.78 2.81-2.81c.8-.78.8-2.07 0-2.86zM5.41 20L4 18.59l7.72-7.72 1.47 1.35L5.41 20z\"/>\n",
              "  </svg>\n",
              "      </button>\n",
              "      \n",
              "  <style>\n",
              "    .colab-df-container {\n",
              "      display:flex;\n",
              "      flex-wrap:wrap;\n",
              "      gap: 12px;\n",
              "    }\n",
              "\n",
              "    .colab-df-convert {\n",
              "      background-color: #E8F0FE;\n",
              "      border: none;\n",
              "      border-radius: 50%;\n",
              "      cursor: pointer;\n",
              "      display: none;\n",
              "      fill: #1967D2;\n",
              "      height: 32px;\n",
              "      padding: 0 0 0 0;\n",
              "      width: 32px;\n",
              "    }\n",
              "\n",
              "    .colab-df-convert:hover {\n",
              "      background-color: #E2EBFA;\n",
              "      box-shadow: 0px 1px 2px rgba(60, 64, 67, 0.3), 0px 1px 3px 1px rgba(60, 64, 67, 0.15);\n",
              "      fill: #174EA6;\n",
              "    }\n",
              "\n",
              "    [theme=dark] .colab-df-convert {\n",
              "      background-color: #3B4455;\n",
              "      fill: #D2E3FC;\n",
              "    }\n",
              "\n",
              "    [theme=dark] .colab-df-convert:hover {\n",
              "      background-color: #434B5C;\n",
              "      box-shadow: 0px 1px 3px 1px rgba(0, 0, 0, 0.15);\n",
              "      filter: drop-shadow(0px 1px 2px rgba(0, 0, 0, 0.3));\n",
              "      fill: #FFFFFF;\n",
              "    }\n",
              "  </style>\n",
              "\n",
              "      <script>\n",
              "        const buttonEl =\n",
              "          document.querySelector('#df-7a182231-53b2-447c-babd-55d7c6942049 button.colab-df-convert');\n",
              "        buttonEl.style.display =\n",
              "          google.colab.kernel.accessAllowed ? 'block' : 'none';\n",
              "\n",
              "        async function convertToInteractive(key) {\n",
              "          const element = document.querySelector('#df-7a182231-53b2-447c-babd-55d7c6942049');\n",
              "          const dataTable =\n",
              "            await google.colab.kernel.invokeFunction('convertToInteractive',\n",
              "                                                     [key], {});\n",
              "          if (!dataTable) return;\n",
              "\n",
              "          const docLinkHtml = 'Like what you see? Visit the ' +\n",
              "            '<a target=\"_blank\" href=https://colab.research.google.com/notebooks/data_table.ipynb>data table notebook</a>'\n",
              "            + ' to learn more about interactive tables.';\n",
              "          element.innerHTML = '';\n",
              "          dataTable['output_type'] = 'display_data';\n",
              "          await google.colab.output.renderOutput(dataTable, element);\n",
              "          const docLink = document.createElement('div');\n",
              "          docLink.innerHTML = docLinkHtml;\n",
              "          element.appendChild(docLink);\n",
              "        }\n",
              "      </script>\n",
              "    </div>\n",
              "  </div>\n",
              "  "
            ]
          },
          "metadata": {},
          "execution_count": 9
        }
      ]
    },
    {
      "cell_type": "code",
      "source": [
        "print (\"Total number of rows in dataset = {}\".format(df.shape[0]))\n",
        "print (\"Total number of columns in dataset = {}\".format(df.shape[1]))"
      ],
      "metadata": {
        "colab": {
          "base_uri": "https://localhost:8080/"
        },
        "id": "PHo6HE0ILQMq",
        "outputId": "935564ed-dd7f-401d-9447-8bcd22255fb1"
      },
      "execution_count": 10,
      "outputs": [
        {
          "output_type": "stream",
          "name": "stdout",
          "text": [
            "Total number of rows in dataset = 614\n",
            "Total number of columns in dataset = 6\n"
          ]
        }
      ]
    },
    {
      "cell_type": "code",
      "source": [
        "result = resumetable(df)\n",
        "result"
      ],
      "metadata": {
        "colab": {
          "base_uri": "https://localhost:8080/",
          "height": 255
        },
        "id": "iQQHOoI3LWns",
        "outputId": "88434df0-73dc-41bc-b6c2-8689b02f6d16"
      },
      "execution_count": 11,
      "outputs": [
        {
          "output_type": "stream",
          "name": "stdout",
          "text": [
            "Dataset Shape: (614, 6)\n"
          ]
        },
        {
          "output_type": "execute_result",
          "data": {
            "text/plain": [
              "                Name   dtypes  Missing  Uniques First Value Second Value\n",
              "0    ApplicantIncome  float64        2      503      5849.0       4583.0\n",
              "1  CoapplicantIncome  float64        2      287         0.0       1508.0\n",
              "2         LoanAmount  float64        3      203         0.0        128.0\n",
              "3   Loan_Amount_Term  float64        2       11       360.0        360.0\n",
              "4     Credit_History   object        0        2         Yes          Yes\n",
              "5        Loan_Status    int64        0        2           1            0"
            ],
            "text/html": [
              "\n",
              "  <div id=\"df-8de03488-24ea-40ad-abac-85e7b1832908\">\n",
              "    <div class=\"colab-df-container\">\n",
              "      <div>\n",
              "<style scoped>\n",
              "    .dataframe tbody tr th:only-of-type {\n",
              "        vertical-align: middle;\n",
              "    }\n",
              "\n",
              "    .dataframe tbody tr th {\n",
              "        vertical-align: top;\n",
              "    }\n",
              "\n",
              "    .dataframe thead th {\n",
              "        text-align: right;\n",
              "    }\n",
              "</style>\n",
              "<table border=\"1\" class=\"dataframe\">\n",
              "  <thead>\n",
              "    <tr style=\"text-align: right;\">\n",
              "      <th></th>\n",
              "      <th>Name</th>\n",
              "      <th>dtypes</th>\n",
              "      <th>Missing</th>\n",
              "      <th>Uniques</th>\n",
              "      <th>First Value</th>\n",
              "      <th>Second Value</th>\n",
              "    </tr>\n",
              "  </thead>\n",
              "  <tbody>\n",
              "    <tr>\n",
              "      <th>0</th>\n",
              "      <td>ApplicantIncome</td>\n",
              "      <td>float64</td>\n",
              "      <td>2</td>\n",
              "      <td>503</td>\n",
              "      <td>5849.0</td>\n",
              "      <td>4583.0</td>\n",
              "    </tr>\n",
              "    <tr>\n",
              "      <th>1</th>\n",
              "      <td>CoapplicantIncome</td>\n",
              "      <td>float64</td>\n",
              "      <td>2</td>\n",
              "      <td>287</td>\n",
              "      <td>0.0</td>\n",
              "      <td>1508.0</td>\n",
              "    </tr>\n",
              "    <tr>\n",
              "      <th>2</th>\n",
              "      <td>LoanAmount</td>\n",
              "      <td>float64</td>\n",
              "      <td>3</td>\n",
              "      <td>203</td>\n",
              "      <td>0.0</td>\n",
              "      <td>128.0</td>\n",
              "    </tr>\n",
              "    <tr>\n",
              "      <th>3</th>\n",
              "      <td>Loan_Amount_Term</td>\n",
              "      <td>float64</td>\n",
              "      <td>2</td>\n",
              "      <td>11</td>\n",
              "      <td>360.0</td>\n",
              "      <td>360.0</td>\n",
              "    </tr>\n",
              "    <tr>\n",
              "      <th>4</th>\n",
              "      <td>Credit_History</td>\n",
              "      <td>object</td>\n",
              "      <td>0</td>\n",
              "      <td>2</td>\n",
              "      <td>Yes</td>\n",
              "      <td>Yes</td>\n",
              "    </tr>\n",
              "    <tr>\n",
              "      <th>5</th>\n",
              "      <td>Loan_Status</td>\n",
              "      <td>int64</td>\n",
              "      <td>0</td>\n",
              "      <td>2</td>\n",
              "      <td>1</td>\n",
              "      <td>0</td>\n",
              "    </tr>\n",
              "  </tbody>\n",
              "</table>\n",
              "</div>\n",
              "      <button class=\"colab-df-convert\" onclick=\"convertToInteractive('df-8de03488-24ea-40ad-abac-85e7b1832908')\"\n",
              "              title=\"Convert this dataframe to an interactive table.\"\n",
              "              style=\"display:none;\">\n",
              "        \n",
              "  <svg xmlns=\"http://www.w3.org/2000/svg\" height=\"24px\"viewBox=\"0 0 24 24\"\n",
              "       width=\"24px\">\n",
              "    <path d=\"M0 0h24v24H0V0z\" fill=\"none\"/>\n",
              "    <path d=\"M18.56 5.44l.94 2.06.94-2.06 2.06-.94-2.06-.94-.94-2.06-.94 2.06-2.06.94zm-11 1L8.5 8.5l.94-2.06 2.06-.94-2.06-.94L8.5 2.5l-.94 2.06-2.06.94zm10 10l.94 2.06.94-2.06 2.06-.94-2.06-.94-.94-2.06-.94 2.06-2.06.94z\"/><path d=\"M17.41 7.96l-1.37-1.37c-.4-.4-.92-.59-1.43-.59-.52 0-1.04.2-1.43.59L10.3 9.45l-7.72 7.72c-.78.78-.78 2.05 0 2.83L4 21.41c.39.39.9.59 1.41.59.51 0 1.02-.2 1.41-.59l7.78-7.78 2.81-2.81c.8-.78.8-2.07 0-2.86zM5.41 20L4 18.59l7.72-7.72 1.47 1.35L5.41 20z\"/>\n",
              "  </svg>\n",
              "      </button>\n",
              "      \n",
              "  <style>\n",
              "    .colab-df-container {\n",
              "      display:flex;\n",
              "      flex-wrap:wrap;\n",
              "      gap: 12px;\n",
              "    }\n",
              "\n",
              "    .colab-df-convert {\n",
              "      background-color: #E8F0FE;\n",
              "      border: none;\n",
              "      border-radius: 50%;\n",
              "      cursor: pointer;\n",
              "      display: none;\n",
              "      fill: #1967D2;\n",
              "      height: 32px;\n",
              "      padding: 0 0 0 0;\n",
              "      width: 32px;\n",
              "    }\n",
              "\n",
              "    .colab-df-convert:hover {\n",
              "      background-color: #E2EBFA;\n",
              "      box-shadow: 0px 1px 2px rgba(60, 64, 67, 0.3), 0px 1px 3px 1px rgba(60, 64, 67, 0.15);\n",
              "      fill: #174EA6;\n",
              "    }\n",
              "\n",
              "    [theme=dark] .colab-df-convert {\n",
              "      background-color: #3B4455;\n",
              "      fill: #D2E3FC;\n",
              "    }\n",
              "\n",
              "    [theme=dark] .colab-df-convert:hover {\n",
              "      background-color: #434B5C;\n",
              "      box-shadow: 0px 1px 3px 1px rgba(0, 0, 0, 0.15);\n",
              "      filter: drop-shadow(0px 1px 2px rgba(0, 0, 0, 0.3));\n",
              "      fill: #FFFFFF;\n",
              "    }\n",
              "  </style>\n",
              "\n",
              "      <script>\n",
              "        const buttonEl =\n",
              "          document.querySelector('#df-8de03488-24ea-40ad-abac-85e7b1832908 button.colab-df-convert');\n",
              "        buttonEl.style.display =\n",
              "          google.colab.kernel.accessAllowed ? 'block' : 'none';\n",
              "\n",
              "        async function convertToInteractive(key) {\n",
              "          const element = document.querySelector('#df-8de03488-24ea-40ad-abac-85e7b1832908');\n",
              "          const dataTable =\n",
              "            await google.colab.kernel.invokeFunction('convertToInteractive',\n",
              "                                                     [key], {});\n",
              "          if (!dataTable) return;\n",
              "\n",
              "          const docLinkHtml = 'Like what you see? Visit the ' +\n",
              "            '<a target=\"_blank\" href=https://colab.research.google.com/notebooks/data_table.ipynb>data table notebook</a>'\n",
              "            + ' to learn more about interactive tables.';\n",
              "          element.innerHTML = '';\n",
              "          dataTable['output_type'] = 'display_data';\n",
              "          await google.colab.output.renderOutput(dataTable, element);\n",
              "          const docLink = document.createElement('div');\n",
              "          docLink.innerHTML = docLinkHtml;\n",
              "          element.appendChild(docLink);\n",
              "        }\n",
              "      </script>\n",
              "    </div>\n",
              "  </div>\n",
              "  "
            ]
          },
          "metadata": {},
          "execution_count": 11
        }
      ]
    },
    {
      "cell_type": "code",
      "source": [
        "target_col = \"Loan_Status\"\n",
        "X = df.loc[:, df.columns != target_col]\n",
        "y = df.loc[:, target_col]"
      ],
      "metadata": {
        "id": "t53HQEfPLbgg"
      },
      "execution_count": 12,
      "outputs": []
    },
    {
      "cell_type": "code",
      "source": [
        "X_train, X_test, y_train, y_test = train_test_split(X, y,              # separate the x and y in training and testing dataset\n",
        "                                                    test_size=0.33, \n",
        "                                                    random_state=42)\n"
      ],
      "metadata": {
        "id": "jTDWi-PULeqY"
      },
      "execution_count": 13,
      "outputs": []
    },
    {
      "cell_type": "code",
      "source": [
        "X_train.head()"
      ],
      "metadata": {
        "colab": {
          "base_uri": "https://localhost:8080/",
          "height": 206
        },
        "id": "cfK1cmY6LhBp",
        "outputId": "09a845f1-cb29-4ace-acce-7c37d789f90a"
      },
      "execution_count": 14,
      "outputs": [
        {
          "output_type": "execute_result",
          "data": {
            "text/plain": [
              "     ApplicantIncome  CoapplicantIncome  LoanAmount  Loan_Amount_Term  \\\n",
              "244           3406.0             4417.0       123.0             360.0   \n",
              "393           1993.0             1625.0       113.0             180.0   \n",
              "310           2917.0                0.0        84.0             360.0   \n",
              "408           8300.0                0.0       152.0             300.0   \n",
              "572          16666.0                0.0       275.0             360.0   \n",
              "\n",
              "    Credit_History  \n",
              "244            Yes  \n",
              "393            Yes  \n",
              "310            Yes  \n",
              "408             No  \n",
              "572            Yes  "
            ],
            "text/html": [
              "\n",
              "  <div id=\"df-f749895d-a61f-41f1-b357-ec56a64ad2f6\">\n",
              "    <div class=\"colab-df-container\">\n",
              "      <div>\n",
              "<style scoped>\n",
              "    .dataframe tbody tr th:only-of-type {\n",
              "        vertical-align: middle;\n",
              "    }\n",
              "\n",
              "    .dataframe tbody tr th {\n",
              "        vertical-align: top;\n",
              "    }\n",
              "\n",
              "    .dataframe thead th {\n",
              "        text-align: right;\n",
              "    }\n",
              "</style>\n",
              "<table border=\"1\" class=\"dataframe\">\n",
              "  <thead>\n",
              "    <tr style=\"text-align: right;\">\n",
              "      <th></th>\n",
              "      <th>ApplicantIncome</th>\n",
              "      <th>CoapplicantIncome</th>\n",
              "      <th>LoanAmount</th>\n",
              "      <th>Loan_Amount_Term</th>\n",
              "      <th>Credit_History</th>\n",
              "    </tr>\n",
              "  </thead>\n",
              "  <tbody>\n",
              "    <tr>\n",
              "      <th>244</th>\n",
              "      <td>3406.0</td>\n",
              "      <td>4417.0</td>\n",
              "      <td>123.0</td>\n",
              "      <td>360.0</td>\n",
              "      <td>Yes</td>\n",
              "    </tr>\n",
              "    <tr>\n",
              "      <th>393</th>\n",
              "      <td>1993.0</td>\n",
              "      <td>1625.0</td>\n",
              "      <td>113.0</td>\n",
              "      <td>180.0</td>\n",
              "      <td>Yes</td>\n",
              "    </tr>\n",
              "    <tr>\n",
              "      <th>310</th>\n",
              "      <td>2917.0</td>\n",
              "      <td>0.0</td>\n",
              "      <td>84.0</td>\n",
              "      <td>360.0</td>\n",
              "      <td>Yes</td>\n",
              "    </tr>\n",
              "    <tr>\n",
              "      <th>408</th>\n",
              "      <td>8300.0</td>\n",
              "      <td>0.0</td>\n",
              "      <td>152.0</td>\n",
              "      <td>300.0</td>\n",
              "      <td>No</td>\n",
              "    </tr>\n",
              "    <tr>\n",
              "      <th>572</th>\n",
              "      <td>16666.0</td>\n",
              "      <td>0.0</td>\n",
              "      <td>275.0</td>\n",
              "      <td>360.0</td>\n",
              "      <td>Yes</td>\n",
              "    </tr>\n",
              "  </tbody>\n",
              "</table>\n",
              "</div>\n",
              "      <button class=\"colab-df-convert\" onclick=\"convertToInteractive('df-f749895d-a61f-41f1-b357-ec56a64ad2f6')\"\n",
              "              title=\"Convert this dataframe to an interactive table.\"\n",
              "              style=\"display:none;\">\n",
              "        \n",
              "  <svg xmlns=\"http://www.w3.org/2000/svg\" height=\"24px\"viewBox=\"0 0 24 24\"\n",
              "       width=\"24px\">\n",
              "    <path d=\"M0 0h24v24H0V0z\" fill=\"none\"/>\n",
              "    <path d=\"M18.56 5.44l.94 2.06.94-2.06 2.06-.94-2.06-.94-.94-2.06-.94 2.06-2.06.94zm-11 1L8.5 8.5l.94-2.06 2.06-.94-2.06-.94L8.5 2.5l-.94 2.06-2.06.94zm10 10l.94 2.06.94-2.06 2.06-.94-2.06-.94-.94-2.06-.94 2.06-2.06.94z\"/><path d=\"M17.41 7.96l-1.37-1.37c-.4-.4-.92-.59-1.43-.59-.52 0-1.04.2-1.43.59L10.3 9.45l-7.72 7.72c-.78.78-.78 2.05 0 2.83L4 21.41c.39.39.9.59 1.41.59.51 0 1.02-.2 1.41-.59l7.78-7.78 2.81-2.81c.8-.78.8-2.07 0-2.86zM5.41 20L4 18.59l7.72-7.72 1.47 1.35L5.41 20z\"/>\n",
              "  </svg>\n",
              "      </button>\n",
              "      \n",
              "  <style>\n",
              "    .colab-df-container {\n",
              "      display:flex;\n",
              "      flex-wrap:wrap;\n",
              "      gap: 12px;\n",
              "    }\n",
              "\n",
              "    .colab-df-convert {\n",
              "      background-color: #E8F0FE;\n",
              "      border: none;\n",
              "      border-radius: 50%;\n",
              "      cursor: pointer;\n",
              "      display: none;\n",
              "      fill: #1967D2;\n",
              "      height: 32px;\n",
              "      padding: 0 0 0 0;\n",
              "      width: 32px;\n",
              "    }\n",
              "\n",
              "    .colab-df-convert:hover {\n",
              "      background-color: #E2EBFA;\n",
              "      box-shadow: 0px 1px 2px rgba(60, 64, 67, 0.3), 0px 1px 3px 1px rgba(60, 64, 67, 0.15);\n",
              "      fill: #174EA6;\n",
              "    }\n",
              "\n",
              "    [theme=dark] .colab-df-convert {\n",
              "      background-color: #3B4455;\n",
              "      fill: #D2E3FC;\n",
              "    }\n",
              "\n",
              "    [theme=dark] .colab-df-convert:hover {\n",
              "      background-color: #434B5C;\n",
              "      box-shadow: 0px 1px 3px 1px rgba(0, 0, 0, 0.15);\n",
              "      filter: drop-shadow(0px 1px 2px rgba(0, 0, 0, 0.3));\n",
              "      fill: #FFFFFF;\n",
              "    }\n",
              "  </style>\n",
              "\n",
              "      <script>\n",
              "        const buttonEl =\n",
              "          document.querySelector('#df-f749895d-a61f-41f1-b357-ec56a64ad2f6 button.colab-df-convert');\n",
              "        buttonEl.style.display =\n",
              "          google.colab.kernel.accessAllowed ? 'block' : 'none';\n",
              "\n",
              "        async function convertToInteractive(key) {\n",
              "          const element = document.querySelector('#df-f749895d-a61f-41f1-b357-ec56a64ad2f6');\n",
              "          const dataTable =\n",
              "            await google.colab.kernel.invokeFunction('convertToInteractive',\n",
              "                                                     [key], {});\n",
              "          if (!dataTable) return;\n",
              "\n",
              "          const docLinkHtml = 'Like what you see? Visit the ' +\n",
              "            '<a target=\"_blank\" href=https://colab.research.google.com/notebooks/data_table.ipynb>data table notebook</a>'\n",
              "            + ' to learn more about interactive tables.';\n",
              "          element.innerHTML = '';\n",
              "          dataTable['output_type'] = 'display_data';\n",
              "          await google.colab.output.renderOutput(dataTable, element);\n",
              "          const docLink = document.createElement('div');\n",
              "          docLink.innerHTML = docLinkHtml;\n",
              "          element.appendChild(docLink);\n",
              "        }\n",
              "      </script>\n",
              "    </div>\n",
              "  </div>\n",
              "  "
            ]
          },
          "metadata": {},
          "execution_count": 14
        }
      ]
    },
    {
      "cell_type": "code",
      "source": [
        "features = list(X_train.columns)\n"
      ],
      "metadata": {
        "id": "qaZbwRNuLmrd"
      },
      "execution_count": 15,
      "outputs": []
    },
    {
      "cell_type": "code",
      "source": [
        "cat_features = [\"Credit_History\"]\n"
      ],
      "metadata": {
        "id": "TFF99rsMLpjT"
      },
      "execution_count": 16,
      "outputs": []
    },
    {
      "cell_type": "code",
      "source": [
        "model_cb = CatBoostClassifier(task_type='GPU', iterations=100,  # fitting the model\n",
        "                              random_state = 2021, \n",
        "                              eval_metric=\"F1\")\n"
      ],
      "metadata": {
        "id": "K0VjAj6sLtQW"
      },
      "execution_count": 17,
      "outputs": []
    },
    {
      "cell_type": "code",
      "source": [
        "model_cb.fit(X_train, y_train, cat_features= cat_features, plot=True, \n",
        "             eval_set=(X_test, y_test))"
      ],
      "metadata": {
        "colab": {
          "base_uri": "https://localhost:8080/",
          "height": 1000,
          "referenced_widgets": [
            "cec5a495cfb64009b9fa8e7c03fe5e77"
          ]
        },
        "id": "RAoJxK5ELxFd",
        "outputId": "2148bc35-9e7e-4847-dca3-cf6edf1f8d44"
      },
      "execution_count": 18,
      "outputs": [
        {
          "output_type": "display_data",
          "data": {
            "text/plain": [
              "MetricVisualizer(layout=Layout(align_self='stretch', height='500px'))"
            ],
            "application/vnd.jupyter.widget-view+json": {
              "version_major": 2,
              "version_minor": 0,
              "model_id": "cec5a495cfb64009b9fa8e7c03fe5e77"
            }
          },
          "metadata": {}
        },
        {
          "output_type": "stream",
          "name": "stdout",
          "text": [
            "Learning rate set to 0.199227\n",
            "0:\tlearn: 0.8571429\ttest: 0.7885305\tbest: 0.7885305 (0)\ttotal: 6.23ms\tremaining: 617ms\n",
            "1:\tlearn: 0.8553259\ttest: 0.8275862\tbest: 0.8275862 (1)\ttotal: 10.5ms\tremaining: 517ms\n",
            "2:\tlearn: 0.8562300\ttest: 0.8251748\tbest: 0.8275862 (1)\ttotal: 15.4ms\tremaining: 498ms\n",
            "3:\tlearn: 0.8576000\ttest: 0.8309859\tbest: 0.8309859 (3)\ttotal: 20.1ms\tremaining: 483ms\n",
            "4:\tlearn: 0.8557692\ttest: 0.8309859\tbest: 0.8309859 (3)\ttotal: 25.1ms\tremaining: 478ms\n",
            "5:\tlearn: 0.8539326\ttest: 0.8339223\tbest: 0.8339223 (5)\ttotal: 29ms\tremaining: 454ms\n",
            "6:\tlearn: 0.8520900\ttest: 0.8309859\tbest: 0.8339223 (5)\ttotal: 33.8ms\tremaining: 449ms\n",
            "7:\tlearn: 0.8502415\ttest: 0.8398577\tbest: 0.8398577 (7)\ttotal: 37.7ms\tremaining: 434ms\n",
            "8:\tlearn: 0.8520900\ttest: 0.8309859\tbest: 0.8398577 (7)\ttotal: 42.8ms\tremaining: 432ms\n",
            "9:\tlearn: 0.8520900\ttest: 0.8368794\tbest: 0.8398577 (7)\ttotal: 45.7ms\tremaining: 411ms\n",
            "10:\tlearn: 0.8520900\ttest: 0.8309859\tbest: 0.8398577 (7)\ttotal: 50.8ms\tremaining: 411ms\n",
            "11:\tlearn: 0.8539326\ttest: 0.8309859\tbest: 0.8398577 (7)\ttotal: 55.7ms\tremaining: 408ms\n",
            "12:\tlearn: 0.8557692\ttest: 0.8251748\tbest: 0.8398577 (7)\ttotal: 60.5ms\tremaining: 405ms\n",
            "13:\tlearn: 0.8557692\ttest: 0.8251748\tbest: 0.8398577 (7)\ttotal: 64.8ms\tremaining: 398ms\n",
            "14:\tlearn: 0.8557692\ttest: 0.8251748\tbest: 0.8398577 (7)\ttotal: 69.7ms\tremaining: 395ms\n",
            "15:\tlearn: 0.8576000\ttest: 0.8251748\tbest: 0.8398577 (7)\ttotal: 74.5ms\tremaining: 391ms\n",
            "16:\tlearn: 0.8576000\ttest: 0.8309859\tbest: 0.8398577 (7)\ttotal: 79.8ms\tremaining: 390ms\n",
            "17:\tlearn: 0.8576000\ttest: 0.8251748\tbest: 0.8398577 (7)\ttotal: 84.8ms\tremaining: 386ms\n",
            "18:\tlearn: 0.8576000\ttest: 0.8280702\tbest: 0.8398577 (7)\ttotal: 89.7ms\tremaining: 382ms\n",
            "19:\tlearn: 0.8594249\ttest: 0.8280702\tbest: 0.8398577 (7)\ttotal: 94.6ms\tremaining: 378ms\n",
            "20:\tlearn: 0.8612440\ttest: 0.8309859\tbest: 0.8398577 (7)\ttotal: 99.4ms\tremaining: 374ms\n",
            "21:\tlearn: 0.8612440\ttest: 0.8280702\tbest: 0.8398577 (7)\ttotal: 104ms\tremaining: 370ms\n",
            "22:\tlearn: 0.8612440\ttest: 0.8309859\tbest: 0.8398577 (7)\ttotal: 109ms\tremaining: 365ms\n",
            "23:\tlearn: 0.8580542\ttest: 0.8309859\tbest: 0.8398577 (7)\ttotal: 114ms\tremaining: 361ms\n",
            "24:\tlearn: 0.8594249\ttest: 0.8309859\tbest: 0.8398577 (7)\ttotal: 117ms\tremaining: 352ms\n",
            "25:\tlearn: 0.8612440\ttest: 0.8309859\tbest: 0.8398577 (7)\ttotal: 122ms\tremaining: 348ms\n",
            "26:\tlearn: 0.8594249\ttest: 0.8309859\tbest: 0.8398577 (7)\ttotal: 127ms\tremaining: 344ms\n",
            "27:\tlearn: 0.8580542\ttest: 0.8280702\tbest: 0.8398577 (7)\ttotal: 132ms\tremaining: 340ms\n",
            "28:\tlearn: 0.8630573\ttest: 0.8280702\tbest: 0.8398577 (7)\ttotal: 137ms\tremaining: 336ms\n",
            "29:\tlearn: 0.8630573\ttest: 0.8280702\tbest: 0.8398577 (7)\ttotal: 147ms\tremaining: 342ms\n",
            "30:\tlearn: 0.8598726\ttest: 0.8280702\tbest: 0.8398577 (7)\ttotal: 151ms\tremaining: 337ms\n",
            "31:\tlearn: 0.8598726\ttest: 0.8280702\tbest: 0.8398577 (7)\ttotal: 156ms\tremaining: 332ms\n",
            "32:\tlearn: 0.8598726\ttest: 0.8251748\tbest: 0.8398577 (7)\ttotal: 162ms\tremaining: 328ms\n",
            "33:\tlearn: 0.8612440\ttest: 0.8251748\tbest: 0.8398577 (7)\ttotal: 166ms\tremaining: 323ms\n",
            "34:\tlearn: 0.8612440\ttest: 0.8251748\tbest: 0.8398577 (7)\ttotal: 171ms\tremaining: 318ms\n",
            "35:\tlearn: 0.8666667\ttest: 0.8222997\tbest: 0.8398577 (7)\ttotal: 176ms\tremaining: 313ms\n",
            "36:\tlearn: 0.8648649\ttest: 0.8222997\tbest: 0.8398577 (7)\ttotal: 181ms\tremaining: 308ms\n",
            "37:\tlearn: 0.8648649\ttest: 0.8235294\tbest: 0.8398577 (7)\ttotal: 186ms\tremaining: 303ms\n",
            "38:\tlearn: 0.8684628\ttest: 0.8235294\tbest: 0.8398577 (7)\ttotal: 191ms\tremaining: 299ms\n",
            "39:\tlearn: 0.8666667\ttest: 0.8194444\tbest: 0.8398577 (7)\ttotal: 196ms\tremaining: 294ms\n",
            "40:\tlearn: 0.8680445\ttest: 0.8235294\tbest: 0.8398577 (7)\ttotal: 201ms\tremaining: 289ms\n",
            "41:\tlearn: 0.8698413\ttest: 0.8235294\tbest: 0.8398577 (7)\ttotal: 206ms\tremaining: 284ms\n",
            "42:\tlearn: 0.8698413\ttest: 0.8235294\tbest: 0.8398577 (7)\ttotal: 211ms\tremaining: 279ms\n",
            "43:\tlearn: 0.8730159\ttest: 0.8166090\tbest: 0.8398577 (7)\ttotal: 216ms\tremaining: 274ms\n",
            "44:\tlearn: 0.8730159\ttest: 0.8166090\tbest: 0.8398577 (7)\ttotal: 220ms\tremaining: 269ms\n",
            "45:\tlearn: 0.8761905\ttest: 0.8235294\tbest: 0.8398577 (7)\ttotal: 230ms\tremaining: 270ms\n",
            "46:\tlearn: 0.8775835\ttest: 0.8235294\tbest: 0.8398577 (7)\ttotal: 235ms\tremaining: 265ms\n",
            "47:\tlearn: 0.8775835\ttest: 0.8137931\tbest: 0.8398577 (7)\ttotal: 240ms\tremaining: 260ms\n",
            "48:\tlearn: 0.8789809\ttest: 0.8194444\tbest: 0.8398577 (7)\ttotal: 245ms\tremaining: 255ms\n",
            "49:\tlearn: 0.8789809\ttest: 0.8194444\tbest: 0.8398577 (7)\ttotal: 250ms\tremaining: 250ms\n",
            "50:\tlearn: 0.8803828\ttest: 0.8194444\tbest: 0.8398577 (7)\ttotal: 255ms\tremaining: 245ms\n",
            "51:\tlearn: 0.8839428\ttest: 0.8166090\tbest: 0.8398577 (7)\ttotal: 259ms\tremaining: 239ms\n",
            "52:\tlearn: 0.8835726\ttest: 0.8166090\tbest: 0.8398577 (7)\ttotal: 266ms\tremaining: 236ms\n",
            "53:\tlearn: 0.8857143\ttest: 0.8166090\tbest: 0.8398577 (7)\ttotal: 271ms\tremaining: 231ms\n",
            "54:\tlearn: 0.8857143\ttest: 0.8166090\tbest: 0.8398577 (7)\ttotal: 276ms\tremaining: 226ms\n",
            "55:\tlearn: 0.8871224\ttest: 0.8166090\tbest: 0.8398577 (7)\ttotal: 281ms\tremaining: 221ms\n",
            "56:\tlearn: 0.8885350\ttest: 0.8194444\tbest: 0.8398577 (7)\ttotal: 286ms\tremaining: 216ms\n",
            "57:\tlearn: 0.8899522\ttest: 0.8194444\tbest: 0.8398577 (7)\ttotal: 291ms\tremaining: 211ms\n",
            "58:\tlearn: 0.8885350\ttest: 0.8137931\tbest: 0.8398577 (7)\ttotal: 296ms\tremaining: 206ms\n",
            "59:\tlearn: 0.8899522\ttest: 0.8137931\tbest: 0.8398577 (7)\ttotal: 301ms\tremaining: 201ms\n",
            "60:\tlearn: 0.8899522\ttest: 0.8137931\tbest: 0.8398577 (7)\ttotal: 306ms\tremaining: 195ms\n",
            "61:\tlearn: 0.8931419\ttest: 0.8166090\tbest: 0.8398577 (7)\ttotal: 311ms\tremaining: 190ms\n",
            "62:\tlearn: 0.8928000\ttest: 0.8166090\tbest: 0.8398577 (7)\ttotal: 315ms\tremaining: 185ms\n",
            "63:\tlearn: 0.8942308\ttest: 0.8137931\tbest: 0.8398577 (7)\ttotal: 320ms\tremaining: 180ms\n",
            "64:\tlearn: 0.8960000\ttest: 0.8096886\tbest: 0.8398577 (7)\ttotal: 325ms\tremaining: 175ms\n",
            "65:\tlearn: 0.8960000\ttest: 0.8125000\tbest: 0.8398577 (7)\ttotal: 330ms\tremaining: 170ms\n",
            "66:\tlearn: 0.8988764\ttest: 0.8027682\tbest: 0.8398577 (7)\ttotal: 340ms\tremaining: 168ms\n",
            "67:\tlearn: 0.8985507\ttest: 0.8083624\tbest: 0.8398577 (7)\ttotal: 345ms\tremaining: 162ms\n",
            "68:\tlearn: 0.8953301\ttest: 0.8083624\tbest: 0.8398577 (7)\ttotal: 350ms\tremaining: 157ms\n",
            "69:\tlearn: 0.8938907\ttest: 0.8083624\tbest: 0.8398577 (7)\ttotal: 355ms\tremaining: 152ms\n",
            "70:\tlearn: 0.8924559\ttest: 0.8083624\tbest: 0.8398577 (7)\ttotal: 360ms\tremaining: 147ms\n",
            "71:\tlearn: 0.8924559\ttest: 0.8083624\tbest: 0.8398577 (7)\ttotal: 365ms\tremaining: 142ms\n",
            "72:\tlearn: 0.8924559\ttest: 0.8083624\tbest: 0.8398577 (7)\ttotal: 372ms\tremaining: 138ms\n",
            "73:\tlearn: 0.8956661\ttest: 0.8083624\tbest: 0.8398577 (7)\ttotal: 377ms\tremaining: 132ms\n",
            "74:\tlearn: 0.8956661\ttest: 0.8083624\tbest: 0.8398577 (7)\ttotal: 382ms\tremaining: 127ms\n",
            "75:\tlearn: 0.8956661\ttest: 0.8083624\tbest: 0.8398577 (7)\ttotal: 387ms\tremaining: 122ms\n",
            "76:\tlearn: 0.8956661\ttest: 0.8083624\tbest: 0.8398577 (7)\ttotal: 391ms\tremaining: 117ms\n",
            "77:\tlearn: 0.8985507\ttest: 0.8055556\tbest: 0.8398577 (7)\ttotal: 396ms\tremaining: 112ms\n",
            "78:\tlearn: 0.8985507\ttest: 0.8055556\tbest: 0.8398577 (7)\ttotal: 401ms\tremaining: 107ms\n",
            "79:\tlearn: 0.9003215\ttest: 0.8083624\tbest: 0.8398577 (7)\ttotal: 406ms\tremaining: 102ms\n",
            "80:\tlearn: 0.9000000\ttest: 0.8083624\tbest: 0.8398577 (7)\ttotal: 413ms\tremaining: 97ms\n",
            "81:\tlearn: 0.9038462\ttest: 0.8083624\tbest: 0.8398577 (7)\ttotal: 418ms\tremaining: 91.8ms\n",
            "82:\tlearn: 0.9099678\ttest: 0.8083624\tbest: 0.8398577 (7)\ttotal: 423ms\tremaining: 86.7ms\n",
            "83:\tlearn: 0.9143780\ttest: 0.8055556\tbest: 0.8398577 (7)\ttotal: 428ms\tremaining: 81.5ms\n",
            "84:\tlearn: 0.9143780\ttest: 0.8055556\tbest: 0.8398577 (7)\ttotal: 433ms\tremaining: 76.4ms\n",
            "85:\tlearn: 0.9143780\ttest: 0.8055556\tbest: 0.8398577 (7)\ttotal: 438ms\tremaining: 71.3ms\n",
            "86:\tlearn: 0.9143780\ttest: 0.8055556\tbest: 0.8398577 (7)\ttotal: 443ms\tremaining: 66.1ms\n",
            "87:\tlearn: 0.9143780\ttest: 0.8013937\tbest: 0.8398577 (7)\ttotal: 448ms\tremaining: 61.1ms\n",
            "88:\tlearn: 0.9158576\ttest: 0.8013937\tbest: 0.8398577 (7)\ttotal: 453ms\tremaining: 55.9ms\n",
            "89:\tlearn: 0.9158576\ttest: 0.8013937\tbest: 0.8398577 (7)\ttotal: 458ms\tremaining: 50.8ms\n",
            "90:\tlearn: 0.9158576\ttest: 0.8055556\tbest: 0.8398577 (7)\ttotal: 462ms\tremaining: 45.7ms\n",
            "91:\tlearn: 0.9129032\ttest: 0.8013937\tbest: 0.8398577 (7)\ttotal: 467ms\tremaining: 40.6ms\n",
            "92:\tlearn: 0.9129032\ttest: 0.8055556\tbest: 0.8398577 (7)\ttotal: 472ms\tremaining: 35.5ms\n",
            "93:\tlearn: 0.9129032\ttest: 0.8055556\tbest: 0.8398577 (7)\ttotal: 477ms\tremaining: 30.5ms\n",
            "94:\tlearn: 0.9129032\ttest: 0.8055556\tbest: 0.8398577 (7)\ttotal: 482ms\tremaining: 25.4ms\n",
            "95:\tlearn: 0.9143780\ttest: 0.8055556\tbest: 0.8398577 (7)\ttotal: 487ms\tremaining: 20.3ms\n",
            "96:\tlearn: 0.9143780\ttest: 0.8055556\tbest: 0.8398577 (7)\ttotal: 492ms\tremaining: 15.2ms\n",
            "97:\tlearn: 0.9143780\ttest: 0.8055556\tbest: 0.8398577 (7)\ttotal: 497ms\tremaining: 10.1ms\n",
            "98:\tlearn: 0.9143780\ttest: 0.8055556\tbest: 0.8398577 (7)\ttotal: 502ms\tremaining: 5.07ms\n",
            "99:\tlearn: 0.9143780\ttest: 0.8055556\tbest: 0.8398577 (7)\ttotal: 507ms\tremaining: 0us\n",
            "bestTest = 0.8398576512\n",
            "bestIteration = 7\n",
            "Shrink model to first 8 iterations.\n"
          ]
        },
        {
          "output_type": "execute_result",
          "data": {
            "text/plain": [
              "<catboost.core.CatBoostClassifier at 0x7f6fc8920410>"
            ]
          },
          "metadata": {},
          "execution_count": 18
        }
      ]
    },
    {
      "cell_type": "code",
      "source": [
        "y_pred = model_cb.predict(X_test)"
      ],
      "metadata": {
        "id": "Xp1R81T0NL3y"
      },
      "execution_count": 19,
      "outputs": []
    },
    {
      "cell_type": "code",
      "source": [
        "f1_score(y_test,y_pred)"
      ],
      "metadata": {
        "colab": {
          "base_uri": "https://localhost:8080/"
        },
        "id": "PA2uoAxUNWoY",
        "outputId": "78feb9d6-701e-44d0-aa10-a635c679f23c"
      },
      "execution_count": 20,
      "outputs": [
        {
          "output_type": "execute_result",
          "data": {
            "text/plain": [
              "0.8398576512455516"
            ]
          },
          "metadata": {},
          "execution_count": 20
        }
      ]
    }
  ]
}